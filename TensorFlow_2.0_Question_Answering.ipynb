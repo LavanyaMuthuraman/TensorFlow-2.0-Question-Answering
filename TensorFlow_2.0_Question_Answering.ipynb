{
 "cells": [
  {
   "cell_type": "markdown",
   "metadata": {},
   "source": [
    "---\n",
    "\n",
    "# TensorFlow 2.0 Question Answering\n",
    "#### Identify the answers to real user questions about Wikipedia page content \n",
    "\n",
    "---\n",
    "\n",
    "### **Problem Statement**\n",
    "\n",
    "The aim of the  [TensorFlow 2.0 Question Answering](https://www.kaggle.com/competitions/tensorflow2-question-answering/overview) project is to develop a machine learning model that can answer questions based on Wikipedia articles. The model is expected to identify the correct long answer to a question from a given Wikipedia article, and then extract the relevant short answer from the long answer. The project is part of a Kaggle competition that provides a dataset of Wikipedia articles, questions, and answers for training and testing the model. The goal is to develop a model that can achieve high accuracy in answering questions from the test set. The dataset is provided by [Google's Natural Questions](https://ai.google.com/research/NaturalQuestions/dataset) , but contains its own unique private test set. A [visualization](https://ai.google.com/research/NaturalQuestions/visualization) of examples shows long and—where available—short answers.\n",
    "\n",
    "\n",
    "\n",
    "### [Data Fields](https://www.kaggle.com/competitions/tensorflow2-question-answering/data)\n",
    "\n",
    "- `document_text` - the text of the article in question (with some HTML tags to provide document structure). The text can be tokenized by splitting on whitespace.\n",
    "\n",
    "- `question_text` - the question to be answered\n",
    "\n",
    "- `long_answer_candidates` - a JSON array containing all of the plausible long answers.\n",
    "\n",
    "- `annotations` - a JSON array containing all of the correct long + short answers. Only provided for train.\n",
    "\n",
    "- `document_url` - the URL for the full article. Provided for informational purposes only. This is NOT the simplified version of the article so indices from this cannot be used directly. The content may also no longer match the html used to generate document_text. Only provided for train.\n",
    "\n",
    "- `example_id` - unique ID for the sample.\n",
    "\n",
    "\n",
    "---\n",
    "### Table of Contents\n",
    "\n",
    "- 1. Importing the Required Libraries\n",
    "       \n",
    "- 2. Load Data\n",
    "\n",
    "- 3. Exploratory Data Analysis \n",
    "\n",
    "- 4. Part 1 - Identifying Correct Long Answer to a Question\n",
    "\n",
    "   - 5. Texts Pre-processing\n",
    "   - 6. Define Embedding Layer (Using GloVe)\n",
    "   - 7. Defining Model\n",
    "   - 8. Model Evaluation\n",
    "\n",
    "- 9. Part 2 - Extracting Short Answer from a Long Answer\n",
    "\n",
    "  - 10. Defining Model\n",
    "  - 11. Model Evaluation\n",
    "\n",
    "- 12. End Notes\n",
    "---\n",
    "\n",
    "\n",
    "In this notebook to build a model using TensorFlow 2.0 to answer user questions about Wikipedia page content. The model should be able to identify the correct long answer to a question and extract the short answer from the long answer."
   ]
  },
  {
   "cell_type": "markdown",
   "metadata": {},
   "source": [
    "## 1. Importing the Required Libraries"
   ]
  },
  {
   "cell_type": "code",
   "execution_count": 1,
   "metadata": {
    "_cell_guid": "b1076dfc-b9ad-4769-8c92-a6c4dae69d19",
    "_uuid": "8f2839f25d086af736a60e9eeb907d3b93b6e0e5",
    "execution": {
     "iopub.execute_input": "2022-02-16T13:35:10.824588Z",
     "iopub.status.busy": "2022-02-16T13:35:10.823778Z",
     "iopub.status.idle": "2022-02-16T13:35:10.869503Z",
     "shell.execute_reply": "2022-02-16T13:35:10.868731Z",
     "shell.execute_reply.started": "2022-02-16T13:35:10.824481Z"
    }
   },
   "outputs": [
    {
     "name": "stdout",
     "output_type": "stream",
     "text": [
      "/kaggle/input/tensorflow2-question-answering/simplified-nq-train.jsonl\n",
      "/kaggle/input/tensorflow2-question-answering/sample_submission.csv\n",
      "/kaggle/input/tensorflow2-question-answering/simplified-nq-test.jsonl\n",
      "/kaggle/input/glove6b/glove.6B.200d.txt\n",
      "/kaggle/input/glove6b/glove.6B.50d.txt\n",
      "/kaggle/input/glove6b/glove.6B.300d.txt\n",
      "/kaggle/input/glove6b/glove.6B.100d.txt\n"
     ]
    }
   ],
   "source": [
    "# This Python 3 environment comes with many helpful analytics libraries installed\n",
    "# It is defined by the kaggle/python Docker image: https://github.com/kaggle/docker-python\n",
    "# For example, here's several helpful packages to load\n",
    "\n",
    "import numpy as np # linear algebra\n",
    "import pandas as pd # data processing, CSV file I/O (e.g. pd.read_csv)\n",
    "\n",
    "# Input data files are available in the read-only \"../input/\" directory\n",
    "# For example, running this (by clicking run or pressing Shift+Enter) will list all files under the input directory\n",
    "\n",
    "import os\n",
    "for dirname, _, filenames in os.walk('/kaggle/input'):\n",
    "    for filename in filenames:\n",
    "        print(os.path.join(dirname, filename))\n",
    "\n",
    "# You can write up to 20GB to the current directory (/kaggle/working/) that gets preserved as output when you create a version using \"Save & Run All\" \n",
    "# You can also write temporary files to /kaggle/temp/, but they won't be saved outside of the current session"
   ]
  },
  {
   "cell_type": "code",
   "execution_count": 2,
   "metadata": {
    "execution": {
     "iopub.execute_input": "2022-02-16T13:35:13.801854Z",
     "iopub.status.busy": "2022-02-16T13:35:13.801330Z",
     "iopub.status.idle": "2022-02-16T13:35:19.757461Z",
     "shell.execute_reply": "2022-02-16T13:35:19.756689Z",
     "shell.execute_reply.started": "2022-02-16T13:35:13.801815Z"
    }
   },
   "outputs": [],
   "source": [
    "# Provides functions for working with JSON data.\n",
    "import json\n",
    "# tqdm module, which provides a progress bar to track the progress of a loop or iterator.\n",
    "from tqdm.notebook import tqdm\n",
    "# matplotlib module, specifically the pyplot sub-module, which provides functions for creating various types of plots and charts.\n",
    "import matplotlib.pyplot as plt\n",
    "# seaborn module, which provides functions for creating statistical graphics and data visualizations.\n",
    "import seaborn as sns\n",
    "\n",
    "# re module, which provides functions for working with regular expressions.\n",
    "import re\n",
    "# gc module, which provides functions for working with Python's garbage collector.\n",
    "import gc\n",
    "# tensorflow module, which is a popular open-source platform for building and training machine learning models.\n",
    "import tensorflow as tf\n",
    "\n",
    "# stopwords module from the Natural Language Toolkit (nltk), which provides a list of stop words commonly used in the English language.\n",
    "from nltk.corpus import stopwords\n",
    "# CountVectorizer and TfidfVectorizer classes from the feature_extraction.text module of the sklearn library. These classes are used for extracting features from text data.\n",
    "from sklearn.feature_extraction.text import CountVectorizer,TfidfVectorizer\n",
    "\n",
    "# imports several classes and functions from the Keras API within TensorFlow. \n",
    "# These are specific layers and functions used to build deep learning models for natural language processing tasks. \n",
    "# The layers include LSTM, Bidirectional, GlobalMaxPooling1D, SpatialDropout1D, Dense, Dropout, Input, concatenate, Conv1D, Activation, and Flatten.\n",
    "from tensorflow.keras.layers import LSTM, Bidirectional, GlobalMaxPooling1D, SpatialDropout1D, Dense, Dropout, Input, concatenate, Conv1D, Activation, Flatten"
   ]
  },
  {
   "cell_type": "markdown",
   "metadata": {},
   "source": [
    "## 2. Load Data"
   ]
  },
  {
   "cell_type": "code",
   "execution_count": 3,
   "metadata": {
    "execution": {
     "iopub.execute_input": "2022-02-16T13:35:22.221984Z",
     "iopub.status.busy": "2022-02-16T13:35:22.221175Z",
     "iopub.status.idle": "2022-02-16T13:35:22.251621Z",
     "shell.execute_reply": "2022-02-16T13:35:22.250877Z",
     "shell.execute_reply.started": "2022-02-16T13:35:22.221935Z"
    }
   },
   "outputs": [
    {
     "data": {
      "text/html": [
       "<div>\n",
       "<style scoped>\n",
       "    .dataframe tbody tr th:only-of-type {\n",
       "        vertical-align: middle;\n",
       "    }\n",
       "\n",
       "    .dataframe tbody tr th {\n",
       "        vertical-align: top;\n",
       "    }\n",
       "\n",
       "    .dataframe thead th {\n",
       "        text-align: right;\n",
       "    }\n",
       "</style>\n",
       "<table border=\"1\" class=\"dataframe\">\n",
       "  <thead>\n",
       "    <tr style=\"text-align: right;\">\n",
       "      <th></th>\n",
       "      <th>example_id</th>\n",
       "      <th>PredictionString</th>\n",
       "    </tr>\n",
       "  </thead>\n",
       "  <tbody>\n",
       "    <tr>\n",
       "      <th>0</th>\n",
       "      <td>-1011141123527297803_long</td>\n",
       "      <td>NaN</td>\n",
       "    </tr>\n",
       "    <tr>\n",
       "      <th>1</th>\n",
       "      <td>-1011141123527297803_short</td>\n",
       "      <td>NaN</td>\n",
       "    </tr>\n",
       "    <tr>\n",
       "      <th>2</th>\n",
       "      <td>-1028916936938579349_long</td>\n",
       "      <td>NaN</td>\n",
       "    </tr>\n",
       "    <tr>\n",
       "      <th>3</th>\n",
       "      <td>-1028916936938579349_short</td>\n",
       "      <td>NaN</td>\n",
       "    </tr>\n",
       "    <tr>\n",
       "      <th>4</th>\n",
       "      <td>-1055197305756217938_long</td>\n",
       "      <td>NaN</td>\n",
       "    </tr>\n",
       "    <tr>\n",
       "      <th>5</th>\n",
       "      <td>-1055197305756217938_short</td>\n",
       "      <td>NaN</td>\n",
       "    </tr>\n",
       "    <tr>\n",
       "      <th>6</th>\n",
       "      <td>-1074129516932871805_long</td>\n",
       "      <td>NaN</td>\n",
       "    </tr>\n",
       "    <tr>\n",
       "      <th>7</th>\n",
       "      <td>-1074129516932871805_short</td>\n",
       "      <td>NaN</td>\n",
       "    </tr>\n",
       "    <tr>\n",
       "      <th>8</th>\n",
       "      <td>-1114334749483663139_long</td>\n",
       "      <td>NaN</td>\n",
       "    </tr>\n",
       "    <tr>\n",
       "      <th>9</th>\n",
       "      <td>-1114334749483663139_short</td>\n",
       "      <td>NaN</td>\n",
       "    </tr>\n",
       "    <tr>\n",
       "      <th>10</th>\n",
       "      <td>-1152268629614456016_long</td>\n",
       "      <td>NaN</td>\n",
       "    </tr>\n",
       "    <tr>\n",
       "      <th>11</th>\n",
       "      <td>-1152268629614456016_short</td>\n",
       "      <td>NaN</td>\n",
       "    </tr>\n",
       "    <tr>\n",
       "      <th>12</th>\n",
       "      <td>-1219507076732106786_long</td>\n",
       "      <td>NaN</td>\n",
       "    </tr>\n",
       "    <tr>\n",
       "      <th>13</th>\n",
       "      <td>-1219507076732106786_short</td>\n",
       "      <td>NaN</td>\n",
       "    </tr>\n",
       "    <tr>\n",
       "      <th>14</th>\n",
       "      <td>-1220107454853145579_long</td>\n",
       "      <td>NaN</td>\n",
       "    </tr>\n",
       "    <tr>\n",
       "      <th>15</th>\n",
       "      <td>-1220107454853145579_short</td>\n",
       "      <td>NaN</td>\n",
       "    </tr>\n",
       "    <tr>\n",
       "      <th>16</th>\n",
       "      <td>-1237358188352001279_long</td>\n",
       "      <td>NaN</td>\n",
       "    </tr>\n",
       "    <tr>\n",
       "      <th>17</th>\n",
       "      <td>-1237358188352001279_short</td>\n",
       "      <td>NaN</td>\n",
       "    </tr>\n",
       "    <tr>\n",
       "      <th>18</th>\n",
       "      <td>-1316307078555615068_long</td>\n",
       "      <td>NaN</td>\n",
       "    </tr>\n",
       "    <tr>\n",
       "      <th>19</th>\n",
       "      <td>-1316307078555615068_short</td>\n",
       "      <td>NaN</td>\n",
       "    </tr>\n",
       "  </tbody>\n",
       "</table>\n",
       "</div>"
      ],
      "text/plain": [
       "                    example_id  PredictionString\n",
       "0    -1011141123527297803_long               NaN\n",
       "1   -1011141123527297803_short               NaN\n",
       "2    -1028916936938579349_long               NaN\n",
       "3   -1028916936938579349_short               NaN\n",
       "4    -1055197305756217938_long               NaN\n",
       "5   -1055197305756217938_short               NaN\n",
       "6    -1074129516932871805_long               NaN\n",
       "7   -1074129516932871805_short               NaN\n",
       "8    -1114334749483663139_long               NaN\n",
       "9   -1114334749483663139_short               NaN\n",
       "10   -1152268629614456016_long               NaN\n",
       "11  -1152268629614456016_short               NaN\n",
       "12   -1219507076732106786_long               NaN\n",
       "13  -1219507076732106786_short               NaN\n",
       "14   -1220107454853145579_long               NaN\n",
       "15  -1220107454853145579_short               NaN\n",
       "16   -1237358188352001279_long               NaN\n",
       "17  -1237358188352001279_short               NaN\n",
       "18   -1316307078555615068_long               NaN\n",
       "19  -1316307078555615068_short               NaN"
      ]
     },
     "execution_count": 3,
     "metadata": {},
     "output_type": "execute_result"
    }
   ],
   "source": [
    "#reading data\n",
    "sample_submission = pd.read_csv(\"../input/tensorflow2-question-answering/sample_submission.csv\")\n",
    "sample_submission.head(20)"
   ]
  },
  {
   "cell_type": "code",
   "execution_count": 4,
   "metadata": {
    "execution": {
     "iopub.execute_input": "2022-02-16T13:35:25.068930Z",
     "iopub.status.busy": "2022-02-16T13:35:25.068340Z",
     "iopub.status.idle": "2022-02-16T13:35:25.073070Z",
     "shell.execute_reply": "2022-02-16T13:35:25.072366Z",
     "shell.execute_reply.started": "2022-02-16T13:35:25.068894Z"
    }
   },
   "outputs": [],
   "source": [
    "#path for data files\n",
    "train_path = '../input/tensorflow2-question-answering/simplified-nq-train.jsonl'\n",
    "test_path = '../input/tensorflow2-question-answering/simplified-nq-test.jsonl'"
   ]
  },
  {
   "cell_type": "markdown",
   "metadata": {},
   "source": [
    "The **chunksize** parameter is often used when working with large datasets, as it allows the program to load the data in smaller increments and perform analysis or transformations on each chunk before moving on to the next one. This can help to reduce memory usage and improve the overall performance of the program."
   ]
  },
  {
   "cell_type": "code",
   "execution_count": 5,
   "metadata": {
    "execution": {
     "iopub.execute_input": "2022-02-16T13:35:26.992348Z",
     "iopub.status.busy": "2022-02-16T13:35:26.992042Z",
     "iopub.status.idle": "2022-02-16T13:35:26.997129Z",
     "shell.execute_reply": "2022-02-16T13:35:26.996302Z",
     "shell.execute_reply.started": "2022-02-16T13:35:26.992315Z"
    }
   },
   "outputs": [],
   "source": [
    "# read in chunks of 2000 lines at a time\n",
    "chunksize=2000"
   ]
  },
  {
   "cell_type": "code",
   "execution_count": 6,
   "metadata": {
    "execution": {
     "iopub.execute_input": "2022-02-16T13:35:29.179832Z",
     "iopub.status.busy": "2022-02-16T13:35:29.179538Z",
     "iopub.status.idle": "2022-02-16T13:35:32.929850Z",
     "shell.execute_reply": "2022-02-16T13:35:32.929061Z",
     "shell.execute_reply.started": "2022-02-16T13:35:29.179800Z"
    }
   },
   "outputs": [
    {
     "name": "stdout",
     "output_type": "stream",
     "text": [
      "Sample data have 2000 rows and 6 columns\n",
      "Sample data have 346 rows and 4 columns\n"
     ]
    },
    {
     "data": {
      "text/html": [
       "<div>\n",
       "<style scoped>\n",
       "    .dataframe tbody tr th:only-of-type {\n",
       "        vertical-align: middle;\n",
       "    }\n",
       "\n",
       "    .dataframe tbody tr th {\n",
       "        vertical-align: top;\n",
       "    }\n",
       "\n",
       "    .dataframe thead th {\n",
       "        text-align: right;\n",
       "    }\n",
       "</style>\n",
       "<table border=\"1\" class=\"dataframe\">\n",
       "  <thead>\n",
       "    <tr style=\"text-align: right;\">\n",
       "      <th></th>\n",
       "      <th>document_text</th>\n",
       "      <th>long_answer_candidates</th>\n",
       "      <th>question_text</th>\n",
       "      <th>annotations</th>\n",
       "      <th>document_url</th>\n",
       "      <th>example_id</th>\n",
       "    </tr>\n",
       "  </thead>\n",
       "  <tbody>\n",
       "    <tr>\n",
       "      <th>0</th>\n",
       "      <td>Email marketing - Wikipedia &lt;H1&gt; Email marketi...</td>\n",
       "      <td>[{'start_token': 14, 'top_level': True, 'end_t...</td>\n",
       "      <td>which is the most common use of opt-in e-mail ...</td>\n",
       "      <td>[{'yes_no_answer': 'NONE', 'long_answer': {'st...</td>\n",
       "      <td>https://en.wikipedia.org//w/index.php?title=Em...</td>\n",
       "      <td>5655493461695504401</td>\n",
       "    </tr>\n",
       "    <tr>\n",
       "      <th>1</th>\n",
       "      <td>The Mother ( How I Met Your Mother ) - wikiped...</td>\n",
       "      <td>[{'start_token': 28, 'top_level': True, 'end_t...</td>\n",
       "      <td>how i.met your mother who is the mother</td>\n",
       "      <td>[{'yes_no_answer': 'NONE', 'long_answer': {'st...</td>\n",
       "      <td>https://en.wikipedia.org//w/index.php?title=Th...</td>\n",
       "      <td>5328212470870865242</td>\n",
       "    </tr>\n",
       "    <tr>\n",
       "      <th>2</th>\n",
       "      <td>Human fertilization - wikipedia &lt;H1&gt; Human fer...</td>\n",
       "      <td>[{'start_token': 14, 'top_level': True, 'end_t...</td>\n",
       "      <td>what type of fertilisation takes place in humans</td>\n",
       "      <td>[{'yes_no_answer': 'NONE', 'long_answer': {'st...</td>\n",
       "      <td>https://en.wikipedia.org//w/index.php?title=Hu...</td>\n",
       "      <td>4435104480114867852</td>\n",
       "    </tr>\n",
       "    <tr>\n",
       "      <th>3</th>\n",
       "      <td>List of National Football League career quarte...</td>\n",
       "      <td>[{'start_token': 28, 'top_level': True, 'end_t...</td>\n",
       "      <td>who had the most wins in the nfl</td>\n",
       "      <td>[{'yes_no_answer': 'NONE', 'long_answer': {'st...</td>\n",
       "      <td>https://en.wikipedia.org//w/index.php?title=Li...</td>\n",
       "      <td>5289242154789678439</td>\n",
       "    </tr>\n",
       "    <tr>\n",
       "      <th>4</th>\n",
       "      <td>Roanoke Colony - wikipedia &lt;H1&gt; Roanoke Colony...</td>\n",
       "      <td>[{'start_token': 32, 'top_level': True, 'end_t...</td>\n",
       "      <td>what happened to the lost settlement of roanoke</td>\n",
       "      <td>[{'yes_no_answer': 'NONE', 'long_answer': {'st...</td>\n",
       "      <td>https://en.wikipedia.org//w/index.php?title=Ro...</td>\n",
       "      <td>5489863933082811018</td>\n",
       "    </tr>\n",
       "  </tbody>\n",
       "</table>\n",
       "</div>"
      ],
      "text/plain": [
       "                                       document_text  \\\n",
       "0  Email marketing - Wikipedia <H1> Email marketi...   \n",
       "1  The Mother ( How I Met Your Mother ) - wikiped...   \n",
       "2  Human fertilization - wikipedia <H1> Human fer...   \n",
       "3  List of National Football League career quarte...   \n",
       "4  Roanoke Colony - wikipedia <H1> Roanoke Colony...   \n",
       "\n",
       "                              long_answer_candidates  \\\n",
       "0  [{'start_token': 14, 'top_level': True, 'end_t...   \n",
       "1  [{'start_token': 28, 'top_level': True, 'end_t...   \n",
       "2  [{'start_token': 14, 'top_level': True, 'end_t...   \n",
       "3  [{'start_token': 28, 'top_level': True, 'end_t...   \n",
       "4  [{'start_token': 32, 'top_level': True, 'end_t...   \n",
       "\n",
       "                                       question_text  \\\n",
       "0  which is the most common use of opt-in e-mail ...   \n",
       "1            how i.met your mother who is the mother   \n",
       "2   what type of fertilisation takes place in humans   \n",
       "3                   who had the most wins in the nfl   \n",
       "4    what happened to the lost settlement of roanoke   \n",
       "\n",
       "                                         annotations  \\\n",
       "0  [{'yes_no_answer': 'NONE', 'long_answer': {'st...   \n",
       "1  [{'yes_no_answer': 'NONE', 'long_answer': {'st...   \n",
       "2  [{'yes_no_answer': 'NONE', 'long_answer': {'st...   \n",
       "3  [{'yes_no_answer': 'NONE', 'long_answer': {'st...   \n",
       "4  [{'yes_no_answer': 'NONE', 'long_answer': {'st...   \n",
       "\n",
       "                                        document_url           example_id  \n",
       "0  https://en.wikipedia.org//w/index.php?title=Em...  5655493461695504401  \n",
       "1  https://en.wikipedia.org//w/index.php?title=Th...  5328212470870865242  \n",
       "2  https://en.wikipedia.org//w/index.php?title=Hu...  4435104480114867852  \n",
       "3  https://en.wikipedia.org//w/index.php?title=Li...  5289242154789678439  \n",
       "4  https://en.wikipedia.org//w/index.php?title=Ro...  5489863933082811018  "
      ]
     },
     "execution_count": 6,
     "metadata": {},
     "output_type": "execute_result"
    }
   ],
   "source": [
    "#read a sample of data files\n",
    "def read_data(path, sample = True, chunksize = chunksize):\n",
    "    if sample == True:\n",
    "        df = []\n",
    "        with open(path, 'r') as reader:\n",
    "            for i in range(chunksize):\n",
    "                df.append(json.loads(reader.readline()))\n",
    "        df = pd.DataFrame(df)\n",
    "        print('Sample data have {} rows and {} columns'.format(df.shape[0], df.shape[1]))\n",
    "    else:\n",
    "        df = pd.read_json(path, orient = 'records', lines = True)\n",
    "        print('Sample data have {} rows and {} columns'.format(df.shape[0], df.shape[1]))\n",
    "        gc.collect()\n",
    "    return df\n",
    "\n",
    "train = read_data(train_path, sample = True)\n",
    "test = read_data(test_path, sample = False)\n",
    "train.head()"
   ]
  },
  {
   "cell_type": "markdown",
   "metadata": {},
   "source": [
    "## 3. Exploratory Data Analysis\n",
    "Exploratory Data Analysis (EDA) is an important step in any data science project, including a TensorFlow 2.0 Question Answering project. EDA allows you to gain a better understanding of the dataset you are working with, identify patterns and trends, and potentially discover issues such as missing values or outliers that need to be addressed.\n",
    "\n",
    "For a Question Answering project, EDA can help you identify the distribution of question types, the distribution of answer lengths, and any relationships between the questions and answers. This information can be useful for developing and fine-tuning your model, as well as identifying potential biases in the dataset.\n",
    "\n",
    "Additionally, EDA can help you identify any issues with the data that may affect the accuracy of your model, such as inconsistent formatting or ambiguous or poorly worded questions. By identifying these issues early on, you can take steps to address them and improve the overall quality of your dataset."
   ]
  },
  {
   "cell_type": "code",
   "execution_count": 7,
   "metadata": {
    "execution": {
     "iopub.execute_input": "2022-02-16T13:35:37.312366Z",
     "iopub.status.busy": "2022-02-16T13:35:37.311490Z",
     "iopub.status.idle": "2022-02-16T13:35:38.313086Z",
     "shell.execute_reply": "2022-02-16T13:35:38.312317Z",
     "shell.execute_reply.started": "2022-02-16T13:35:37.312315Z"
    }
   },
   "outputs": [
    {
     "name": "stdout",
     "output_type": "stream",
     "text": [
      "Sample data have 2000 rows and 6 columns\n",
      "how i.met your mother who is the mother\n",
      "[{'yes_no_answer': 'NONE', 'long_answer': {'start_token': 212, 'candidate_index': 15, 'end_token': 310}, 'short_answers': [{'start_token': 213, 'end_token': 215}], 'annotation_id': 12034874153783787365}]\n"
     ]
    }
   ],
   "source": [
    "#read in and access data from a DataFrame object\n",
    "df = read_data(train_path, sample = True)\n",
    "print(df['question_text'][1])\n",
    "print(df['annotations'][1])"
   ]
  },
  {
   "cell_type": "code",
   "execution_count": 8,
   "metadata": {
    "execution": {
     "iopub.execute_input": "2022-02-16T13:35:40.079842Z",
     "iopub.status.busy": "2022-02-16T13:35:40.079112Z",
     "iopub.status.idle": "2022-02-16T13:35:41.238282Z",
     "shell.execute_reply": "2022-02-16T13:35:41.237591Z",
     "shell.execute_reply.started": "2022-02-16T13:35:40.079804Z"
    }
   },
   "outputs": [
    {
     "data": {
      "text/plain": [
       "Text(0.5, 1.0, 'Distribution of text word count of 2000 documents')"
      ]
     },
     "execution_count": 8,
     "metadata": {},
     "output_type": "execute_result"
    },
    {
     "data": {
      "image/png": "[encoded data removed]",
      "text/plain": [
       "<Figure size 864x432 with 1 Axes>"
      ]
     },
     "metadata": {
      "needs_background": "light"
     },
     "output_type": "display_data"
    }
   ],
   "source": [
    "#check the distribution of word count in sample 10000 documents\n",
    "doc_text_words = df['document_text'].apply(lambda x: len(x.split(' ')))\n",
    "plt.figure(figsize=(12,6))\n",
    "sns.kdeplot(doc_text_words.values,shade=True, color=\"r\").set_title('Distribution of text word count of ' + str(chunksize) + ' documents')"
   ]
  },
  {
   "cell_type": "code",
   "execution_count": 9,
   "metadata": {
    "execution": {
     "iopub.execute_input": "2022-02-16T13:35:45.303100Z",
     "iopub.status.busy": "2022-02-16T13:35:45.302537Z",
     "iopub.status.idle": "2022-02-16T13:35:45.309489Z",
     "shell.execute_reply": "2022-02-16T13:35:45.308756Z",
     "shell.execute_reply.started": "2022-02-16T13:35:45.303061Z"
    }
   },
   "outputs": [
    {
     "data": {
      "text/plain": [
       "[{'start_token': 14, 'top_level': True, 'end_token': 170},\n",
       " {'start_token': 15, 'top_level': False, 'end_token': 169},\n",
       " {'start_token': 52, 'top_level': False, 'end_token': 103},\n",
       " {'start_token': 53, 'top_level': False, 'end_token': 102},\n",
       " {'start_token': 103, 'top_level': False, 'end_token': 156}]"
      ]
     },
     "execution_count": 9,
     "metadata": {},
     "output_type": "execute_result"
    }
   ],
   "source": [
    "#long_answer_candidates\n",
    "df.long_answer_candidates[0][:5]"
   ]
  },
  {
   "cell_type": "code",
   "execution_count": 10,
   "metadata": {
    "execution": {
     "iopub.execute_input": "2022-02-16T13:35:47.226105Z",
     "iopub.status.busy": "2022-02-16T13:35:47.225362Z",
     "iopub.status.idle": "2022-02-16T13:35:47.232261Z",
     "shell.execute_reply": "2022-02-16T13:35:47.231299Z",
     "shell.execute_reply.started": "2022-02-16T13:35:47.226067Z"
    }
   },
   "outputs": [
    {
     "data": {
      "text/plain": [
       "[{'yes_no_answer': 'NONE',\n",
       "  'long_answer': {'start_token': 212, 'candidate_index': 15, 'end_token': 310},\n",
       "  'short_answers': [{'start_token': 213, 'end_token': 215}],\n",
       "  'annotation_id': 12034874153783787365}]"
      ]
     },
     "execution_count": 10,
     "metadata": {},
     "output_type": "execute_result"
    }
   ],
   "source": [
    "#data is how formatted and what types of information it contains\n",
    "df.annotations[1][:100]"
   ]
  },
  {
   "cell_type": "code",
   "execution_count": 11,
   "metadata": {
    "execution": {
     "iopub.execute_input": "2022-02-16T13:35:49.778788Z",
     "iopub.status.busy": "2022-02-16T13:35:49.778528Z",
     "iopub.status.idle": "2022-02-16T13:35:49.784972Z",
     "shell.execute_reply": "2022-02-16T13:35:49.784166Z",
     "shell.execute_reply.started": "2022-02-16T13:35:49.778757Z"
    }
   },
   "outputs": [
    {
     "data": {
      "text/plain": [
       "'how i.met your mother who is the mother'"
      ]
     },
     "execution_count": 11,
     "metadata": {},
     "output_type": "execute_result"
    }
   ],
   "source": [
    "df.question_text[1][:100]"
   ]
  },
  {
   "cell_type": "code",
   "execution_count": 12,
   "metadata": {
    "execution": {
     "iopub.execute_input": "2022-02-16T13:35:51.980679Z",
     "iopub.status.busy": "2022-02-16T13:35:51.979980Z",
     "iopub.status.idle": "2022-02-16T13:35:51.986985Z",
     "shell.execute_reply": "2022-02-16T13:35:51.986323Z",
     "shell.execute_reply.started": "2022-02-16T13:35:51.980642Z"
    }
   },
   "outputs": [
    {
     "data": {
      "text/plain": [
       "'List of National Football League career quarterback wins leaders - wikipedia <H1> List of National F'"
      ]
     },
     "execution_count": 12,
     "metadata": {},
     "output_type": "execute_result"
    }
   ],
   "source": [
    "df.document_text[3][:100]"
   ]
  },
  {
   "cell_type": "code",
   "execution_count": 13,
   "metadata": {
    "execution": {
     "iopub.execute_input": "2022-02-16T13:35:54.028520Z",
     "iopub.status.busy": "2022-02-16T13:35:54.027803Z",
     "iopub.status.idle": "2022-02-16T13:35:55.060175Z",
     "shell.execute_reply": "2022-02-16T13:35:55.059491Z",
     "shell.execute_reply.started": "2022-02-16T13:35:54.028482Z"
    }
   },
   "outputs": [
    {
     "name": "stdout",
     "output_type": "stream",
     "text": [
      "Sample data have 2000 rows and 6 columns\n"
     ]
    },
    {
     "data": {
      "text/html": [
       "<div>\n",
       "<style scoped>\n",
       "    .dataframe tbody tr th:only-of-type {\n",
       "        vertical-align: middle;\n",
       "    }\n",
       "\n",
       "    .dataframe tbody tr th {\n",
       "        vertical-align: top;\n",
       "    }\n",
       "\n",
       "    .dataframe thead th {\n",
       "        text-align: right;\n",
       "    }\n",
       "</style>\n",
       "<table border=\"1\" class=\"dataframe\">\n",
       "  <thead>\n",
       "    <tr style=\"text-align: right;\">\n",
       "      <th></th>\n",
       "      <th>document_text</th>\n",
       "      <th>long_answer_candidates</th>\n",
       "      <th>question_text</th>\n",
       "      <th>annotations</th>\n",
       "      <th>document_url</th>\n",
       "      <th>example_id</th>\n",
       "      <th>yes_no</th>\n",
       "      <th>long</th>\n",
       "      <th>short</th>\n",
       "    </tr>\n",
       "  </thead>\n",
       "  <tbody>\n",
       "    <tr>\n",
       "      <th>0</th>\n",
       "      <td>Email marketing - Wikipedia &lt;H1&gt; Email marketi...</td>\n",
       "      <td>[{'start_token': 14, 'top_level': True, 'end_t...</td>\n",
       "      <td>which is the most common use of opt-in e-mail ...</td>\n",
       "      <td>[{'yes_no_answer': 'NONE', 'long_answer': {'st...</td>\n",
       "      <td>https://en.wikipedia.org//w/index.php?title=Em...</td>\n",
       "      <td>5655493461695504401</td>\n",
       "      <td>NONE</td>\n",
       "      <td>[1952, 2019]</td>\n",
       "      <td>[{'start_token': 1960, 'end_token': 1969}]</td>\n",
       "    </tr>\n",
       "    <tr>\n",
       "      <th>1</th>\n",
       "      <td>The Mother ( How I Met Your Mother ) - wikiped...</td>\n",
       "      <td>[{'start_token': 28, 'top_level': True, 'end_t...</td>\n",
       "      <td>how i.met your mother who is the mother</td>\n",
       "      <td>[{'yes_no_answer': 'NONE', 'long_answer': {'st...</td>\n",
       "      <td>https://en.wikipedia.org//w/index.php?title=Th...</td>\n",
       "      <td>5328212470870865242</td>\n",
       "      <td>NONE</td>\n",
       "      <td>[212, 310]</td>\n",
       "      <td>[{'start_token': 213, 'end_token': 215}]</td>\n",
       "    </tr>\n",
       "    <tr>\n",
       "      <th>2</th>\n",
       "      <td>Human fertilization - wikipedia &lt;H1&gt; Human fer...</td>\n",
       "      <td>[{'start_token': 14, 'top_level': True, 'end_t...</td>\n",
       "      <td>what type of fertilisation takes place in humans</td>\n",
       "      <td>[{'yes_no_answer': 'NONE', 'long_answer': {'st...</td>\n",
       "      <td>https://en.wikipedia.org//w/index.php?title=Hu...</td>\n",
       "      <td>4435104480114867852</td>\n",
       "      <td>NONE</td>\n",
       "      <td>[319, 438]</td>\n",
       "      <td>[]</td>\n",
       "    </tr>\n",
       "    <tr>\n",
       "      <th>3</th>\n",
       "      <td>List of National Football League career quarte...</td>\n",
       "      <td>[{'start_token': 28, 'top_level': True, 'end_t...</td>\n",
       "      <td>who had the most wins in the nfl</td>\n",
       "      <td>[{'yes_no_answer': 'NONE', 'long_answer': {'st...</td>\n",
       "      <td>https://en.wikipedia.org//w/index.php?title=Li...</td>\n",
       "      <td>5289242154789678439</td>\n",
       "      <td>NONE</td>\n",
       "      <td>[509, 576]</td>\n",
       "      <td>[{'start_token': 512, 'end_token': 514}]</td>\n",
       "    </tr>\n",
       "    <tr>\n",
       "      <th>4</th>\n",
       "      <td>Roanoke Colony - wikipedia &lt;H1&gt; Roanoke Colony...</td>\n",
       "      <td>[{'start_token': 32, 'top_level': True, 'end_t...</td>\n",
       "      <td>what happened to the lost settlement of roanoke</td>\n",
       "      <td>[{'yes_no_answer': 'NONE', 'long_answer': {'st...</td>\n",
       "      <td>https://en.wikipedia.org//w/index.php?title=Ro...</td>\n",
       "      <td>5489863933082811018</td>\n",
       "      <td>NONE</td>\n",
       "      <td>[-1, -1]</td>\n",
       "      <td>[]</td>\n",
       "    </tr>\n",
       "    <tr>\n",
       "      <th>...</th>\n",
       "      <td>...</td>\n",
       "      <td>...</td>\n",
       "      <td>...</td>\n",
       "      <td>...</td>\n",
       "      <td>...</td>\n",
       "      <td>...</td>\n",
       "      <td>...</td>\n",
       "      <td>...</td>\n",
       "      <td>...</td>\n",
       "    </tr>\n",
       "    <tr>\n",
       "      <th>1995</th>\n",
       "      <td>Grace and Frankie - Wikipedia &lt;H1&gt; Grace and F...</td>\n",
       "      <td>[{'start_token': 10, 'top_level': True, 'end_t...</td>\n",
       "      <td>how long is each grace and frankie episode</td>\n",
       "      <td>[{'yes_no_answer': 'NONE', 'long_answer': {'st...</td>\n",
       "      <td>https://en.wikipedia.org//w/index.php?title=Gr...</td>\n",
       "      <td>-7716384782891686197</td>\n",
       "      <td>NONE</td>\n",
       "      <td>[10, 399]</td>\n",
       "      <td>[{'start_token': 300, 'end_token': 304}]</td>\n",
       "    </tr>\n",
       "    <tr>\n",
       "      <th>1996</th>\n",
       "      <td>Cellular respiration - wikipedia &lt;H1&gt; Cellular...</td>\n",
       "      <td>[{'start_token': 10, 'top_level': True, 'end_t...</td>\n",
       "      <td>after complete oxidation of a glucose molecule...</td>\n",
       "      <td>[{'yes_no_answer': 'NONE', 'long_answer': {'st...</td>\n",
       "      <td>https://en.wikipedia.org//w/index.php?title=Ce...</td>\n",
       "      <td>8933277615800380148</td>\n",
       "      <td>NONE</td>\n",
       "      <td>[780, 883]</td>\n",
       "      <td>[{'start_token': 796, 'end_token': 799}]</td>\n",
       "    </tr>\n",
       "    <tr>\n",
       "      <th>1997</th>\n",
       "      <td>Some Like It Hot ( song ) - wikipedia &lt;H1&gt; Som...</td>\n",
       "      <td>[{'start_token': 18, 'top_level': True, 'end_t...</td>\n",
       "      <td>who sings the song some like it hot</td>\n",
       "      <td>[{'yes_no_answer': 'NONE', 'long_answer': {'st...</td>\n",
       "      <td>https://en.wikipedia.org//w/index.php?title=So...</td>\n",
       "      <td>-6909007989280228395</td>\n",
       "      <td>NONE</td>\n",
       "      <td>[-1, -1]</td>\n",
       "      <td>[]</td>\n",
       "    </tr>\n",
       "    <tr>\n",
       "      <th>1998</th>\n",
       "      <td>Princes in the Tower - wikipedia &lt;H1&gt; Princes ...</td>\n",
       "      <td>[{'start_token': 44, 'top_level': True, 'end_t...</td>\n",
       "      <td>who killed the twins in the tower of london</td>\n",
       "      <td>[{'yes_no_answer': 'NONE', 'long_answer': {'st...</td>\n",
       "      <td>https://en.wikipedia.org//w/index.php?title=Pr...</td>\n",
       "      <td>1501574334625895729</td>\n",
       "      <td>NONE</td>\n",
       "      <td>[-1, -1]</td>\n",
       "      <td>[]</td>\n",
       "    </tr>\n",
       "    <tr>\n",
       "      <th>1999</th>\n",
       "      <td>Pascal and Maximus - wikipedia &lt;H1&gt; Pascal and...</td>\n",
       "      <td>[{'start_token': 10, 'top_level': True, 'end_t...</td>\n",
       "      <td>what is the name of the chameleon in tangled</td>\n",
       "      <td>[{'yes_no_answer': 'NONE', 'long_answer': {'st...</td>\n",
       "      <td>https://en.wikipedia.org//w/index.php?title=Pa...</td>\n",
       "      <td>2281183566755493128</td>\n",
       "      <td>NONE</td>\n",
       "      <td>[2087, 2292]</td>\n",
       "      <td>[{'start_token': 2109, 'end_token': 2110}]</td>\n",
       "    </tr>\n",
       "  </tbody>\n",
       "</table>\n",
       "<p>2000 rows × 9 columns</p>\n",
       "</div>"
      ],
      "text/plain": [
       "                                          document_text  \\\n",
       "0     Email marketing - Wikipedia <H1> Email marketi...   \n",
       "1     The Mother ( How I Met Your Mother ) - wikiped...   \n",
       "2     Human fertilization - wikipedia <H1> Human fer...   \n",
       "3     List of National Football League career quarte...   \n",
       "4     Roanoke Colony - wikipedia <H1> Roanoke Colony...   \n",
       "...                                                 ...   \n",
       "1995  Grace and Frankie - Wikipedia <H1> Grace and F...   \n",
       "1996  Cellular respiration - wikipedia <H1> Cellular...   \n",
       "1997  Some Like It Hot ( song ) - wikipedia <H1> Som...   \n",
       "1998  Princes in the Tower - wikipedia <H1> Princes ...   \n",
       "1999  Pascal and Maximus - wikipedia <H1> Pascal and...   \n",
       "\n",
       "                                 long_answer_candidates  \\\n",
       "0     [{'start_token': 14, 'top_level': True, 'end_t...   \n",
       "1     [{'start_token': 28, 'top_level': True, 'end_t...   \n",
       "2     [{'start_token': 14, 'top_level': True, 'end_t...   \n",
       "3     [{'start_token': 28, 'top_level': True, 'end_t...   \n",
       "4     [{'start_token': 32, 'top_level': True, 'end_t...   \n",
       "...                                                 ...   \n",
       "1995  [{'start_token': 10, 'top_level': True, 'end_t...   \n",
       "1996  [{'start_token': 10, 'top_level': True, 'end_t...   \n",
       "1997  [{'start_token': 18, 'top_level': True, 'end_t...   \n",
       "1998  [{'start_token': 44, 'top_level': True, 'end_t...   \n",
       "1999  [{'start_token': 10, 'top_level': True, 'end_t...   \n",
       "\n",
       "                                          question_text  \\\n",
       "0     which is the most common use of opt-in e-mail ...   \n",
       "1               how i.met your mother who is the mother   \n",
       "2      what type of fertilisation takes place in humans   \n",
       "3                      who had the most wins in the nfl   \n",
       "4       what happened to the lost settlement of roanoke   \n",
       "...                                                 ...   \n",
       "1995         how long is each grace and frankie episode   \n",
       "1996  after complete oxidation of a glucose molecule...   \n",
       "1997                who sings the song some like it hot   \n",
       "1998        who killed the twins in the tower of london   \n",
       "1999       what is the name of the chameleon in tangled   \n",
       "\n",
       "                                            annotations  \\\n",
       "0     [{'yes_no_answer': 'NONE', 'long_answer': {'st...   \n",
       "1     [{'yes_no_answer': 'NONE', 'long_answer': {'st...   \n",
       "2     [{'yes_no_answer': 'NONE', 'long_answer': {'st...   \n",
       "3     [{'yes_no_answer': 'NONE', 'long_answer': {'st...   \n",
       "4     [{'yes_no_answer': 'NONE', 'long_answer': {'st...   \n",
       "...                                                 ...   \n",
       "1995  [{'yes_no_answer': 'NONE', 'long_answer': {'st...   \n",
       "1996  [{'yes_no_answer': 'NONE', 'long_answer': {'st...   \n",
       "1997  [{'yes_no_answer': 'NONE', 'long_answer': {'st...   \n",
       "1998  [{'yes_no_answer': 'NONE', 'long_answer': {'st...   \n",
       "1999  [{'yes_no_answer': 'NONE', 'long_answer': {'st...   \n",
       "\n",
       "                                           document_url           example_id  \\\n",
       "0     https://en.wikipedia.org//w/index.php?title=Em...  5655493461695504401   \n",
       "1     https://en.wikipedia.org//w/index.php?title=Th...  5328212470870865242   \n",
       "2     https://en.wikipedia.org//w/index.php?title=Hu...  4435104480114867852   \n",
       "3     https://en.wikipedia.org//w/index.php?title=Li...  5289242154789678439   \n",
       "4     https://en.wikipedia.org//w/index.php?title=Ro...  5489863933082811018   \n",
       "...                                                 ...                  ...   \n",
       "1995  https://en.wikipedia.org//w/index.php?title=Gr... -7716384782891686197   \n",
       "1996  https://en.wikipedia.org//w/index.php?title=Ce...  8933277615800380148   \n",
       "1997  https://en.wikipedia.org//w/index.php?title=So... -6909007989280228395   \n",
       "1998  https://en.wikipedia.org//w/index.php?title=Pr...  1501574334625895729   \n",
       "1999  https://en.wikipedia.org//w/index.php?title=Pa...  2281183566755493128   \n",
       "\n",
       "     yes_no          long                                       short  \n",
       "0      NONE  [1952, 2019]  [{'start_token': 1960, 'end_token': 1969}]  \n",
       "1      NONE    [212, 310]    [{'start_token': 213, 'end_token': 215}]  \n",
       "2      NONE    [319, 438]                                          []  \n",
       "3      NONE    [509, 576]    [{'start_token': 512, 'end_token': 514}]  \n",
       "4      NONE      [-1, -1]                                          []  \n",
       "...     ...           ...                                         ...  \n",
       "1995   NONE     [10, 399]    [{'start_token': 300, 'end_token': 304}]  \n",
       "1996   NONE    [780, 883]    [{'start_token': 796, 'end_token': 799}]  \n",
       "1997   NONE      [-1, -1]                                          []  \n",
       "1998   NONE      [-1, -1]                                          []  \n",
       "1999   NONE  [2087, 2292]  [{'start_token': 2109, 'end_token': 2110}]  \n",
       "\n",
       "[2000 rows x 9 columns]"
      ]
     },
     "execution_count": 13,
     "metadata": {},
     "output_type": "execute_result"
    }
   ],
   "source": [
    "#check long_answers_distribution\n",
    "def preprocess_data():\n",
    "    df = read_data(train_path, sample = True)\n",
    "    df['yes_no'] = df.annotations.apply(lambda x: x[0]['yes_no_answer'])\n",
    "    df['long'] = df.annotations.apply(lambda x: [x[0]['long_answer']['start_token'], x[0]['long_answer']['end_token']])\n",
    "    df['short'] = df.annotations.apply(lambda x: x[0]['short_answers'])\n",
    "    return df\n",
    "df = preprocess_data()\n",
    "df"
   ]
  },
  {
   "cell_type": "code",
   "execution_count": 14,
   "metadata": {
    "execution": {
     "iopub.execute_input": "2022-02-16T13:35:58.420254Z",
     "iopub.status.busy": "2022-02-16T13:35:58.419582Z",
     "iopub.status.idle": "2022-02-16T13:35:58.428809Z",
     "shell.execute_reply": "2022-02-16T13:35:58.428058Z",
     "shell.execute_reply.started": "2022-02-16T13:35:58.420217Z"
    }
   },
   "outputs": [
    {
     "data": {
      "text/plain": [
       "NONE    1977\n",
       "YES       17\n",
       "NO         6\n",
       "Name: yes_no, dtype: int64"
      ]
     },
     "execution_count": 14,
     "metadata": {},
     "output_type": "execute_result"
    }
   ],
   "source": [
    "df['yes_no'].value_counts()"
   ]
  },
  {
   "cell_type": "code",
   "execution_count": 15,
   "metadata": {
    "execution": {
     "iopub.execute_input": "2022-02-16T13:36:00.800106Z",
     "iopub.status.busy": "2022-02-16T13:36:00.799524Z",
     "iopub.status.idle": "2022-02-16T13:36:00.811323Z",
     "shell.execute_reply": "2022-02-16T13:36:00.810565Z",
     "shell.execute_reply.started": "2022-02-16T13:36:00.800068Z"
    }
   },
   "outputs": [
    {
     "data": {
      "text/plain": [
       "2000"
      ]
     },
     "execution_count": 15,
     "metadata": {},
     "output_type": "execute_result"
    }
   ],
   "source": [
    "# filter the answers that exist\n",
    "df_ans_exists = df.long.apply(lambda x: \"Answer Doesn't exist\" if x == -1 else \"Answer Exists\") == \"Answer Exists\"\n",
    "df_ans_exists.count()"
   ]
  },
  {
   "cell_type": "code",
   "execution_count": 16,
   "metadata": {
    "execution": {
     "iopub.execute_input": "2022-02-16T13:36:03.240302Z",
     "iopub.status.busy": "2022-02-16T13:36:03.239594Z",
     "iopub.status.idle": "2022-02-16T13:36:03.251145Z",
     "shell.execute_reply": "2022-02-16T13:36:03.250259Z",
     "shell.execute_reply.started": "2022-02-16T13:36:03.240249Z"
    }
   },
   "outputs": [
    {
     "data": {
      "text/plain": [
       "Answer Exists           0.519\n",
       "Answer Doesn't exist    0.481\n",
       "Name: long, dtype: float64"
      ]
     },
     "metadata": {},
     "output_type": "display_data"
    }
   ],
   "source": [
    "#check if there are questions that do not have an answer\n",
    "display(df.long.apply(lambda x: \"Answer Doesn't exist\" if x[0] == -1 else \"Answer Exists\").value_counts(normalize=True))"
   ]
  },
  {
   "cell_type": "code",
   "execution_count": 17,
   "metadata": {
    "execution": {
     "iopub.execute_input": "2022-02-16T13:36:04.871120Z",
     "iopub.status.busy": "2022-02-16T13:36:04.870661Z",
     "iopub.status.idle": "2022-02-16T13:36:04.883924Z",
     "shell.execute_reply": "2022-02-16T13:36:04.883215Z",
     "shell.execute_reply.started": "2022-02-16T13:36:04.871082Z"
    }
   },
   "outputs": [
    {
     "data": {
      "text/plain": [
       "NONE    0.9885\n",
       "YES     0.0085\n",
       "NO      0.0030\n",
       "Name: yes_no, dtype: float64"
      ]
     },
     "metadata": {},
     "output_type": "display_data"
    }
   ],
   "source": [
    "#check the dstribution of Yes and No Answers\n",
    "yes_no_dist = df[df_ans_exists].yes_no.value_counts(normalize=True)\n",
    "display(yes_no_dist)"
   ]
  },
  {
   "cell_type": "code",
   "execution_count": 18,
   "metadata": {
    "execution": {
     "iopub.execute_input": "2022-02-16T13:36:07.048370Z",
     "iopub.status.busy": "2022-02-16T13:36:07.047977Z",
     "iopub.status.idle": "2022-02-16T13:36:07.283376Z",
     "shell.execute_reply": "2022-02-16T13:36:07.282702Z",
     "shell.execute_reply.started": "2022-02-16T13:36:07.048338Z"
    }
   },
   "outputs": [
    {
     "data": {
      "text/plain": [
       "Text(0.5, 1.0, 'Distribution of short answers in answerable questions')"
      ]
     },
     "execution_count": 18,
     "metadata": {},
     "output_type": "execute_result"
    },
    {
     "data": {
      "image/png": "[encoded data removed]",
      "text/plain": [
       "<Figure size 576x432 with 1 Axes>"
      ]
     },
     "metadata": {
      "needs_background": "light"
     },
     "output_type": "display_data"
    }
   ],
   "source": [
    "#checking the distribution of short answers\n",
    "short_dist = df[df_ans_exists].short.apply(lambda x: \"Short answer exists\" if len(x) > 0 else \"Short answer doesn't exist\").value_counts(normalize=True)\n",
    "plt.figure(figsize=(8,6))\n",
    "sns.barplot(x=short_dist.index,y=short_dist.values,hue=short_dist.index,palette = \"Reds\").set_title(\"Distribution of short answers in answerable questions\")"
   ]
  },
  {
   "cell_type": "code",
   "execution_count": 19,
   "metadata": {
    "execution": {
     "iopub.execute_input": "2022-02-16T13:36:09.931609Z",
     "iopub.status.busy": "2022-02-16T13:36:09.930696Z",
     "iopub.status.idle": "2022-02-16T13:36:10.259543Z",
     "shell.execute_reply": "2022-02-16T13:36:10.258884Z",
     "shell.execute_reply.started": "2022-02-16T13:36:09.931562Z"
    }
   },
   "outputs": [
    {
     "data": {
      "text/plain": [
       "Text(0.5, 1.0, 'Distribution of Number of Short Answers in answerable questions')"
      ]
     },
     "execution_count": 19,
     "metadata": {},
     "output_type": "execute_result"
    },
    {
     "data": {
      "image/png": "[encoded data removed]",
      "text/plain": [
       "<Figure size 864x432 with 1 Axes>"
      ]
     },
     "metadata": {
      "needs_background": "light"
     },
     "output_type": "display_data"
    }
   ],
   "source": [
    "#generates a bar plot that shows the distribution of the number of short answers for questions that have at least one short answer in a dataset.\n",
    "short_ans_dist = df[df_ans_exists].short.apply(len).value_counts(normalize=True)\n",
    "short_ans_dist = pd.concat([short_ans_dist.loc[[0,1,],], pd.Series(short_ans_dist.loc[3:].sum(),index=['>=3'])])\n",
    "#The x-axis of the plot shows the categories of short answers, such as \"No Short answer\", \"1 or 2 Short answers\", and \"More than 2 short answers\", while the y-axis shows the proportion of questions in the dataset that belong to each category.\n",
    "short_ans_dist = short_ans_dist.rename(index={0: 'No Short answer',1:\"1 or 2 Short answers\",\">=3\":\"More than 2 short answers\"})\n",
    "plt.figure(figsize=(12,6))\n",
    "# The color of the bars corresponds to the category labels, and the title of the plot describes what it is showing.\n",
    "sns.barplot(x=short_ans_dist.index,y=short_ans_dist.values,hue=short_ans_dist.index,palette = \"Reds\").set_title(\"Distribution of Number of Short Answers in answerable questions\")"
   ]
  },
  {
   "cell_type": "code",
   "execution_count": 20,
   "metadata": {
    "execution": {
     "iopub.execute_input": "2022-02-16T13:36:13.362718Z",
     "iopub.status.busy": "2022-02-16T13:36:13.362456Z",
     "iopub.status.idle": "2022-02-16T13:36:13.377658Z",
     "shell.execute_reply": "2022-02-16T13:36:13.376669Z",
     "shell.execute_reply.started": "2022-02-16T13:36:13.362688Z"
    }
   },
   "outputs": [
    {
     "name": "stdout",
     "output_type": "stream",
     "text": [
      "Missing data exists in train set:  False\n",
      "Missing data exists in test set:  False\n"
     ]
    }
   ],
   "source": [
    "#check if there are missing data in the datasets\n",
    "\n",
    "#defines a function called check_missing_data that takes a DataFrame as input and checks if there are any missing values in it.\n",
    "def check_missing_data(df):\n",
    "    missing_value=df.isna().sum().any()\n",
    "    if missing_value==True:\n",
    "        total = df.isnull().sum()\n",
    "        percent = (df.isnull().sum())/(df.isnull().count()*100)\n",
    "        output = pd.concat([total, percent], axis=1, keys=['Total', 'Percent'])\n",
    "        data_type = []\n",
    "#If there are any missing values, the function computes the total number of missing values, the percentage of missing values, and the data types of the columns containing missing values, and returns a summary table.\n",
    "#If there are no missing values, the function returns False. The function is called twice, once for a train DataFrame and once for a test DataFrame, and the results are printed to the console indicating whether missing data exists in each of the data sets.\n",
    "        for col in df.columns:\n",
    "            dtype = str(train[col].dtype)\n",
    "            data_type.append(dtype)\n",
    "        output['Types'] = data_type\n",
    "        return(np.transpose(output))\n",
    "    else:\n",
    "        return(False)\n",
    "    \n",
    "print(\"Missing data exists in train set: \",check_missing_data(train))\n",
    "print(\"Missing data exists in test set: \",check_missing_data(test))"
   ]
  },
  {
   "cell_type": "code",
   "execution_count": 21,
   "metadata": {
    "execution": {
     "iopub.execute_input": "2022-02-16T13:36:16.529138Z",
     "iopub.status.busy": "2022-02-16T13:36:16.528544Z",
     "iopub.status.idle": "2022-02-16T13:36:16.534174Z",
     "shell.execute_reply": "2022-02-16T13:36:16.533483Z",
     "shell.execute_reply.started": "2022-02-16T13:36:16.529098Z"
    }
   },
   "outputs": [],
   "source": [
    "#check count values in each column\n",
    "def count_values_in_column(data,feature):\n",
    "    total=data.loc[:,feature].value_counts(dropna=False)\n",
    "    percentage=round(data.loc[:,feature].value_counts(dropna=False,normalize=True)*100,2)\n",
    "    return pd.concat([total,percentage],axis=1,keys=['Total','Percentage'])"
   ]
  },
  {
   "cell_type": "code",
   "execution_count": 22,
   "metadata": {
    "execution": {
     "iopub.execute_input": "2022-02-16T13:36:19.443428Z",
     "iopub.status.busy": "2022-02-16T13:36:19.442866Z",
     "iopub.status.idle": "2022-02-16T13:36:19.457096Z",
     "shell.execute_reply": "2022-02-16T13:36:19.456382Z",
     "shell.execute_reply.started": "2022-02-16T13:36:19.443385Z"
    }
   },
   "outputs": [
    {
     "data": {
      "text/html": [
       "<div>\n",
       "<style scoped>\n",
       "    .dataframe tbody tr th:only-of-type {\n",
       "        vertical-align: middle;\n",
       "    }\n",
       "\n",
       "    .dataframe tbody tr th {\n",
       "        vertical-align: top;\n",
       "    }\n",
       "\n",
       "    .dataframe thead th {\n",
       "        text-align: right;\n",
       "    }\n",
       "</style>\n",
       "<table border=\"1\" class=\"dataframe\">\n",
       "  <thead>\n",
       "    <tr style=\"text-align: right;\">\n",
       "      <th></th>\n",
       "      <th>Total</th>\n",
       "      <th>Percentage</th>\n",
       "    </tr>\n",
       "  </thead>\n",
       "  <tbody>\n",
       "    <tr>\n",
       "      <th>NONE</th>\n",
       "      <td>1977</td>\n",
       "      <td>98.85</td>\n",
       "    </tr>\n",
       "    <tr>\n",
       "      <th>YES</th>\n",
       "      <td>17</td>\n",
       "      <td>0.85</td>\n",
       "    </tr>\n",
       "    <tr>\n",
       "      <th>NO</th>\n",
       "      <td>6</td>\n",
       "      <td>0.30</td>\n",
       "    </tr>\n",
       "  </tbody>\n",
       "</table>\n",
       "</div>"
      ],
      "text/plain": [
       "      Total  Percentage\n",
       "NONE   1977       98.85\n",
       "YES      17        0.85\n",
       "NO        6        0.30"
      ]
     },
     "execution_count": 22,
     "metadata": {},
     "output_type": "execute_result"
    }
   ],
   "source": [
    "count_values_in_column(df,'yes_no')"
   ]
  },
  {
   "cell_type": "code",
   "execution_count": 23,
   "metadata": {
    "execution": {
     "iopub.execute_input": "2022-02-16T13:36:21.321906Z",
     "iopub.status.busy": "2022-02-16T13:36:21.321113Z",
     "iopub.status.idle": "2022-02-16T13:36:21.327403Z",
     "shell.execute_reply": "2022-02-16T13:36:21.326634Z",
     "shell.execute_reply.started": "2022-02-16T13:36:21.321847Z"
    }
   },
   "outputs": [],
   "source": [
    "#count unique values in each column\n",
    "def unique_values_in_column(data,feature):\n",
    "    unique_val=pd.Series(data.loc[:,feature].unique())\n",
    "    return pd.concat([unique_val],axis=1,keys=['Unique Values'])"
   ]
  },
  {
   "cell_type": "code",
   "execution_count": 24,
   "metadata": {
    "execution": {
     "iopub.execute_input": "2022-02-16T13:36:23.939542Z",
     "iopub.status.busy": "2022-02-16T13:36:23.938991Z",
     "iopub.status.idle": "2022-02-16T13:36:24.241371Z",
     "shell.execute_reply": "2022-02-16T13:36:24.240610Z",
     "shell.execute_reply.started": "2022-02-16T13:36:23.939505Z"
    }
   },
   "outputs": [
    {
     "data": {
      "text/html": [
       "<div>\n",
       "<style scoped>\n",
       "    .dataframe tbody tr th:only-of-type {\n",
       "        vertical-align: middle;\n",
       "    }\n",
       "\n",
       "    .dataframe tbody tr th {\n",
       "        vertical-align: top;\n",
       "    }\n",
       "\n",
       "    .dataframe thead th {\n",
       "        text-align: right;\n",
       "    }\n",
       "</style>\n",
       "<table border=\"1\" class=\"dataframe\">\n",
       "  <thead>\n",
       "    <tr style=\"text-align: right;\">\n",
       "      <th></th>\n",
       "      <th>Unique Values</th>\n",
       "    </tr>\n",
       "  </thead>\n",
       "  <tbody>\n",
       "    <tr>\n",
       "      <th>0</th>\n",
       "      <td>Email marketing - Wikipedia &lt;H1&gt; Email marketi...</td>\n",
       "    </tr>\n",
       "    <tr>\n",
       "      <th>1</th>\n",
       "      <td>The Mother ( How I Met Your Mother ) - wikiped...</td>\n",
       "    </tr>\n",
       "    <tr>\n",
       "      <th>2</th>\n",
       "      <td>Human fertilization - wikipedia &lt;H1&gt; Human fer...</td>\n",
       "    </tr>\n",
       "    <tr>\n",
       "      <th>3</th>\n",
       "      <td>List of National Football League career quarte...</td>\n",
       "    </tr>\n",
       "    <tr>\n",
       "      <th>4</th>\n",
       "      <td>Roanoke Colony - wikipedia &lt;H1&gt; Roanoke Colony...</td>\n",
       "    </tr>\n",
       "    <tr>\n",
       "      <th>...</th>\n",
       "      <td>...</td>\n",
       "    </tr>\n",
       "    <tr>\n",
       "      <th>1987</th>\n",
       "      <td>Grace and Frankie - Wikipedia &lt;H1&gt; Grace and F...</td>\n",
       "    </tr>\n",
       "    <tr>\n",
       "      <th>1988</th>\n",
       "      <td>Cellular respiration - wikipedia &lt;H1&gt; Cellular...</td>\n",
       "    </tr>\n",
       "    <tr>\n",
       "      <th>1989</th>\n",
       "      <td>Some Like It Hot ( song ) - wikipedia &lt;H1&gt; Som...</td>\n",
       "    </tr>\n",
       "    <tr>\n",
       "      <th>1990</th>\n",
       "      <td>Princes in the Tower - wikipedia &lt;H1&gt; Princes ...</td>\n",
       "    </tr>\n",
       "    <tr>\n",
       "      <th>1991</th>\n",
       "      <td>Pascal and Maximus - wikipedia &lt;H1&gt; Pascal and...</td>\n",
       "    </tr>\n",
       "  </tbody>\n",
       "</table>\n",
       "<p>1992 rows × 1 columns</p>\n",
       "</div>"
      ],
      "text/plain": [
       "                                          Unique Values\n",
       "0     Email marketing - Wikipedia <H1> Email marketi...\n",
       "1     The Mother ( How I Met Your Mother ) - wikiped...\n",
       "2     Human fertilization - wikipedia <H1> Human fer...\n",
       "3     List of National Football League career quarte...\n",
       "4     Roanoke Colony - wikipedia <H1> Roanoke Colony...\n",
       "...                                                 ...\n",
       "1987  Grace and Frankie - Wikipedia <H1> Grace and F...\n",
       "1988  Cellular respiration - wikipedia <H1> Cellular...\n",
       "1989  Some Like It Hot ( song ) - wikipedia <H1> Som...\n",
       "1990  Princes in the Tower - wikipedia <H1> Princes ...\n",
       "1991  Pascal and Maximus - wikipedia <H1> Pascal and...\n",
       "\n",
       "[1992 rows x 1 columns]"
      ]
     },
     "execution_count": 24,
     "metadata": {},
     "output_type": "execute_result"
    }
   ],
   "source": [
    "unique_values_in_column(df,'document_text')"
   ]
  },
  {
   "cell_type": "code",
   "execution_count": 25,
   "metadata": {
    "execution": {
     "iopub.execute_input": "2022-02-16T13:36:26.581472Z",
     "iopub.status.busy": "2022-02-16T13:36:26.580733Z",
     "iopub.status.idle": "2022-02-16T13:36:26.588089Z",
     "shell.execute_reply": "2022-02-16T13:36:26.585970Z",
     "shell.execute_reply.started": "2022-02-16T13:36:26.581433Z"
    }
   },
   "outputs": [],
   "source": [
    "#find duplicated values in each column\n",
    "def duplicated_values_data(data):\n",
    "    dup=[]\n",
    "    columns=data.columns\n",
    "    for i in data.columns:\n",
    "        dup.append(sum(data[i].duplicated()))\n",
    "    return pd.concat([pd.Series(columns),pd.Series(dup)],axis=1,keys=['Columns','Duplicate count'])"
   ]
  },
  {
   "cell_type": "code",
   "execution_count": 26,
   "metadata": {
    "execution": {
     "iopub.execute_input": "2022-02-16T13:36:30.579579Z",
     "iopub.status.busy": "2022-02-16T13:36:30.579140Z",
     "iopub.status.idle": "2022-02-16T13:36:31.518578Z",
     "shell.execute_reply": "2022-02-16T13:36:31.517859Z",
     "shell.execute_reply.started": "2022-02-16T13:36:30.579543Z"
    }
   },
   "outputs": [
    {
     "data": {
      "text/html": [
       "<div>\n",
       "<style scoped>\n",
       "    .dataframe tbody tr th:only-of-type {\n",
       "        vertical-align: middle;\n",
       "    }\n",
       "\n",
       "    .dataframe tbody tr th {\n",
       "        vertical-align: top;\n",
       "    }\n",
       "\n",
       "    .dataframe thead th {\n",
       "        text-align: right;\n",
       "    }\n",
       "</style>\n",
       "<table border=\"1\" class=\"dataframe\">\n",
       "  <thead>\n",
       "    <tr style=\"text-align: right;\">\n",
       "      <th></th>\n",
       "      <th>Columns</th>\n",
       "      <th>Duplicate count</th>\n",
       "    </tr>\n",
       "  </thead>\n",
       "  <tbody>\n",
       "    <tr>\n",
       "      <th>0</th>\n",
       "      <td>document_text</td>\n",
       "      <td>8</td>\n",
       "    </tr>\n",
       "    <tr>\n",
       "      <th>1</th>\n",
       "      <td>long_answer_candidates</td>\n",
       "      <td>11</td>\n",
       "    </tr>\n",
       "    <tr>\n",
       "      <th>2</th>\n",
       "      <td>question_text</td>\n",
       "      <td>0</td>\n",
       "    </tr>\n",
       "    <tr>\n",
       "      <th>3</th>\n",
       "      <td>annotations</td>\n",
       "      <td>0</td>\n",
       "    </tr>\n",
       "    <tr>\n",
       "      <th>4</th>\n",
       "      <td>document_url</td>\n",
       "      <td>10</td>\n",
       "    </tr>\n",
       "    <tr>\n",
       "      <th>5</th>\n",
       "      <td>example_id</td>\n",
       "      <td>0</td>\n",
       "    </tr>\n",
       "    <tr>\n",
       "      <th>6</th>\n",
       "      <td>yes_no</td>\n",
       "      <td>1997</td>\n",
       "    </tr>\n",
       "    <tr>\n",
       "      <th>7</th>\n",
       "      <td>long</td>\n",
       "      <td>968</td>\n",
       "    </tr>\n",
       "    <tr>\n",
       "      <th>8</th>\n",
       "      <td>short</td>\n",
       "      <td>1283</td>\n",
       "    </tr>\n",
       "  </tbody>\n",
       "</table>\n",
       "</div>"
      ],
      "text/plain": [
       "                  Columns  Duplicate count\n",
       "0           document_text                8\n",
       "1  long_answer_candidates               11\n",
       "2           question_text                0\n",
       "3             annotations                0\n",
       "4            document_url               10\n",
       "5              example_id                0\n",
       "6                  yes_no             1997\n",
       "7                    long              968\n",
       "8                   short             1283"
      ]
     },
     "execution_count": 26,
     "metadata": {},
     "output_type": "execute_result"
    }
   ],
   "source": [
    "duplicated_values_data(df)"
   ]
  },
  {
   "cell_type": "code",
   "execution_count": 27,
   "metadata": {
    "execution": {
     "iopub.execute_input": "2022-02-16T13:36:34.951934Z",
     "iopub.status.busy": "2022-02-16T13:36:34.951676Z",
     "iopub.status.idle": "2022-02-16T13:36:34.968641Z",
     "shell.execute_reply": "2022-02-16T13:36:34.967959Z",
     "shell.execute_reply.started": "2022-02-16T13:36:34.951903Z"
    }
   },
   "outputs": [
    {
     "data": {
      "text/html": [
       "<div>\n",
       "<style scoped>\n",
       "    .dataframe tbody tr th:only-of-type {\n",
       "        vertical-align: middle;\n",
       "    }\n",
       "\n",
       "    .dataframe tbody tr th {\n",
       "        vertical-align: top;\n",
       "    }\n",
       "\n",
       "    .dataframe thead th {\n",
       "        text-align: right;\n",
       "    }\n",
       "</style>\n",
       "<table border=\"1\" class=\"dataframe\">\n",
       "  <thead>\n",
       "    <tr style=\"text-align: right;\">\n",
       "      <th></th>\n",
       "      <th>example_id</th>\n",
       "    </tr>\n",
       "  </thead>\n",
       "  <tbody>\n",
       "    <tr>\n",
       "      <th>count</th>\n",
       "      <td>2.000000e+03</td>\n",
       "    </tr>\n",
       "    <tr>\n",
       "      <th>mean</th>\n",
       "      <td>-2.083664e+17</td>\n",
       "    </tr>\n",
       "    <tr>\n",
       "      <th>std</th>\n",
       "      <td>5.309581e+18</td>\n",
       "    </tr>\n",
       "    <tr>\n",
       "      <th>min</th>\n",
       "      <td>-9.209840e+18</td>\n",
       "    </tr>\n",
       "    <tr>\n",
       "      <th>25%</th>\n",
       "      <td>-4.901767e+18</td>\n",
       "    </tr>\n",
       "    <tr>\n",
       "      <th>50%</th>\n",
       "      <td>-2.302742e+17</td>\n",
       "    </tr>\n",
       "    <tr>\n",
       "      <th>75%</th>\n",
       "      <td>4.276727e+18</td>\n",
       "    </tr>\n",
       "    <tr>\n",
       "      <th>max</th>\n",
       "      <td>9.208620e+18</td>\n",
       "    </tr>\n",
       "  </tbody>\n",
       "</table>\n",
       "</div>"
      ],
      "text/plain": [
       "         example_id\n",
       "count  2.000000e+03\n",
       "mean  -2.083664e+17\n",
       "std    5.309581e+18\n",
       "min   -9.209840e+18\n",
       "25%   -4.901767e+18\n",
       "50%   -2.302742e+17\n",
       "75%    4.276727e+18\n",
       "max    9.208620e+18"
      ]
     },
     "execution_count": 27,
     "metadata": {},
     "output_type": "execute_result"
    }
   ],
   "source": [
    "df.describe()"
   ]
  },
  {
   "cell_type": "code",
   "execution_count": 28,
   "metadata": {
    "execution": {
     "iopub.execute_input": "2022-02-16T13:36:36.759959Z",
     "iopub.status.busy": "2022-02-16T13:36:36.759684Z",
     "iopub.status.idle": "2022-02-16T13:36:36.765248Z",
     "shell.execute_reply": "2022-02-16T13:36:36.764081Z",
     "shell.execute_reply.started": "2022-02-16T13:36:36.759927Z"
    }
   },
   "outputs": [],
   "source": [
    "#remove hash texts in questions\n",
    "def find_hash(text):\n",
    "    line=re.findall(r'(?<=#)\\w+',text)\n",
    "    return \" \".join(line)"
   ]
  },
  {
   "cell_type": "code",
   "execution_count": 29,
   "metadata": {
    "execution": {
     "iopub.execute_input": "2022-02-16T13:36:39.132038Z",
     "iopub.status.busy": "2022-02-16T13:36:39.131749Z",
     "iopub.status.idle": "2022-02-16T13:36:39.143951Z",
     "shell.execute_reply": "2022-02-16T13:36:39.143146Z",
     "shell.execute_reply.started": "2022-02-16T13:36:39.131985Z"
    }
   },
   "outputs": [],
   "source": [
    "df['hash']=df['question_text'].apply(lambda x: find_hash(x))\n"
   ]
  },
  {
   "cell_type": "code",
   "execution_count": 30,
   "metadata": {
    "execution": {
     "iopub.execute_input": "2022-02-16T13:36:41.319560Z",
     "iopub.status.busy": "2022-02-16T13:36:41.319224Z",
     "iopub.status.idle": "2022-02-16T13:36:41.327204Z",
     "shell.execute_reply": "2022-02-16T13:36:41.326425Z",
     "shell.execute_reply.started": "2022-02-16T13:36:41.319525Z"
    }
   },
   "outputs": [
    {
     "data": {
      "text/plain": [
       "    2000\n",
       "Name: hash, dtype: int64"
      ]
     },
     "execution_count": 30,
     "metadata": {},
     "output_type": "execute_result"
    }
   ],
   "source": [
    "df['hash'].value_counts()"
   ]
  },
  {
   "cell_type": "code",
   "execution_count": 31,
   "metadata": {
    "execution": {
     "iopub.execute_input": "2022-02-16T13:36:43.260424Z",
     "iopub.status.busy": "2022-02-16T13:36:43.259830Z",
     "iopub.status.idle": "2022-02-16T13:36:43.269511Z",
     "shell.execute_reply": "2022-02-16T13:36:43.268716Z",
     "shell.execute_reply.started": "2022-02-16T13:36:43.260364Z"
    }
   },
   "outputs": [
    {
     "data": {
      "text/plain": [
       "Unique Values\n",
       "                 1\n",
       "dtype: int64"
      ]
     },
     "execution_count": 31,
     "metadata": {},
     "output_type": "execute_result"
    }
   ],
   "source": [
    "unique_values_in_column(df,'hash').value_counts()"
   ]
  },
  {
   "cell_type": "code",
   "execution_count": 33,
   "metadata": {
    "execution": {
     "iopub.execute_input": "2022-02-16T13:36:48.859889Z",
     "iopub.status.busy": "2022-02-16T13:36:48.859352Z",
     "iopub.status.idle": "2022-02-16T13:36:48.866960Z",
     "shell.execute_reply": "2022-02-16T13:36:48.865995Z",
     "shell.execute_reply.started": "2022-02-16T13:36:48.859844Z"
    }
   },
   "outputs": [],
   "source": [
    "# df['hash'] = df['hash'].fillna(df['document_text'])\n",
    "df.loc[df['hash'].str.strip() == '', 'hash'] = df['document_text']"
   ]
  },
  {
   "cell_type": "code",
   "execution_count": 34,
   "metadata": {
    "execution": {
     "iopub.execute_input": "2022-02-16T13:36:52.000818Z",
     "iopub.status.busy": "2022-02-16T13:36:51.999918Z",
     "iopub.status.idle": "2022-02-16T13:36:52.262792Z",
     "shell.execute_reply": "2022-02-16T13:36:52.262052Z",
     "shell.execute_reply.started": "2022-02-16T13:36:52.000775Z"
    }
   },
   "outputs": [
    {
     "data": {
      "text/html": [
       "<div>\n",
       "<style scoped>\n",
       "    .dataframe tbody tr th:only-of-type {\n",
       "        vertical-align: middle;\n",
       "    }\n",
       "\n",
       "    .dataframe tbody tr th {\n",
       "        vertical-align: top;\n",
       "    }\n",
       "\n",
       "    .dataframe thead th {\n",
       "        text-align: right;\n",
       "    }\n",
       "</style>\n",
       "<table border=\"1\" class=\"dataframe\">\n",
       "  <thead>\n",
       "    <tr style=\"text-align: right;\">\n",
       "      <th></th>\n",
       "      <th>document_text</th>\n",
       "      <th>long_answer_candidates</th>\n",
       "      <th>question_text</th>\n",
       "      <th>annotations</th>\n",
       "      <th>document_url</th>\n",
       "      <th>example_id</th>\n",
       "      <th>yes_no</th>\n",
       "      <th>long</th>\n",
       "      <th>short</th>\n",
       "      <th>hash</th>\n",
       "    </tr>\n",
       "  </thead>\n",
       "  <tbody>\n",
       "    <tr>\n",
       "      <th>0</th>\n",
       "      <td>Email marketing - Wikipedia &lt;H1&gt; Email marketi...</td>\n",
       "      <td>[{'start_token': 14, 'top_level': True, 'end_t...</td>\n",
       "      <td>which is the most common use of opt-in e-mail ...</td>\n",
       "      <td>[{'yes_no_answer': 'NONE', 'long_answer': {'st...</td>\n",
       "      <td>https://en.wikipedia.org//w/index.php?title=Em...</td>\n",
       "      <td>5655493461695504401</td>\n",
       "      <td>NONE</td>\n",
       "      <td>[1952, 2019]</td>\n",
       "      <td>[{'start_token': 1960, 'end_token': 1969}]</td>\n",
       "      <td>Email marketing - Wikipedia &lt;H1&gt; Email marketi...</td>\n",
       "    </tr>\n",
       "    <tr>\n",
       "      <th>1</th>\n",
       "      <td>The Mother ( How I Met Your Mother ) - wikiped...</td>\n",
       "      <td>[{'start_token': 28, 'top_level': True, 'end_t...</td>\n",
       "      <td>how i.met your mother who is the mother</td>\n",
       "      <td>[{'yes_no_answer': 'NONE', 'long_answer': {'st...</td>\n",
       "      <td>https://en.wikipedia.org//w/index.php?title=Th...</td>\n",
       "      <td>5328212470870865242</td>\n",
       "      <td>NONE</td>\n",
       "      <td>[212, 310]</td>\n",
       "      <td>[{'start_token': 213, 'end_token': 215}]</td>\n",
       "      <td>The Mother ( How I Met Your Mother ) - wikiped...</td>\n",
       "    </tr>\n",
       "    <tr>\n",
       "      <th>2</th>\n",
       "      <td>Human fertilization - wikipedia &lt;H1&gt; Human fer...</td>\n",
       "      <td>[{'start_token': 14, 'top_level': True, 'end_t...</td>\n",
       "      <td>what type of fertilisation takes place in humans</td>\n",
       "      <td>[{'yes_no_answer': 'NONE', 'long_answer': {'st...</td>\n",
       "      <td>https://en.wikipedia.org//w/index.php?title=Hu...</td>\n",
       "      <td>4435104480114867852</td>\n",
       "      <td>NONE</td>\n",
       "      <td>[319, 438]</td>\n",
       "      <td>[]</td>\n",
       "      <td>Human fertilization - wikipedia &lt;H1&gt; Human fer...</td>\n",
       "    </tr>\n",
       "    <tr>\n",
       "      <th>3</th>\n",
       "      <td>List of National Football League career quarte...</td>\n",
       "      <td>[{'start_token': 28, 'top_level': True, 'end_t...</td>\n",
       "      <td>who had the most wins in the nfl</td>\n",
       "      <td>[{'yes_no_answer': 'NONE', 'long_answer': {'st...</td>\n",
       "      <td>https://en.wikipedia.org//w/index.php?title=Li...</td>\n",
       "      <td>5289242154789678439</td>\n",
       "      <td>NONE</td>\n",
       "      <td>[509, 576]</td>\n",
       "      <td>[{'start_token': 512, 'end_token': 514}]</td>\n",
       "      <td>List of National Football League career quarte...</td>\n",
       "    </tr>\n",
       "    <tr>\n",
       "      <th>4</th>\n",
       "      <td>Roanoke Colony - wikipedia &lt;H1&gt; Roanoke Colony...</td>\n",
       "      <td>[{'start_token': 32, 'top_level': True, 'end_t...</td>\n",
       "      <td>what happened to the lost settlement of roanoke</td>\n",
       "      <td>[{'yes_no_answer': 'NONE', 'long_answer': {'st...</td>\n",
       "      <td>https://en.wikipedia.org//w/index.php?title=Ro...</td>\n",
       "      <td>5489863933082811018</td>\n",
       "      <td>NONE</td>\n",
       "      <td>[-1, -1]</td>\n",
       "      <td>[]</td>\n",
       "      <td>Roanoke Colony - wikipedia &lt;H1&gt; Roanoke Colony...</td>\n",
       "    </tr>\n",
       "    <tr>\n",
       "      <th>...</th>\n",
       "      <td>...</td>\n",
       "      <td>...</td>\n",
       "      <td>...</td>\n",
       "      <td>...</td>\n",
       "      <td>...</td>\n",
       "      <td>...</td>\n",
       "      <td>...</td>\n",
       "      <td>...</td>\n",
       "      <td>...</td>\n",
       "      <td>...</td>\n",
       "    </tr>\n",
       "    <tr>\n",
       "      <th>1995</th>\n",
       "      <td>Grace and Frankie - Wikipedia &lt;H1&gt; Grace and F...</td>\n",
       "      <td>[{'start_token': 10, 'top_level': True, 'end_t...</td>\n",
       "      <td>how long is each grace and frankie episode</td>\n",
       "      <td>[{'yes_no_answer': 'NONE', 'long_answer': {'st...</td>\n",
       "      <td>https://en.wikipedia.org//w/index.php?title=Gr...</td>\n",
       "      <td>-7716384782891686197</td>\n",
       "      <td>NONE</td>\n",
       "      <td>[10, 399]</td>\n",
       "      <td>[{'start_token': 300, 'end_token': 304}]</td>\n",
       "      <td>Grace and Frankie - Wikipedia &lt;H1&gt; Grace and F...</td>\n",
       "    </tr>\n",
       "    <tr>\n",
       "      <th>1996</th>\n",
       "      <td>Cellular respiration - wikipedia &lt;H1&gt; Cellular...</td>\n",
       "      <td>[{'start_token': 10, 'top_level': True, 'end_t...</td>\n",
       "      <td>after complete oxidation of a glucose molecule...</td>\n",
       "      <td>[{'yes_no_answer': 'NONE', 'long_answer': {'st...</td>\n",
       "      <td>https://en.wikipedia.org//w/index.php?title=Ce...</td>\n",
       "      <td>8933277615800380148</td>\n",
       "      <td>NONE</td>\n",
       "      <td>[780, 883]</td>\n",
       "      <td>[{'start_token': 796, 'end_token': 799}]</td>\n",
       "      <td>Cellular respiration - wikipedia &lt;H1&gt; Cellular...</td>\n",
       "    </tr>\n",
       "    <tr>\n",
       "      <th>1997</th>\n",
       "      <td>Some Like It Hot ( song ) - wikipedia &lt;H1&gt; Som...</td>\n",
       "      <td>[{'start_token': 18, 'top_level': True, 'end_t...</td>\n",
       "      <td>who sings the song some like it hot</td>\n",
       "      <td>[{'yes_no_answer': 'NONE', 'long_answer': {'st...</td>\n",
       "      <td>https://en.wikipedia.org//w/index.php?title=So...</td>\n",
       "      <td>-6909007989280228395</td>\n",
       "      <td>NONE</td>\n",
       "      <td>[-1, -1]</td>\n",
       "      <td>[]</td>\n",
       "      <td>Some Like It Hot ( song ) - wikipedia &lt;H1&gt; Som...</td>\n",
       "    </tr>\n",
       "    <tr>\n",
       "      <th>1998</th>\n",
       "      <td>Princes in the Tower - wikipedia &lt;H1&gt; Princes ...</td>\n",
       "      <td>[{'start_token': 44, 'top_level': True, 'end_t...</td>\n",
       "      <td>who killed the twins in the tower of london</td>\n",
       "      <td>[{'yes_no_answer': 'NONE', 'long_answer': {'st...</td>\n",
       "      <td>https://en.wikipedia.org//w/index.php?title=Pr...</td>\n",
       "      <td>1501574334625895729</td>\n",
       "      <td>NONE</td>\n",
       "      <td>[-1, -1]</td>\n",
       "      <td>[]</td>\n",
       "      <td>Princes in the Tower - wikipedia &lt;H1&gt; Princes ...</td>\n",
       "    </tr>\n",
       "    <tr>\n",
       "      <th>1999</th>\n",
       "      <td>Pascal and Maximus - wikipedia &lt;H1&gt; Pascal and...</td>\n",
       "      <td>[{'start_token': 10, 'top_level': True, 'end_t...</td>\n",
       "      <td>what is the name of the chameleon in tangled</td>\n",
       "      <td>[{'yes_no_answer': 'NONE', 'long_answer': {'st...</td>\n",
       "      <td>https://en.wikipedia.org//w/index.php?title=Pa...</td>\n",
       "      <td>2281183566755493128</td>\n",
       "      <td>NONE</td>\n",
       "      <td>[2087, 2292]</td>\n",
       "      <td>[{'start_token': 2109, 'end_token': 2110}]</td>\n",
       "      <td>Pascal and Maximus - wikipedia &lt;H1&gt; Pascal and...</td>\n",
       "    </tr>\n",
       "  </tbody>\n",
       "</table>\n",
       "<p>2000 rows × 10 columns</p>\n",
       "</div>"
      ],
      "text/plain": [
       "                                          document_text  \\\n",
       "0     Email marketing - Wikipedia <H1> Email marketi...   \n",
       "1     The Mother ( How I Met Your Mother ) - wikiped...   \n",
       "2     Human fertilization - wikipedia <H1> Human fer...   \n",
       "3     List of National Football League career quarte...   \n",
       "4     Roanoke Colony - wikipedia <H1> Roanoke Colony...   \n",
       "...                                                 ...   \n",
       "1995  Grace and Frankie - Wikipedia <H1> Grace and F...   \n",
       "1996  Cellular respiration - wikipedia <H1> Cellular...   \n",
       "1997  Some Like It Hot ( song ) - wikipedia <H1> Som...   \n",
       "1998  Princes in the Tower - wikipedia <H1> Princes ...   \n",
       "1999  Pascal and Maximus - wikipedia <H1> Pascal and...   \n",
       "\n",
       "                                 long_answer_candidates  \\\n",
       "0     [{'start_token': 14, 'top_level': True, 'end_t...   \n",
       "1     [{'start_token': 28, 'top_level': True, 'end_t...   \n",
       "2     [{'start_token': 14, 'top_level': True, 'end_t...   \n",
       "3     [{'start_token': 28, 'top_level': True, 'end_t...   \n",
       "4     [{'start_token': 32, 'top_level': True, 'end_t...   \n",
       "...                                                 ...   \n",
       "1995  [{'start_token': 10, 'top_level': True, 'end_t...   \n",
       "1996  [{'start_token': 10, 'top_level': True, 'end_t...   \n",
       "1997  [{'start_token': 18, 'top_level': True, 'end_t...   \n",
       "1998  [{'start_token': 44, 'top_level': True, 'end_t...   \n",
       "1999  [{'start_token': 10, 'top_level': True, 'end_t...   \n",
       "\n",
       "                                          question_text  \\\n",
       "0     which is the most common use of opt-in e-mail ...   \n",
       "1               how i.met your mother who is the mother   \n",
       "2      what type of fertilisation takes place in humans   \n",
       "3                      who had the most wins in the nfl   \n",
       "4       what happened to the lost settlement of roanoke   \n",
       "...                                                 ...   \n",
       "1995         how long is each grace and frankie episode   \n",
       "1996  after complete oxidation of a glucose molecule...   \n",
       "1997                who sings the song some like it hot   \n",
       "1998        who killed the twins in the tower of london   \n",
       "1999       what is the name of the chameleon in tangled   \n",
       "\n",
       "                                            annotations  \\\n",
       "0     [{'yes_no_answer': 'NONE', 'long_answer': {'st...   \n",
       "1     [{'yes_no_answer': 'NONE', 'long_answer': {'st...   \n",
       "2     [{'yes_no_answer': 'NONE', 'long_answer': {'st...   \n",
       "3     [{'yes_no_answer': 'NONE', 'long_answer': {'st...   \n",
       "4     [{'yes_no_answer': 'NONE', 'long_answer': {'st...   \n",
       "...                                                 ...   \n",
       "1995  [{'yes_no_answer': 'NONE', 'long_answer': {'st...   \n",
       "1996  [{'yes_no_answer': 'NONE', 'long_answer': {'st...   \n",
       "1997  [{'yes_no_answer': 'NONE', 'long_answer': {'st...   \n",
       "1998  [{'yes_no_answer': 'NONE', 'long_answer': {'st...   \n",
       "1999  [{'yes_no_answer': 'NONE', 'long_answer': {'st...   \n",
       "\n",
       "                                           document_url           example_id  \\\n",
       "0     https://en.wikipedia.org//w/index.php?title=Em...  5655493461695504401   \n",
       "1     https://en.wikipedia.org//w/index.php?title=Th...  5328212470870865242   \n",
       "2     https://en.wikipedia.org//w/index.php?title=Hu...  4435104480114867852   \n",
       "3     https://en.wikipedia.org//w/index.php?title=Li...  5289242154789678439   \n",
       "4     https://en.wikipedia.org//w/index.php?title=Ro...  5489863933082811018   \n",
       "...                                                 ...                  ...   \n",
       "1995  https://en.wikipedia.org//w/index.php?title=Gr... -7716384782891686197   \n",
       "1996  https://en.wikipedia.org//w/index.php?title=Ce...  8933277615800380148   \n",
       "1997  https://en.wikipedia.org//w/index.php?title=So... -6909007989280228395   \n",
       "1998  https://en.wikipedia.org//w/index.php?title=Pr...  1501574334625895729   \n",
       "1999  https://en.wikipedia.org//w/index.php?title=Pa...  2281183566755493128   \n",
       "\n",
       "     yes_no          long                                       short  \\\n",
       "0      NONE  [1952, 2019]  [{'start_token': 1960, 'end_token': 1969}]   \n",
       "1      NONE    [212, 310]    [{'start_token': 213, 'end_token': 215}]   \n",
       "2      NONE    [319, 438]                                          []   \n",
       "3      NONE    [509, 576]    [{'start_token': 512, 'end_token': 514}]   \n",
       "4      NONE      [-1, -1]                                          []   \n",
       "...     ...           ...                                         ...   \n",
       "1995   NONE     [10, 399]    [{'start_token': 300, 'end_token': 304}]   \n",
       "1996   NONE    [780, 883]    [{'start_token': 796, 'end_token': 799}]   \n",
       "1997   NONE      [-1, -1]                                          []   \n",
       "1998   NONE      [-1, -1]                                          []   \n",
       "1999   NONE  [2087, 2292]  [{'start_token': 2109, 'end_token': 2110}]   \n",
       "\n",
       "                                                   hash  \n",
       "0     Email marketing - Wikipedia <H1> Email marketi...  \n",
       "1     The Mother ( How I Met Your Mother ) - wikiped...  \n",
       "2     Human fertilization - wikipedia <H1> Human fer...  \n",
       "3     List of National Football League career quarte...  \n",
       "4     Roanoke Colony - wikipedia <H1> Roanoke Colony...  \n",
       "...                                                 ...  \n",
       "1995  Grace and Frankie - Wikipedia <H1> Grace and F...  \n",
       "1996  Cellular respiration - wikipedia <H1> Cellular...  \n",
       "1997  Some Like It Hot ( song ) - wikipedia <H1> Som...  \n",
       "1998  Princes in the Tower - wikipedia <H1> Princes ...  \n",
       "1999  Pascal and Maximus - wikipedia <H1> Pascal and...  \n",
       "\n",
       "[2000 rows x 10 columns]"
      ]
     },
     "execution_count": 34,
     "metadata": {},
     "output_type": "execute_result"
    }
   ],
   "source": [
    "df"
   ]
  },
  {
   "cell_type": "code",
   "execution_count": 35,
   "metadata": {
    "execution": {
     "iopub.execute_input": "2022-02-16T13:36:56.341558Z",
     "iopub.status.busy": "2022-02-16T13:36:56.340854Z",
     "iopub.status.idle": "2022-02-16T13:36:56.345562Z",
     "shell.execute_reply": "2022-02-16T13:36:56.344830Z",
     "shell.execute_reply.started": "2022-02-16T13:36:56.341517Z"
    }
   },
   "outputs": [],
   "source": [
    "#remove punctuations\n",
    "def find_punct(text):\n",
    "    line = re.findall(r'[!\"\\$%&\\'()*+,\\-.\\/:;=#@?\\[\\\\\\]^_`{|}~]*', text)\n",
    "    string=\"\".join(line)\n",
    "    return list(string)"
   ]
  },
  {
   "cell_type": "code",
   "execution_count": 36,
   "metadata": {
    "execution": {
     "iopub.execute_input": "2022-02-16T13:36:58.539406Z",
     "iopub.status.busy": "2022-02-16T13:36:58.538601Z",
     "iopub.status.idle": "2022-02-16T13:36:58.581272Z",
     "shell.execute_reply": "2022-02-16T13:36:58.580613Z",
     "shell.execute_reply.started": "2022-02-16T13:36:58.539354Z"
    }
   },
   "outputs": [],
   "source": [
    "df['punctuation']=df['question_text'].apply(lambda x : find_punct(x))\n",
    "df.loc[df['hash'].str.strip() == '', 'hash'] = df['question_text']"
   ]
  },
  {
   "cell_type": "code",
   "execution_count": 37,
   "metadata": {
    "execution": {
     "iopub.execute_input": "2022-02-16T13:37:00.519764Z",
     "iopub.status.busy": "2022-02-16T13:37:00.519278Z",
     "iopub.status.idle": "2022-02-16T13:37:00.766431Z",
     "shell.execute_reply": "2022-02-16T13:37:00.765736Z",
     "shell.execute_reply.started": "2022-02-16T13:37:00.519726Z"
    }
   },
   "outputs": [
    {
     "data": {
      "text/html": [
       "<div>\n",
       "<style scoped>\n",
       "    .dataframe tbody tr th:only-of-type {\n",
       "        vertical-align: middle;\n",
       "    }\n",
       "\n",
       "    .dataframe tbody tr th {\n",
       "        vertical-align: top;\n",
       "    }\n",
       "\n",
       "    .dataframe thead th {\n",
       "        text-align: right;\n",
       "    }\n",
       "</style>\n",
       "<table border=\"1\" class=\"dataframe\">\n",
       "  <thead>\n",
       "    <tr style=\"text-align: right;\">\n",
       "      <th></th>\n",
       "      <th>document_text</th>\n",
       "      <th>long_answer_candidates</th>\n",
       "      <th>question_text</th>\n",
       "      <th>annotations</th>\n",
       "      <th>document_url</th>\n",
       "      <th>example_id</th>\n",
       "      <th>yes_no</th>\n",
       "      <th>long</th>\n",
       "      <th>short</th>\n",
       "      <th>hash</th>\n",
       "      <th>punctuation</th>\n",
       "    </tr>\n",
       "  </thead>\n",
       "  <tbody>\n",
       "    <tr>\n",
       "      <th>0</th>\n",
       "      <td>Email marketing - Wikipedia &lt;H1&gt; Email marketi...</td>\n",
       "      <td>[{'start_token': 14, 'top_level': True, 'end_t...</td>\n",
       "      <td>which is the most common use of opt-in e-mail ...</td>\n",
       "      <td>[{'yes_no_answer': 'NONE', 'long_answer': {'st...</td>\n",
       "      <td>https://en.wikipedia.org//w/index.php?title=Em...</td>\n",
       "      <td>5655493461695504401</td>\n",
       "      <td>NONE</td>\n",
       "      <td>[1952, 2019]</td>\n",
       "      <td>[{'start_token': 1960, 'end_token': 1969}]</td>\n",
       "      <td>Email marketing - Wikipedia &lt;H1&gt; Email marketi...</td>\n",
       "      <td>[-, -]</td>\n",
       "    </tr>\n",
       "    <tr>\n",
       "      <th>1</th>\n",
       "      <td>The Mother ( How I Met Your Mother ) - wikiped...</td>\n",
       "      <td>[{'start_token': 28, 'top_level': True, 'end_t...</td>\n",
       "      <td>how i.met your mother who is the mother</td>\n",
       "      <td>[{'yes_no_answer': 'NONE', 'long_answer': {'st...</td>\n",
       "      <td>https://en.wikipedia.org//w/index.php?title=Th...</td>\n",
       "      <td>5328212470870865242</td>\n",
       "      <td>NONE</td>\n",
       "      <td>[212, 310]</td>\n",
       "      <td>[{'start_token': 213, 'end_token': 215}]</td>\n",
       "      <td>The Mother ( How I Met Your Mother ) - wikiped...</td>\n",
       "      <td>[.]</td>\n",
       "    </tr>\n",
       "    <tr>\n",
       "      <th>2</th>\n",
       "      <td>Human fertilization - wikipedia &lt;H1&gt; Human fer...</td>\n",
       "      <td>[{'start_token': 14, 'top_level': True, 'end_t...</td>\n",
       "      <td>what type of fertilisation takes place in humans</td>\n",
       "      <td>[{'yes_no_answer': 'NONE', 'long_answer': {'st...</td>\n",
       "      <td>https://en.wikipedia.org//w/index.php?title=Hu...</td>\n",
       "      <td>4435104480114867852</td>\n",
       "      <td>NONE</td>\n",
       "      <td>[319, 438]</td>\n",
       "      <td>[]</td>\n",
       "      <td>Human fertilization - wikipedia &lt;H1&gt; Human fer...</td>\n",
       "      <td>[]</td>\n",
       "    </tr>\n",
       "    <tr>\n",
       "      <th>3</th>\n",
       "      <td>List of National Football League career quarte...</td>\n",
       "      <td>[{'start_token': 28, 'top_level': True, 'end_t...</td>\n",
       "      <td>who had the most wins in the nfl</td>\n",
       "      <td>[{'yes_no_answer': 'NONE', 'long_answer': {'st...</td>\n",
       "      <td>https://en.wikipedia.org//w/index.php?title=Li...</td>\n",
       "      <td>5289242154789678439</td>\n",
       "      <td>NONE</td>\n",
       "      <td>[509, 576]</td>\n",
       "      <td>[{'start_token': 512, 'end_token': 514}]</td>\n",
       "      <td>List of National Football League career quarte...</td>\n",
       "      <td>[]</td>\n",
       "    </tr>\n",
       "    <tr>\n",
       "      <th>4</th>\n",
       "      <td>Roanoke Colony - wikipedia &lt;H1&gt; Roanoke Colony...</td>\n",
       "      <td>[{'start_token': 32, 'top_level': True, 'end_t...</td>\n",
       "      <td>what happened to the lost settlement of roanoke</td>\n",
       "      <td>[{'yes_no_answer': 'NONE', 'long_answer': {'st...</td>\n",
       "      <td>https://en.wikipedia.org//w/index.php?title=Ro...</td>\n",
       "      <td>5489863933082811018</td>\n",
       "      <td>NONE</td>\n",
       "      <td>[-1, -1]</td>\n",
       "      <td>[]</td>\n",
       "      <td>Roanoke Colony - wikipedia &lt;H1&gt; Roanoke Colony...</td>\n",
       "      <td>[]</td>\n",
       "    </tr>\n",
       "    <tr>\n",
       "      <th>...</th>\n",
       "      <td>...</td>\n",
       "      <td>...</td>\n",
       "      <td>...</td>\n",
       "      <td>...</td>\n",
       "      <td>...</td>\n",
       "      <td>...</td>\n",
       "      <td>...</td>\n",
       "      <td>...</td>\n",
       "      <td>...</td>\n",
       "      <td>...</td>\n",
       "      <td>...</td>\n",
       "    </tr>\n",
       "    <tr>\n",
       "      <th>1995</th>\n",
       "      <td>Grace and Frankie - Wikipedia &lt;H1&gt; Grace and F...</td>\n",
       "      <td>[{'start_token': 10, 'top_level': True, 'end_t...</td>\n",
       "      <td>how long is each grace and frankie episode</td>\n",
       "      <td>[{'yes_no_answer': 'NONE', 'long_answer': {'st...</td>\n",
       "      <td>https://en.wikipedia.org//w/index.php?title=Gr...</td>\n",
       "      <td>-7716384782891686197</td>\n",
       "      <td>NONE</td>\n",
       "      <td>[10, 399]</td>\n",
       "      <td>[{'start_token': 300, 'end_token': 304}]</td>\n",
       "      <td>Grace and Frankie - Wikipedia &lt;H1&gt; Grace and F...</td>\n",
       "      <td>[]</td>\n",
       "    </tr>\n",
       "    <tr>\n",
       "      <th>1996</th>\n",
       "      <td>Cellular respiration - wikipedia &lt;H1&gt; Cellular...</td>\n",
       "      <td>[{'start_token': 10, 'top_level': True, 'end_t...</td>\n",
       "      <td>after complete oxidation of a glucose molecule...</td>\n",
       "      <td>[{'yes_no_answer': 'NONE', 'long_answer': {'st...</td>\n",
       "      <td>https://en.wikipedia.org//w/index.php?title=Ce...</td>\n",
       "      <td>8933277615800380148</td>\n",
       "      <td>NONE</td>\n",
       "      <td>[780, 883]</td>\n",
       "      <td>[{'start_token': 796, 'end_token': 799}]</td>\n",
       "      <td>Cellular respiration - wikipedia &lt;H1&gt; Cellular...</td>\n",
       "      <td>[]</td>\n",
       "    </tr>\n",
       "    <tr>\n",
       "      <th>1997</th>\n",
       "      <td>Some Like It Hot ( song ) - wikipedia &lt;H1&gt; Som...</td>\n",
       "      <td>[{'start_token': 18, 'top_level': True, 'end_t...</td>\n",
       "      <td>who sings the song some like it hot</td>\n",
       "      <td>[{'yes_no_answer': 'NONE', 'long_answer': {'st...</td>\n",
       "      <td>https://en.wikipedia.org//w/index.php?title=So...</td>\n",
       "      <td>-6909007989280228395</td>\n",
       "      <td>NONE</td>\n",
       "      <td>[-1, -1]</td>\n",
       "      <td>[]</td>\n",
       "      <td>Some Like It Hot ( song ) - wikipedia &lt;H1&gt; Som...</td>\n",
       "      <td>[]</td>\n",
       "    </tr>\n",
       "    <tr>\n",
       "      <th>1998</th>\n",
       "      <td>Princes in the Tower - wikipedia &lt;H1&gt; Princes ...</td>\n",
       "      <td>[{'start_token': 44, 'top_level': True, 'end_t...</td>\n",
       "      <td>who killed the twins in the tower of london</td>\n",
       "      <td>[{'yes_no_answer': 'NONE', 'long_answer': {'st...</td>\n",
       "      <td>https://en.wikipedia.org//w/index.php?title=Pr...</td>\n",
       "      <td>1501574334625895729</td>\n",
       "      <td>NONE</td>\n",
       "      <td>[-1, -1]</td>\n",
       "      <td>[]</td>\n",
       "      <td>Princes in the Tower - wikipedia &lt;H1&gt; Princes ...</td>\n",
       "      <td>[]</td>\n",
       "    </tr>\n",
       "    <tr>\n",
       "      <th>1999</th>\n",
       "      <td>Pascal and Maximus - wikipedia &lt;H1&gt; Pascal and...</td>\n",
       "      <td>[{'start_token': 10, 'top_level': True, 'end_t...</td>\n",
       "      <td>what is the name of the chameleon in tangled</td>\n",
       "      <td>[{'yes_no_answer': 'NONE', 'long_answer': {'st...</td>\n",
       "      <td>https://en.wikipedia.org//w/index.php?title=Pa...</td>\n",
       "      <td>2281183566755493128</td>\n",
       "      <td>NONE</td>\n",
       "      <td>[2087, 2292]</td>\n",
       "      <td>[{'start_token': 2109, 'end_token': 2110}]</td>\n",
       "      <td>Pascal and Maximus - wikipedia &lt;H1&gt; Pascal and...</td>\n",
       "      <td>[]</td>\n",
       "    </tr>\n",
       "  </tbody>\n",
       "</table>\n",
       "<p>2000 rows × 11 columns</p>\n",
       "</div>"
      ],
      "text/plain": [
       "                                          document_text  \\\n",
       "0     Email marketing - Wikipedia <H1> Email marketi...   \n",
       "1     The Mother ( How I Met Your Mother ) - wikiped...   \n",
       "2     Human fertilization - wikipedia <H1> Human fer...   \n",
       "3     List of National Football League career quarte...   \n",
       "4     Roanoke Colony - wikipedia <H1> Roanoke Colony...   \n",
       "...                                                 ...   \n",
       "1995  Grace and Frankie - Wikipedia <H1> Grace and F...   \n",
       "1996  Cellular respiration - wikipedia <H1> Cellular...   \n",
       "1997  Some Like It Hot ( song ) - wikipedia <H1> Som...   \n",
       "1998  Princes in the Tower - wikipedia <H1> Princes ...   \n",
       "1999  Pascal and Maximus - wikipedia <H1> Pascal and...   \n",
       "\n",
       "                                 long_answer_candidates  \\\n",
       "0     [{'start_token': 14, 'top_level': True, 'end_t...   \n",
       "1     [{'start_token': 28, 'top_level': True, 'end_t...   \n",
       "2     [{'start_token': 14, 'top_level': True, 'end_t...   \n",
       "3     [{'start_token': 28, 'top_level': True, 'end_t...   \n",
       "4     [{'start_token': 32, 'top_level': True, 'end_t...   \n",
       "...                                                 ...   \n",
       "1995  [{'start_token': 10, 'top_level': True, 'end_t...   \n",
       "1996  [{'start_token': 10, 'top_level': True, 'end_t...   \n",
       "1997  [{'start_token': 18, 'top_level': True, 'end_t...   \n",
       "1998  [{'start_token': 44, 'top_level': True, 'end_t...   \n",
       "1999  [{'start_token': 10, 'top_level': True, 'end_t...   \n",
       "\n",
       "                                          question_text  \\\n",
       "0     which is the most common use of opt-in e-mail ...   \n",
       "1               how i.met your mother who is the mother   \n",
       "2      what type of fertilisation takes place in humans   \n",
       "3                      who had the most wins in the nfl   \n",
       "4       what happened to the lost settlement of roanoke   \n",
       "...                                                 ...   \n",
       "1995         how long is each grace and frankie episode   \n",
       "1996  after complete oxidation of a glucose molecule...   \n",
       "1997                who sings the song some like it hot   \n",
       "1998        who killed the twins in the tower of london   \n",
       "1999       what is the name of the chameleon in tangled   \n",
       "\n",
       "                                            annotations  \\\n",
       "0     [{'yes_no_answer': 'NONE', 'long_answer': {'st...   \n",
       "1     [{'yes_no_answer': 'NONE', 'long_answer': {'st...   \n",
       "2     [{'yes_no_answer': 'NONE', 'long_answer': {'st...   \n",
       "3     [{'yes_no_answer': 'NONE', 'long_answer': {'st...   \n",
       "4     [{'yes_no_answer': 'NONE', 'long_answer': {'st...   \n",
       "...                                                 ...   \n",
       "1995  [{'yes_no_answer': 'NONE', 'long_answer': {'st...   \n",
       "1996  [{'yes_no_answer': 'NONE', 'long_answer': {'st...   \n",
       "1997  [{'yes_no_answer': 'NONE', 'long_answer': {'st...   \n",
       "1998  [{'yes_no_answer': 'NONE', 'long_answer': {'st...   \n",
       "1999  [{'yes_no_answer': 'NONE', 'long_answer': {'st...   \n",
       "\n",
       "                                           document_url           example_id  \\\n",
       "0     https://en.wikipedia.org//w/index.php?title=Em...  5655493461695504401   \n",
       "1     https://en.wikipedia.org//w/index.php?title=Th...  5328212470870865242   \n",
       "2     https://en.wikipedia.org//w/index.php?title=Hu...  4435104480114867852   \n",
       "3     https://en.wikipedia.org//w/index.php?title=Li...  5289242154789678439   \n",
       "4     https://en.wikipedia.org//w/index.php?title=Ro...  5489863933082811018   \n",
       "...                                                 ...                  ...   \n",
       "1995  https://en.wikipedia.org//w/index.php?title=Gr... -7716384782891686197   \n",
       "1996  https://en.wikipedia.org//w/index.php?title=Ce...  8933277615800380148   \n",
       "1997  https://en.wikipedia.org//w/index.php?title=So... -6909007989280228395   \n",
       "1998  https://en.wikipedia.org//w/index.php?title=Pr...  1501574334625895729   \n",
       "1999  https://en.wikipedia.org//w/index.php?title=Pa...  2281183566755493128   \n",
       "\n",
       "     yes_no          long                                       short  \\\n",
       "0      NONE  [1952, 2019]  [{'start_token': 1960, 'end_token': 1969}]   \n",
       "1      NONE    [212, 310]    [{'start_token': 213, 'end_token': 215}]   \n",
       "2      NONE    [319, 438]                                          []   \n",
       "3      NONE    [509, 576]    [{'start_token': 512, 'end_token': 514}]   \n",
       "4      NONE      [-1, -1]                                          []   \n",
       "...     ...           ...                                         ...   \n",
       "1995   NONE     [10, 399]    [{'start_token': 300, 'end_token': 304}]   \n",
       "1996   NONE    [780, 883]    [{'start_token': 796, 'end_token': 799}]   \n",
       "1997   NONE      [-1, -1]                                          []   \n",
       "1998   NONE      [-1, -1]                                          []   \n",
       "1999   NONE  [2087, 2292]  [{'start_token': 2109, 'end_token': 2110}]   \n",
       "\n",
       "                                                   hash punctuation  \n",
       "0     Email marketing - Wikipedia <H1> Email marketi...      [-, -]  \n",
       "1     The Mother ( How I Met Your Mother ) - wikiped...         [.]  \n",
       "2     Human fertilization - wikipedia <H1> Human fer...          []  \n",
       "3     List of National Football League career quarte...          []  \n",
       "4     Roanoke Colony - wikipedia <H1> Roanoke Colony...          []  \n",
       "...                                                 ...         ...  \n",
       "1995  Grace and Frankie - Wikipedia <H1> Grace and F...          []  \n",
       "1996  Cellular respiration - wikipedia <H1> Cellular...          []  \n",
       "1997  Some Like It Hot ( song ) - wikipedia <H1> Som...          []  \n",
       "1998  Princes in the Tower - wikipedia <H1> Princes ...          []  \n",
       "1999  Pascal and Maximus - wikipedia <H1> Pascal and...          []  \n",
       "\n",
       "[2000 rows x 11 columns]"
      ]
     },
     "execution_count": 37,
     "metadata": {},
     "output_type": "execute_result"
    }
   ],
   "source": [
    "df"
   ]
  },
  {
   "cell_type": "code",
   "execution_count": 38,
   "metadata": {
    "execution": {
     "iopub.execute_input": "2022-02-16T13:37:04.868723Z",
     "iopub.status.busy": "2022-02-16T13:37:04.868098Z",
     "iopub.status.idle": "2022-02-16T13:37:04.875891Z",
     "shell.execute_reply": "2022-02-16T13:37:04.874876Z",
     "shell.execute_reply.started": "2022-02-16T13:37:04.868682Z"
    }
   },
   "outputs": [
    {
     "data": {
      "text/plain": [
       "array([list([]), list(['&']), list([\"'\"]), list([\"'\", \"'\"]),\n",
       "       list(['(', ')']), list(['(', ')', \"'\"]), list(['(', '.', ')']),\n",
       "       list(['+']), list(['-']), list(['-', '(', ')']), list(['-', '-']),\n",
       "       list(['-', '.', '.']), list(['.']),\n",
       "       list(['.', '(', '&', ')', '(', ')']), list(['.', '.']),\n",
       "       list(['.', '.', '-']), list(['/']), list(['='])], dtype=object)"
      ]
     },
     "execution_count": 38,
     "metadata": {},
     "output_type": "execute_result"
    }
   ],
   "source": [
    "np.unique(df['punctuation'])"
   ]
  },
  {
   "cell_type": "code",
   "execution_count": 39,
   "metadata": {
    "execution": {
     "iopub.execute_input": "2022-02-16T13:37:07.390105Z",
     "iopub.status.busy": "2022-02-16T13:37:07.389841Z",
     "iopub.status.idle": "2022-02-16T13:37:07.394506Z",
     "shell.execute_reply": "2022-02-16T13:37:07.393840Z",
     "shell.execute_reply.started": "2022-02-16T13:37:07.390076Z"
    }
   },
   "outputs": [],
   "source": [
    "# define training parameters \n",
    "num_train_ques = 2000\n",
    "num_val_ques = 2050\n",
    "sample_rate = 15"
   ]
  },
  {
   "cell_type": "code",
   "execution_count": 40,
   "metadata": {
    "execution": {
     "iopub.execute_input": "2022-02-16T13:37:09.979768Z",
     "iopub.status.busy": "2022-02-16T13:37:09.979054Z",
     "iopub.status.idle": "2022-02-16T13:37:09.985037Z",
     "shell.execute_reply": "2022-02-16T13:37:09.984079Z",
     "shell.execute_reply.started": "2022-02-16T13:37:09.979728Z"
    }
   },
   "outputs": [],
   "source": [
    "# define model parameters\n",
    "epochs = 40\n",
    "batch_size = 64\n",
    "class_weights = {0: 0.5, 1: 5.}"
   ]
  },
  {
   "cell_type": "markdown",
   "metadata": {},
   "source": [
    "## 4. **Part 1 - Identifying Correct Long Answer to a Question**"
   ]
  },
  {
   "cell_type": "code",
   "execution_count": 41,
   "metadata": {
    "execution": {
     "iopub.execute_input": "2022-02-16T13:37:12.508661Z",
     "iopub.status.busy": "2022-02-16T13:37:12.508207Z",
     "iopub.status.idle": "2022-02-16T13:37:12.515199Z",
     "shell.execute_reply": "2022-02-16T13:37:12.514402Z",
     "shell.execute_reply.started": "2022-02-16T13:37:12.508624Z"
    }
   },
   "outputs": [],
   "source": [
    "#The function, get_question_and_document, takes a row from the input DataFrame as input and returns the question text, document text split into a list of words, and the annotations for the row.\n",
    "def get_question_and_document(line):\n",
    "    question = line['question_text']\n",
    "    text = line['document_text'].split(' ')\n",
    "    annotations = line['annotations'][0]    \n",
    "    return question, text, annotations\n",
    "\n",
    "#The get_long_candidate, takes the index of a candidate, the annotations for the row, and the candidate itself as input and returns a boolean label indicating whether or not this candidate is the correct long answer for the question, as well as the starting and ending positions of the candidate in the document text.\n",
    "def get_long_candidate(i, annotations, candidate):\n",
    "    # check if this candidate is the correct long answer\n",
    "    if i == annotations['long_answer']['candidate_index']:\n",
    "        label = True\n",
    "    else:\n",
    "        label = False\n",
    "\n",
    "    # get place where long answer starts and ends in the document text\n",
    "    long_start = candidate['start_token']\n",
    "    long_end = candidate['end_token']    \n",
    "    return label, long_start, long_end\n",
    "\n",
    "#The form_data_row, takes the question, label, document text, and starting and ending positions of the long answer as input and returns a dictionary containing this information. This function is used to create a new DataFrame containing the preprocessed data.\n",
    "def form_data_row(question, label, text, long_start, long_end):\n",
    "    row = {\n",
    "        'question': question,\n",
    "        'long_answer': ' '.join(text[long_start:long_end]),\n",
    "        'is_long_answer': label,\n",
    "    }    \n",
    "    return row"
   ]
  },
  {
   "cell_type": "code",
   "execution_count": 42,
   "metadata": {
    "execution": {
     "iopub.execute_input": "2022-02-16T13:37:15.232215Z",
     "iopub.status.busy": "2022-02-16T13:37:15.231675Z",
     "iopub.status.idle": "2022-02-16T13:37:15.238870Z",
     "shell.execute_reply": "2022-02-16T13:37:15.238050Z",
     "shell.execute_reply.started": "2022-02-16T13:37:15.232173Z"
    }
   },
   "outputs": [],
   "source": [
    "#loads the data from a JSON file, and for each question, extracts the question text, document text, and annotations.\n",
    "def load_data(file_path, questions_start, questions_end):\n",
    "    rows = []\n",
    "#It then loops through each long answer candidate, checks whether it is the correct long answer, and if not, samples it with a certain rate.    \n",
    "    with open(file_path) as file:\n",
    "        for i in tqdm(range(questions_start, questions_end)):\n",
    "            line = file.readline()\n",
    "            line = json.loads(line)\n",
    "            question, text, annotations = get_question_and_document(line)\n",
    "#For each sampled candidate or correct long answer, it creates a data row with the question, long answer, and whether the long answer is correct or not. \n",
    "            for i, candidate in enumerate(line['long_answer_candidates']):\n",
    "                label, long_start, long_end = get_long_candidate(i, annotations, candidate)\n",
    "\n",
    "                if label == True or (i % sample_rate == 0):\n",
    "                    rows.append(\n",
    "                        form_data_row(question, label, text, long_start, long_end)\n",
    "                    )        \n",
    "    return pd.DataFrame(rows)\n",
    "#Finally, it returns a pandas DataFrame containing all the data rows."
   ]
  },
  {
   "cell_type": "code",
   "execution_count": 43,
   "metadata": {
    "execution": {
     "iopub.execute_input": "2022-02-16T13:37:18.088751Z",
     "iopub.status.busy": "2022-02-16T13:37:18.088496Z",
     "iopub.status.idle": "2022-02-16T13:37:20.025819Z",
     "shell.execute_reply": "2022-02-16T13:37:20.025025Z",
     "shell.execute_reply.started": "2022-02-16T13:37:18.088722Z"
    }
   },
   "outputs": [
    {
     "data": {
      "application/vnd.jupyter.widget-view+json": {
       "model_id": "6546e70244a14fdcbc8ec36be49cc3ca",
       "version_major": 2,
       "version_minor": 0
      },
      "text/plain": [
       "  0%|          | 0/2000 [00:00<?, ?it/s]"
      ]
     },
     "metadata": {},
     "output_type": "display_data"
    },
    {
     "data": {
      "application/vnd.jupyter.widget-view+json": {
       "model_id": "46445ddbe2464a638d076a6b9ef6205b",
       "version_major": 2,
       "version_minor": 0
      },
      "text/plain": [
       "  0%|          | 0/50 [00:00<?, ?it/s]"
      ]
     },
     "metadata": {},
     "output_type": "display_data"
    }
   ],
   "source": [
    "train_df = load_data(train_path, 0, num_train_ques)\n",
    "test_df = load_data(train_path, num_train_ques, num_val_ques)"
   ]
  },
  {
   "cell_type": "code",
   "execution_count": 44,
   "metadata": {
    "execution": {
     "iopub.execute_input": "2022-02-16T13:37:24.049964Z",
     "iopub.status.busy": "2022-02-16T13:37:24.049364Z",
     "iopub.status.idle": "2022-02-16T13:37:24.062468Z",
     "shell.execute_reply": "2022-02-16T13:37:24.061566Z",
     "shell.execute_reply.started": "2022-02-16T13:37:24.049926Z"
    }
   },
   "outputs": [
    {
     "data": {
      "text/html": [
       "<div>\n",
       "<style scoped>\n",
       "    .dataframe tbody tr th:only-of-type {\n",
       "        vertical-align: middle;\n",
       "    }\n",
       "\n",
       "    .dataframe tbody tr th {\n",
       "        vertical-align: top;\n",
       "    }\n",
       "\n",
       "    .dataframe thead th {\n",
       "        text-align: right;\n",
       "    }\n",
       "</style>\n",
       "<table border=\"1\" class=\"dataframe\">\n",
       "  <thead>\n",
       "    <tr style=\"text-align: right;\">\n",
       "      <th></th>\n",
       "      <th>question</th>\n",
       "      <th>long_answer</th>\n",
       "      <th>is_long_answer</th>\n",
       "    </tr>\n",
       "  </thead>\n",
       "  <tbody>\n",
       "    <tr>\n",
       "      <th>0</th>\n",
       "      <td>which is the most common use of opt-in e-mail ...</td>\n",
       "      <td>&lt;Table&gt; &lt;Tr&gt; &lt;Td&gt; &lt;/Td&gt; &lt;Td&gt; ( hide ) This art...</td>\n",
       "      <td>False</td>\n",
       "    </tr>\n",
       "    <tr>\n",
       "      <th>1</th>\n",
       "      <td>which is the most common use of opt-in e-mail ...</td>\n",
       "      <td>&lt;Tr&gt; &lt;Td&gt; &lt;Ul&gt; &lt;Li&gt; Pay - per - click &lt;/Li&gt; &lt;L...</td>\n",
       "      <td>False</td>\n",
       "    </tr>\n",
       "    <tr>\n",
       "      <th>2</th>\n",
       "      <td>which is the most common use of opt-in e-mail ...</td>\n",
       "      <td>&lt;P&gt; Email marketing has evolved rapidly alongs...</td>\n",
       "      <td>False</td>\n",
       "    </tr>\n",
       "    <tr>\n",
       "      <th>3</th>\n",
       "      <td>which is the most common use of opt-in e-mail ...</td>\n",
       "      <td>&lt;Li&gt; Advertisers can reach substantial numbers...</td>\n",
       "      <td>False</td>\n",
       "    </tr>\n",
       "    <tr>\n",
       "      <th>4</th>\n",
       "      <td>which is the most common use of opt-in e-mail ...</td>\n",
       "      <td>&lt;P&gt; A common example of permission marketing i...</td>\n",
       "      <td>True</td>\n",
       "    </tr>\n",
       "  </tbody>\n",
       "</table>\n",
       "</div>"
      ],
      "text/plain": [
       "                                            question  \\\n",
       "0  which is the most common use of opt-in e-mail ...   \n",
       "1  which is the most common use of opt-in e-mail ...   \n",
       "2  which is the most common use of opt-in e-mail ...   \n",
       "3  which is the most common use of opt-in e-mail ...   \n",
       "4  which is the most common use of opt-in e-mail ...   \n",
       "\n",
       "                                         long_answer  is_long_answer  \n",
       "0  <Table> <Tr> <Td> </Td> <Td> ( hide ) This art...           False  \n",
       "1  <Tr> <Td> <Ul> <Li> Pay - per - click </Li> <L...           False  \n",
       "2  <P> Email marketing has evolved rapidly alongs...           False  \n",
       "3  <Li> Advertisers can reach substantial numbers...           False  \n",
       "4  <P> A common example of permission marketing i...            True  "
      ]
     },
     "execution_count": 44,
     "metadata": {},
     "output_type": "execute_result"
    }
   ],
   "source": [
    "train_df.head(5)"
   ]
  },
  {
   "cell_type": "code",
   "execution_count": 45,
   "metadata": {
    "execution": {
     "iopub.execute_input": "2022-02-16T13:37:27.380870Z",
     "iopub.status.busy": "2022-02-16T13:37:27.380328Z",
     "iopub.status.idle": "2022-02-16T13:37:27.390493Z",
     "shell.execute_reply": "2022-02-16T13:37:27.389731Z",
     "shell.execute_reply.started": "2022-02-16T13:37:27.380828Z"
    }
   },
   "outputs": [
    {
     "data": {
      "text/html": [
       "<div>\n",
       "<style scoped>\n",
       "    .dataframe tbody tr th:only-of-type {\n",
       "        vertical-align: middle;\n",
       "    }\n",
       "\n",
       "    .dataframe tbody tr th {\n",
       "        vertical-align: top;\n",
       "    }\n",
       "\n",
       "    .dataframe thead th {\n",
       "        text-align: right;\n",
       "    }\n",
       "</style>\n",
       "<table border=\"1\" class=\"dataframe\">\n",
       "  <thead>\n",
       "    <tr style=\"text-align: right;\">\n",
       "      <th></th>\n",
       "      <th>question</th>\n",
       "      <th>long_answer</th>\n",
       "      <th>is_long_answer</th>\n",
       "    </tr>\n",
       "  </thead>\n",
       "  <tbody>\n",
       "    <tr>\n",
       "      <th>0</th>\n",
       "      <td>which is the most common use of opt-in e-mail ...</td>\n",
       "      <td>&lt;Table&gt; &lt;Tr&gt; &lt;Td&gt; &lt;/Td&gt; &lt;Td&gt; ( hide ) This art...</td>\n",
       "      <td>False</td>\n",
       "    </tr>\n",
       "    <tr>\n",
       "      <th>1</th>\n",
       "      <td>which is the most common use of opt-in e-mail ...</td>\n",
       "      <td>&lt;Tr&gt; &lt;Td&gt; &lt;Ul&gt; &lt;Li&gt; Pay - per - click &lt;/Li&gt; &lt;L...</td>\n",
       "      <td>False</td>\n",
       "    </tr>\n",
       "    <tr>\n",
       "      <th>2</th>\n",
       "      <td>which is the most common use of opt-in e-mail ...</td>\n",
       "      <td>&lt;P&gt; Email marketing has evolved rapidly alongs...</td>\n",
       "      <td>False</td>\n",
       "    </tr>\n",
       "    <tr>\n",
       "      <th>3</th>\n",
       "      <td>which is the most common use of opt-in e-mail ...</td>\n",
       "      <td>&lt;Li&gt; Advertisers can reach substantial numbers...</td>\n",
       "      <td>False</td>\n",
       "    </tr>\n",
       "    <tr>\n",
       "      <th>4</th>\n",
       "      <td>which is the most common use of opt-in e-mail ...</td>\n",
       "      <td>&lt;P&gt; A common example of permission marketing i...</td>\n",
       "      <td>True</td>\n",
       "    </tr>\n",
       "  </tbody>\n",
       "</table>\n",
       "</div>"
      ],
      "text/plain": [
       "                                            question  \\\n",
       "0  which is the most common use of opt-in e-mail ...   \n",
       "1  which is the most common use of opt-in e-mail ...   \n",
       "2  which is the most common use of opt-in e-mail ...   \n",
       "3  which is the most common use of opt-in e-mail ...   \n",
       "4  which is the most common use of opt-in e-mail ...   \n",
       "\n",
       "                                         long_answer  is_long_answer  \n",
       "0  <Table> <Tr> <Td> </Td> <Td> ( hide ) This art...           False  \n",
       "1  <Tr> <Td> <Ul> <Li> Pay - per - click </Li> <L...           False  \n",
       "2  <P> Email marketing has evolved rapidly alongs...           False  \n",
       "3  <Li> Advertisers can reach substantial numbers...           False  \n",
       "4  <P> A common example of permission marketing i...            True  "
      ]
     },
     "execution_count": 45,
     "metadata": {},
     "output_type": "execute_result"
    }
   ],
   "source": [
    "test_df.head(5)"
   ]
  },
  {
   "cell_type": "code",
   "execution_count": 46,
   "metadata": {
    "execution": {
     "iopub.execute_input": "2022-02-16T13:37:29.551603Z",
     "iopub.status.busy": "2022-02-16T13:37:29.551044Z",
     "iopub.status.idle": "2022-02-16T13:37:29.558939Z",
     "shell.execute_reply": "2022-02-16T13:37:29.558133Z",
     "shell.execute_reply.started": "2022-02-16T13:37:29.551564Z"
    }
   },
   "outputs": [
    {
     "data": {
      "text/plain": [
       "0    <Table> <Tr> <Td> </Td> <Td> ( hide ) This art...\n",
       "1    <Tr> <Td> <Ul> <Li> Pay - per - click </Li> <L...\n",
       "2    <P> Email marketing has evolved rapidly alongs...\n",
       "3    <Li> Advertisers can reach substantial numbers...\n",
       "4    <P> A common example of permission marketing i...\n",
       "5    <P> The CAN - SPAM Act of 2003 was passed by C...\n",
       "6    <Table> <Tr> <Th_colspan=\"2\"> Tracy McConnell ...\n",
       "7    <P> Tracy McConnell , better known as `` The M...\n",
       "8    <P> In `` Bass Player Wanted '' , the Mother p...\n",
       "9    <Table> <Tr> <Td> Part of a series on </Td> </...\n",
       "Name: long_answer, dtype: object"
      ]
     },
     "execution_count": 46,
     "metadata": {},
     "output_type": "execute_result"
    }
   ],
   "source": [
    "train_df.head(10)['long_answer']"
   ]
  },
  {
   "cell_type": "markdown",
   "metadata": {
    "execution": {
     "iopub.execute_input": "2022-01-07T13:00:09.060503Z",
     "iopub.status.busy": "2022-01-07T13:00:09.060209Z",
     "iopub.status.idle": "2022-01-07T13:00:09.065406Z",
     "shell.execute_reply": "2022-01-07T13:00:09.064588Z",
     "shell.execute_reply.started": "2022-01-07T13:00:09.060471Z"
    }
   },
   "source": [
    "## 5. Text Pre-processing\n",
    "Text pre-processing is crucial for any natural language processing (NLP) task, including question answering. It involves cleaning, normalizing, and transforming raw text data into a format that can be effectively used by machine learning models. In this project, text pre-processing is important to ensure that the input text data is in a consistent format, which can help improve the performance of the TensorFlow 2.0 question answering model. Additionally, text pre-processing techniques such as tokenization, stemming, and stopword removal can help reduce the dimensionality of the text data and improve the efficiency of the model. Overall, text pre-processing is an important step in any NLP task, including question answering with TensorFlow 2.0."
   ]
  },
  {
   "cell_type": "code",
   "execution_count": 47,
   "metadata": {
    "execution": {
     "iopub.execute_input": "2022-02-16T13:37:31.761195Z",
     "iopub.status.busy": "2022-02-16T13:37:31.760640Z",
     "iopub.status.idle": "2022-02-16T13:37:31.768440Z",
     "shell.execute_reply": "2022-02-16T13:37:31.767735Z",
     "shell.execute_reply.started": "2022-02-16T13:37:31.761156Z"
    }
   },
   "outputs": [],
   "source": [
    "#cleaning texts by removing stopwords \n",
    "def remove_stopwords(sentence):\n",
    "    words = sentence.split()\n",
    "    words = [word for word in words if word not in stopwords.words('english')]\n",
    "    return ' '.join(words)\n",
    "\n",
    "#removing html tags \n",
    "def remove_html(sentence):\n",
    "    html = re.compile(r'<.*?>` `` ')\n",
    "    return html.sub(r'', sentence)\n",
    "\n",
    "#returns the pre-processed dataframe for long answers and questions\n",
    "def preprocessed_df(df):\n",
    "    df['long_answer'] = df['long_answer'].apply(lambda x : remove_stopwords(x))\n",
    "    df['long_answer'] = df['long_answer'].apply(lambda x : remove_html(x))\n",
    "\n",
    "    df['question'] = df['question'].apply(lambda x : remove_stopwords(x))\n",
    "    df['question'] = df['question'].apply(lambda x : remove_html(x))\n",
    "    \n",
    "    return df"
   ]
  },
  {
   "cell_type": "code",
   "execution_count": 48,
   "metadata": {
    "execution": {
     "iopub.execute_input": "2022-02-16T13:37:34.207878Z",
     "iopub.status.busy": "2022-02-16T13:37:34.207573Z",
     "iopub.status.idle": "2022-02-16T13:37:34.218810Z",
     "shell.execute_reply": "2022-02-16T13:37:34.218093Z",
     "shell.execute_reply.started": "2022-02-16T13:37:34.207844Z"
    }
   },
   "outputs": [],
   "source": [
    "#Count vectorizer for N grams\n",
    "\n",
    "def ngrams_top(corpus,ngram_range,n=None):\n",
    "    \"\"\"\n",
    "    List the top n words in a vocabulary according to occurrence in a text corpus.\n",
    "    \"\"\"\n",
    "    vec = CountVectorizer(stop_words = 'english',ngram_range=ngram_range).fit(corpus)\n",
    "    bag_of_words = vec.transform(corpus)\n",
    "    sum_words = bag_of_words.sum(axis=0) \n",
    "    words_freq = [(word, sum_words[0, idx]) for word, idx in vec.vocabulary_.items()]\n",
    "    words_freq =sorted(words_freq, key = lambda x: x[1], reverse=True)\n",
    "    total_list=words_freq[:n]\n",
    "    df=pd.DataFrame(total_list,columns=['text','count'])\n",
    "    return df"
   ]
  },
  {
   "cell_type": "code",
   "execution_count": 49,
   "metadata": {
    "execution": {
     "iopub.execute_input": "2022-02-16T13:37:36.451750Z",
     "iopub.status.busy": "2022-02-16T13:37:36.451262Z",
     "iopub.status.idle": "2022-02-16T13:37:36.542175Z",
     "shell.execute_reply": "2022-02-16T13:37:36.541404Z",
     "shell.execute_reply.started": "2022-02-16T13:37:36.451710Z"
    }
   },
   "outputs": [
    {
     "data": {
      "text/html": [
       "<div>\n",
       "<style scoped>\n",
       "    .dataframe tbody tr th:only-of-type {\n",
       "        vertical-align: middle;\n",
       "    }\n",
       "\n",
       "    .dataframe tbody tr th {\n",
       "        vertical-align: top;\n",
       "    }\n",
       "\n",
       "    .dataframe thead th {\n",
       "        text-align: right;\n",
       "    }\n",
       "</style>\n",
       "<table border=\"1\" class=\"dataframe\">\n",
       "  <thead>\n",
       "    <tr style=\"text-align: right;\">\n",
       "      <th></th>\n",
       "      <th>text</th>\n",
       "      <th>count</th>\n",
       "    </tr>\n",
       "  </thead>\n",
       "  <tbody>\n",
       "    <tr>\n",
       "      <th>0</th>\n",
       "      <td>big bang theory</td>\n",
       "      <td>6</td>\n",
       "    </tr>\n",
       "    <tr>\n",
       "      <th>1</th>\n",
       "      <td>orange new black</td>\n",
       "      <td>5</td>\n",
       "    </tr>\n",
       "    <tr>\n",
       "      <th>2</th>\n",
       "      <td>world cup semi</td>\n",
       "      <td>4</td>\n",
       "    </tr>\n",
       "    <tr>\n",
       "      <th>3</th>\n",
       "      <td>cup semi final</td>\n",
       "      <td>4</td>\n",
       "    </tr>\n",
       "    <tr>\n",
       "      <th>4</th>\n",
       "      <td>located world map</td>\n",
       "      <td>4</td>\n",
       "    </tr>\n",
       "    <tr>\n",
       "      <th>5</th>\n",
       "      <td>president united states</td>\n",
       "      <td>3</td>\n",
       "    </tr>\n",
       "    <tr>\n",
       "      <th>6</th>\n",
       "      <td>won world cup</td>\n",
       "      <td>3</td>\n",
       "    </tr>\n",
       "    <tr>\n",
       "      <th>7</th>\n",
       "      <td>gold does glitter</td>\n",
       "      <td>2</td>\n",
       "    </tr>\n",
       "    <tr>\n",
       "      <th>8</th>\n",
       "      <td>hitchhiker guide galaxy</td>\n",
       "      <td>2</td>\n",
       "    </tr>\n",
       "    <tr>\n",
       "      <th>9</th>\n",
       "      <td>fa cup final</td>\n",
       "      <td>2</td>\n",
       "    </tr>\n",
       "  </tbody>\n",
       "</table>\n",
       "</div>"
      ],
      "text/plain": [
       "                      text  count\n",
       "0          big bang theory      6\n",
       "1         orange new black      5\n",
       "2           world cup semi      4\n",
       "3           cup semi final      4\n",
       "4        located world map      4\n",
       "5  president united states      3\n",
       "6            won world cup      3\n",
       "7        gold does glitter      2\n",
       "8  hitchhiker guide galaxy      2\n",
       "9             fa cup final      2"
      ]
     },
     "execution_count": 49,
     "metadata": {},
     "output_type": "execute_result"
    }
   ],
   "source": [
    "ngrams_top(df['question_text'],(3,3),n=10)"
   ]
  },
  {
   "cell_type": "code",
   "execution_count": 50,
   "metadata": {
    "execution": {
     "iopub.execute_input": "2022-02-16T13:37:38.703305Z",
     "iopub.status.busy": "2022-02-16T13:37:38.701309Z",
     "iopub.status.idle": "2022-02-16T13:42:01.179264Z",
     "shell.execute_reply": "2022-02-16T13:42:01.178583Z",
     "shell.execute_reply.started": "2022-02-16T13:37:38.703256Z"
    }
   },
   "outputs": [
    {
     "data": {
      "text/html": [
       "<div>\n",
       "<style scoped>\n",
       "    .dataframe tbody tr th:only-of-type {\n",
       "        vertical-align: middle;\n",
       "    }\n",
       "\n",
       "    .dataframe tbody tr th {\n",
       "        vertical-align: top;\n",
       "    }\n",
       "\n",
       "    .dataframe thead th {\n",
       "        text-align: right;\n",
       "    }\n",
       "</style>\n",
       "<table border=\"1\" class=\"dataframe\">\n",
       "  <thead>\n",
       "    <tr style=\"text-align: right;\">\n",
       "      <th></th>\n",
       "      <th>question</th>\n",
       "      <th>long_answer</th>\n",
       "      <th>is_long_answer</th>\n",
       "    </tr>\n",
       "  </thead>\n",
       "  <tbody>\n",
       "    <tr>\n",
       "      <th>0</th>\n",
       "      <td>common use opt-in e-mail marketing</td>\n",
       "      <td>&lt;Table&gt; &lt;Tr&gt; &lt;Td&gt; &lt;/Td&gt; &lt;Td&gt; ( hide ) This art...</td>\n",
       "      <td>False</td>\n",
       "    </tr>\n",
       "    <tr>\n",
       "      <th>1</th>\n",
       "      <td>common use opt-in e-mail marketing</td>\n",
       "      <td>&lt;Tr&gt; &lt;Td&gt; &lt;Ul&gt; &lt;Li&gt; Pay - per - click &lt;/Li&gt; &lt;L...</td>\n",
       "      <td>False</td>\n",
       "    </tr>\n",
       "    <tr>\n",
       "      <th>2</th>\n",
       "      <td>common use opt-in e-mail marketing</td>\n",
       "      <td>&lt;P&gt; Email marketing evolved rapidly alongside ...</td>\n",
       "      <td>False</td>\n",
       "    </tr>\n",
       "    <tr>\n",
       "      <th>3</th>\n",
       "      <td>common use opt-in e-mail marketing</td>\n",
       "      <td>&lt;Li&gt; Advertisers reach substantial numbers ema...</td>\n",
       "      <td>False</td>\n",
       "    </tr>\n",
       "    <tr>\n",
       "      <th>4</th>\n",
       "      <td>common use opt-in e-mail marketing</td>\n",
       "      <td>&lt;P&gt; A common example permission marketing news...</td>\n",
       "      <td>True</td>\n",
       "    </tr>\n",
       "  </tbody>\n",
       "</table>\n",
       "</div>"
      ],
      "text/plain": [
       "                             question  \\\n",
       "0  common use opt-in e-mail marketing   \n",
       "1  common use opt-in e-mail marketing   \n",
       "2  common use opt-in e-mail marketing   \n",
       "3  common use opt-in e-mail marketing   \n",
       "4  common use opt-in e-mail marketing   \n",
       "\n",
       "                                         long_answer  is_long_answer  \n",
       "0  <Table> <Tr> <Td> </Td> <Td> ( hide ) This art...           False  \n",
       "1  <Tr> <Td> <Ul> <Li> Pay - per - click </Li> <L...           False  \n",
       "2  <P> Email marketing evolved rapidly alongside ...           False  \n",
       "3  <Li> Advertisers reach substantial numbers ema...           False  \n",
       "4  <P> A common example permission marketing news...            True  "
      ]
     },
     "execution_count": 50,
     "metadata": {},
     "output_type": "execute_result"
    }
   ],
   "source": [
    "train_df = preprocessed_df(train_df)\n",
    "test_df = preprocessed_df(test_df)\n",
    "train_df.head(5)"
   ]
  },
  {
   "cell_type": "code",
   "execution_count": 51,
   "metadata": {
    "execution": {
     "iopub.execute_input": "2022-02-16T13:42:08.151576Z",
     "iopub.status.busy": "2022-02-16T13:42:08.151127Z",
     "iopub.status.idle": "2022-02-16T13:42:08.158559Z",
     "shell.execute_reply": "2022-02-16T13:42:08.157556Z",
     "shell.execute_reply.started": "2022-02-16T13:42:08.151538Z"
    }
   },
   "outputs": [
    {
     "data": {
      "text/plain": [
       "0        <Table> <Tr> <Td> </Td> <Td> ( hide ) This art...\n",
       "1        <Tr> <Td> <Ul> <Li> Pay - per - click </Li> <L...\n",
       "2        <P> Email marketing evolved rapidly alongside ...\n",
       "3        <Li> Advertisers reach substantial numbers ema...\n",
       "4        <P> A common example permission marketing news...\n",
       "                               ...                        \n",
       "19968    <Li> An episode Canadian children 's documenta...\n",
       "19969    <Table> <Tr> <Th_colspan=\"2\"> Pascal Maximus <...\n",
       "19970    <Table> <Tr> <Td> `` We n't want like bird chi...\n",
       "19971    <P> Pascal Maximus first appear Tangled ( 2010...\n",
       "19972    <P> Maximus continues guard 's greatest steed ...\n",
       "Name: long_answer, Length: 19973, dtype: object"
      ]
     },
     "execution_count": 51,
     "metadata": {},
     "output_type": "execute_result"
    }
   ],
   "source": [
    "train_df['long_answer']"
   ]
  },
  {
   "cell_type": "markdown",
   "metadata": {},
   "source": [
    "### Tokenizing the Texts\n",
    "Tokenizing the texts involves breaking down a sentence or document into individual words or tokens, which can then be further processed for various NLP tasks like sentiment analysis, language translation, and text classification. In this project, tokenizing the texts is important for creating feature vectors from the text data that can be used in machine learning algorithms to predict whether a given question has a long answer in a given document. The tokenization process will convert the text into a numerical representation that the machine learning algorithms can understand and use to make predictions."
   ]
  },
  {
   "cell_type": "code",
   "execution_count": 52,
   "metadata": {
    "execution": {
     "iopub.execute_input": "2022-02-16T13:42:11.010688Z",
     "iopub.status.busy": "2022-02-16T13:42:11.010134Z",
     "iopub.status.idle": "2022-02-16T13:42:11.014537Z",
     "shell.execute_reply": "2022-02-16T13:42:11.013578Z",
     "shell.execute_reply.started": "2022-02-16T13:42:11.010647Z"
    }
   },
   "outputs": [],
   "source": [
    "# define tokenization parameters\n",
    "filters = '!\"''#$%&()*+,-./:;<=>?@[\\\\]^_`{|}~\\t\\n'\n",
    "lower_case = True\n",
    "max_len = 500 #max lenght of a sentence input in to the model"
   ]
  },
  {
   "cell_type": "code",
   "execution_count": 53,
   "metadata": {
    "execution": {
     "iopub.execute_input": "2022-02-16T13:42:13.256772Z",
     "iopub.status.busy": "2022-02-16T13:42:13.256299Z",
     "iopub.status.idle": "2022-02-16T13:42:13.262952Z",
     "shell.execute_reply": "2022-02-16T13:42:13.262277Z",
     "shell.execute_reply.started": "2022-02-16T13:42:13.256731Z"
    }
   },
   "outputs": [],
   "source": [
    "#assigning a numeric index to each unique word in the dataset so that an array of integers\n",
    "def define_tokenizer(series):\n",
    "    sentences = pd.concat(series)    \n",
    "    tokenizer = tf.keras.preprocessing.text.Tokenizer(lower=lower_case,filters=filters  )\n",
    "    tokenizer.fit_on_texts(sentences)\n",
    "    return tokenizer\n",
    "\n",
    "#encoding, rest with 0 if max_len>no.of words in sentence \n",
    "def encode(sentences, tokenizer):\n",
    "    encoded_sentences = tokenizer.texts_to_sequences(sentences)\n",
    "    encoded_sentences = tf.keras.preprocessing.sequence.pad_sequences(encoded_sentences,\n",
    "                                                                      maxlen=max_len, padding='post')\n",
    "    return encoded_sentences"
   ]
  },
  {
   "cell_type": "code",
   "execution_count": 54,
   "metadata": {
    "execution": {
     "iopub.execute_input": "2022-02-16T13:42:20.029997Z",
     "iopub.status.busy": "2022-02-16T13:42:20.029737Z",
     "iopub.status.idle": "2022-02-16T13:42:21.544098Z",
     "shell.execute_reply": "2022-02-16T13:42:21.543371Z",
     "shell.execute_reply.started": "2022-02-16T13:42:20.029967Z"
    }
   },
   "outputs": [],
   "source": [
    "tokenizer = define_tokenizer([train_df.long_answer,train_df.question,\n",
    "                              test_df.long_answer,test_df.question])"
   ]
  },
  {
   "cell_type": "code",
   "execution_count": 55,
   "metadata": {
    "execution": {
     "iopub.execute_input": "2022-02-16T13:42:22.569322Z",
     "iopub.status.busy": "2022-02-16T13:42:22.568672Z",
     "iopub.status.idle": "2022-02-16T13:42:22.576097Z",
     "shell.execute_reply": "2022-02-16T13:42:22.574357Z",
     "shell.execute_reply.started": "2022-02-16T13:42:22.569236Z"
    }
   },
   "outputs": [
    {
     "data": {
      "text/plain": [
       "<keras_preprocessing.text.Tokenizer at 0x7f94b0826f50>"
      ]
     },
     "execution_count": 55,
     "metadata": {},
     "output_type": "execute_result"
    }
   ],
   "source": [
    "tokenizer"
   ]
  },
  {
   "cell_type": "code",
   "execution_count": 56,
   "metadata": {
    "execution": {
     "iopub.execute_input": "2022-02-16T13:42:24.560717Z",
     "iopub.status.busy": "2022-02-16T13:42:24.560035Z",
     "iopub.status.idle": "2022-02-16T13:42:24.565182Z",
     "shell.execute_reply": "2022-02-16T13:42:24.564238Z",
     "shell.execute_reply.started": "2022-02-16T13:42:24.560678Z"
    }
   },
   "outputs": [
    {
     "name": "stdout",
     "output_type": "stream",
     "text": [
      "Number of Unique Tokens: 67075\n"
     ]
    }
   ],
   "source": [
    "# Get the training data word index\n",
    "word_index = tokenizer.word_index\n",
    "print('Number of Unique Tokens: %d' % len(word_index))"
   ]
  },
  {
   "cell_type": "code",
   "execution_count": 57,
   "metadata": {
    "execution": {
     "iopub.execute_input": "2022-02-16T13:42:26.840958Z",
     "iopub.status.busy": "2022-02-16T13:42:26.840253Z",
     "iopub.status.idle": "2022-02-16T13:42:26.878730Z",
     "shell.execute_reply": "2022-02-16T13:42:26.877936Z",
     "shell.execute_reply.started": "2022-02-16T13:42:26.840908Z"
    }
   },
   "outputs": [
    {
     "data": {
      "text/plain": [
       "[(0, ('td', 1)),\n",
       " (1, ('tr', 2)),\n",
       " (2, ('li', 3)),\n",
       " (3, ('th', 4)),\n",
       " (4, ('p', 5)),\n",
       " (5, ('ul', 6)),\n",
       " (6, ('2', 7)),\n",
       " (7, ('colspan', 8)),\n",
       " (8, ('the', 9)),\n",
       " (9, (\"''\", 10)),\n",
       " (10, ('table', 11)),\n",
       " (11, (\"'s\", 12)),\n",
       " (12, ('1', 13)),\n",
       " (13, ('3', 14)),\n",
       " (14, ('0', 15)),\n",
       " (15, ('5', 16)),\n",
       " (16, ('new', 17)),\n",
       " (17, ('4', 18)),\n",
       " (18, ('dd', 19)),\n",
       " (19, ('6', 20)),\n",
       " (20, ('first', 21)),\n",
       " (21, ('7', 22)),\n",
       " (22, ('°', 23)),\n",
       " (23, ('season', 24)),\n",
       " (24, ('2017', 25)),\n",
       " (25, ('united', 26)),\n",
       " (26, ('in', 27)),\n",
       " (27, ('time', 28)),\n",
       " (28, ('states', 29)),\n",
       " (29, ('8', 30)),\n",
       " (30, ('10', 31)),\n",
       " (31, ('000', 32)),\n",
       " (32, ('one', 33)),\n",
       " (33, ('world', 34)),\n",
       " (34, ('a', 35)),\n",
       " (35, ('12', 36)),\n",
       " (36, ('2016', 37)),\n",
       " (37, ('9', 38)),\n",
       " (38, ('may', 39)),\n",
       " (39, ('11', 40)),\n",
       " (40, ('\\ufeff', 41)),\n",
       " (41, ('no', 42)),\n",
       " (42, ('2018', 43)),\n",
       " (43, ('also', 44)),\n",
       " (44, (\"'\", 45)),\n",
       " (45, ('many', 46)),\n",
       " (46, ('n', 47)),\n",
       " (47, ('18', 48)),\n",
       " (48, ('game', 49)),\n",
       " (49, ('state', 50))]"
      ]
     },
     "execution_count": 57,
     "metadata": {},
     "output_type": "execute_result"
    }
   ],
   "source": [
    "list(enumerate(word_index.items()))[:50]"
   ]
  },
  {
   "cell_type": "code",
   "execution_count": 58,
   "metadata": {
    "execution": {
     "iopub.execute_input": "2022-02-16T13:42:29.881314Z",
     "iopub.status.busy": "2022-02-16T13:42:29.880569Z",
     "iopub.status.idle": "2022-02-16T13:42:29.887184Z",
     "shell.execute_reply": "2022-02-16T13:42:29.886385Z",
     "shell.execute_reply.started": "2022-02-16T13:42:29.881263Z"
    }
   },
   "outputs": [
    {
     "data": {
      "text/plain": [
       "5938"
      ]
     },
     "execution_count": 58,
     "metadata": {},
     "output_type": "execute_result"
    }
   ],
   "source": [
    "tokenizer.word_index['handle']"
   ]
  },
  {
   "cell_type": "code",
   "execution_count": 59,
   "metadata": {
    "execution": {
     "iopub.execute_input": "2022-02-16T13:42:31.600694Z",
     "iopub.status.busy": "2022-02-16T13:42:31.600147Z",
     "iopub.status.idle": "2022-02-16T13:42:31.607549Z",
     "shell.execute_reply": "2022-02-16T13:42:31.606716Z",
     "shell.execute_reply.started": "2022-02-16T13:42:31.600656Z"
    }
   },
   "outputs": [
    {
     "data": {
      "text/plain": [
       "10151"
      ]
     },
     "execution_count": 59,
     "metadata": {},
     "output_type": "execute_result"
    }
   ],
   "source": [
    "tokenizer.word_index['pandemic']"
   ]
  },
  {
   "cell_type": "code",
   "execution_count": 60,
   "metadata": {
    "execution": {
     "iopub.execute_input": "2022-02-16T13:42:33.720712Z",
     "iopub.status.busy": "2022-02-16T13:42:33.720149Z",
     "iopub.status.idle": "2022-02-16T13:42:35.332403Z",
     "shell.execute_reply": "2022-02-16T13:42:35.331646Z",
     "shell.execute_reply.started": "2022-02-16T13:42:33.720672Z"
    }
   },
   "outputs": [],
   "source": [
    "#Encode function to convert the long answer and question texts from the train and test datasets into encoded sequences of tokens using the provided tokenizer.\n",
    "train_long_answers = encode(train_df['long_answer'].values, tokenizer)\n",
    "train_questions = encode(train_df['question'].values, tokenizer)\n",
    "\n",
    "#The resulting encoded sequences will be used for training and evaluating the TensorFlow 2.0 Question Answering model.\n",
    "test_long_answers = encode(test_df['long_answer'].values, tokenizer)\n",
    "test_questions = encode(test_df['question'].values, tokenizer)"
   ]
  },
  {
   "cell_type": "code",
   "execution_count": 61,
   "metadata": {
    "execution": {
     "iopub.execute_input": "2022-02-16T13:42:42.598129Z",
     "iopub.status.busy": "2022-02-16T13:42:42.597379Z",
     "iopub.status.idle": "2022-02-16T13:42:42.607274Z",
     "shell.execute_reply": "2022-02-16T13:42:42.606553Z",
     "shell.execute_reply.started": "2022-02-16T13:42:42.598091Z"
    }
   },
   "outputs": [
    {
     "data": {
      "text/plain": [
       "array([[  11,    2,    1, ...,    0,    0,    0],\n",
       "       [   2,    1,    6, ...,    0,    0,    0],\n",
       "       [   5, 4395, 2283, ...,    0,    0,    0],\n",
       "       ...,\n",
       "       [  11,    2,    1, ...,    0,    0,    0],\n",
       "       [   5, 9592, 8032, ...,    0,    0,    0],\n",
       "       [   5, 8032, 2710, ...,    0,    0,    0]], dtype=int32)"
      ]
     },
     "execution_count": 61,
     "metadata": {},
     "output_type": "execute_result"
    }
   ],
   "source": [
    "train_long_answers"
   ]
  },
  {
   "cell_type": "code",
   "execution_count": 62,
   "metadata": {
    "execution": {
     "iopub.execute_input": "2022-02-16T13:42:44.981066Z",
     "iopub.status.busy": "2022-02-16T13:42:44.980784Z",
     "iopub.status.idle": "2022-02-16T13:42:44.989608Z",
     "shell.execute_reply": "2022-02-16T13:42:44.988868Z",
     "shell.execute_reply.started": "2022-02-16T13:42:44.981035Z"
    }
   },
   "outputs": [
    {
     "data": {
      "text/plain": [
       "array([  11,    2,    1,    1,    1, 1188,   52,   70,  824,  798,  197,\n",
       "        144,  274, 1168,  798,  680,  653,  182,  187,  200, 2043,   11,\n",
       "          2,    1,    1,    1,   52,   70,  362,  370,  184,  584,  197,\n",
       "        144,  274,   70,  395,  184,  469,  298,  506,  363,   39,  513,\n",
       "        381,   99,   69,  182,  187,  200,  215,    1,    2,   11,   11,\n",
       "          2,    1,    1,    1,   52,   70, 2309, 1527,   85,  863,  197,\n",
       "        274, 5626, 1399,   91,  395, 3237,  184, 3104, 3007,   85,  863,\n",
       "        381,   95,   51,  182,  187,  200,  215,    1,    2,   11,  182,\n",
       "        187,  200,  215,    1,    2,   11,    0,    0,    0,    0,    0,\n",
       "          0,    0,    0,    0,    0,    0,    0,    0,    0,    0,    0,\n",
       "          0,    0,    0,    0,    0,    0,    0,    0,    0,    0,    0,\n",
       "          0,    0,    0,    0,    0,    0,    0,    0,    0,    0,    0,\n",
       "          0,    0,    0,    0,    0,    0,    0,    0,    0,    0,    0,\n",
       "          0,    0,    0,    0,    0,    0,    0,    0,    0,    0,    0,\n",
       "          0,    0,    0,    0,    0,    0,    0,    0,    0,    0,    0,\n",
       "          0,    0,    0,    0,    0,    0,    0,    0,    0,    0,    0,\n",
       "          0,    0,    0,    0,    0,    0,    0,    0,    0,    0,    0,\n",
       "          0,    0,    0,    0,    0,    0,    0,    0,    0,    0,    0,\n",
       "          0,    0,    0,    0,    0,    0,    0,    0,    0,    0,    0,\n",
       "          0,    0,    0,    0,    0,    0,    0,    0,    0,    0,    0,\n",
       "          0,    0,    0,    0,    0,    0,    0,    0,    0,    0,    0,\n",
       "          0,    0,    0,    0,    0,    0,    0,    0,    0,    0,    0,\n",
       "          0,    0,    0,    0,    0,    0,    0,    0,    0,    0,    0,\n",
       "          0,    0,    0,    0,    0,    0,    0,    0,    0,    0,    0,\n",
       "          0,    0,    0,    0,    0,    0,    0,    0,    0,    0,    0,\n",
       "          0,    0,    0,    0,    0,    0,    0,    0,    0,    0,    0,\n",
       "          0,    0,    0,    0,    0,    0,    0,    0,    0,    0,    0,\n",
       "          0,    0,    0,    0,    0,    0,    0,    0,    0,    0,    0,\n",
       "          0,    0,    0,    0,    0,    0,    0,    0,    0,    0,    0,\n",
       "          0,    0,    0,    0,    0,    0,    0,    0,    0,    0,    0,\n",
       "          0,    0,    0,    0,    0,    0,    0,    0,    0,    0,    0,\n",
       "          0,    0,    0,    0,    0,    0,    0,    0,    0,    0,    0,\n",
       "          0,    0,    0,    0,    0,    0,    0,    0,    0,    0,    0,\n",
       "          0,    0,    0,    0,    0,    0,    0,    0,    0,    0,    0,\n",
       "          0,    0,    0,    0,    0,    0,    0,    0,    0,    0,    0,\n",
       "          0,    0,    0,    0,    0,    0,    0,    0,    0,    0,    0,\n",
       "          0,    0,    0,    0,    0,    0,    0,    0,    0,    0,    0,\n",
       "          0,    0,    0,    0,    0,    0,    0,    0,    0,    0,    0,\n",
       "          0,    0,    0,    0,    0,    0,    0,    0,    0,    0,    0,\n",
       "          0,    0,    0,    0,    0,    0,    0,    0,    0,    0,    0,\n",
       "          0,    0,    0,    0,    0,    0,    0,    0,    0,    0,    0,\n",
       "          0,    0,    0,    0,    0,    0,    0,    0,    0,    0,    0,\n",
       "          0,    0,    0,    0,    0,    0,    0,    0,    0,    0,    0,\n",
       "          0,    0,    0,    0,    0,    0,    0,    0,    0,    0,    0,\n",
       "          0,    0,    0,    0,    0,    0,    0,    0,    0,    0,    0,\n",
       "          0,    0,    0,    0,    0], dtype=int32)"
      ]
     },
     "execution_count": 62,
     "metadata": {},
     "output_type": "execute_result"
    }
   ],
   "source": [
    "train_long_answers[0]"
   ]
  },
  {
   "cell_type": "code",
   "execution_count": 63,
   "metadata": {
    "execution": {
     "iopub.execute_input": "2022-02-16T13:42:51.081450Z",
     "iopub.status.busy": "2022-02-16T13:42:51.081193Z",
     "iopub.status.idle": "2022-02-16T13:42:51.086972Z",
     "shell.execute_reply": "2022-02-16T13:42:51.086323Z",
     "shell.execute_reply.started": "2022-02-16T13:42:51.081421Z"
    }
   },
   "outputs": [
    {
     "data": {
      "text/plain": [
       "array([[  574,   247,  8111, ...,     0,     0,     0],\n",
       "       [  574,   247,  8111, ...,     0,     0,     0],\n",
       "       [  574,   247,  8111, ...,     0,     0,     0],\n",
       "       ...,\n",
       "       [   90, 13943,  4954, ...,     0,     0,     0],\n",
       "       [   90, 13943,  4954, ...,     0,     0,     0],\n",
       "       [   90, 13943,  4954, ...,     0,     0,     0]], dtype=int32)"
      ]
     },
     "execution_count": 63,
     "metadata": {},
     "output_type": "execute_result"
    }
   ],
   "source": [
    "train_questions"
   ]
  },
  {
   "cell_type": "code",
   "execution_count": 64,
   "metadata": {
    "execution": {
     "iopub.execute_input": "2022-02-16T13:42:53.120859Z",
     "iopub.status.busy": "2022-02-16T13:42:53.120307Z",
     "iopub.status.idle": "2022-02-16T13:42:53.125424Z",
     "shell.execute_reply": "2022-02-16T13:42:53.124701Z",
     "shell.execute_reply.started": "2022-02-16T13:42:53.120816Z"
    }
   },
   "outputs": [],
   "source": [
    "train_labels = train_df.is_long_answer.astype(int).values\n",
    "test_labels = test_df.is_long_answer.astype(int).values"
   ]
  },
  {
   "cell_type": "code",
   "execution_count": 65,
   "metadata": {
    "execution": {
     "iopub.execute_input": "2022-02-16T13:42:55.260930Z",
     "iopub.status.busy": "2022-02-16T13:42:55.260390Z",
     "iopub.status.idle": "2022-02-16T13:42:55.266402Z",
     "shell.execute_reply": "2022-02-16T13:42:55.265708Z",
     "shell.execute_reply.started": "2022-02-16T13:42:55.260893Z"
    }
   },
   "outputs": [
    {
     "data": {
      "text/plain": [
       "array([0, 0, 0, ..., 0, 1, 0])"
      ]
     },
     "execution_count": 65,
     "metadata": {},
     "output_type": "execute_result"
    }
   ],
   "source": [
    "train_labels"
   ]
  },
  {
   "cell_type": "code",
   "execution_count": 66,
   "metadata": {
    "execution": {
     "iopub.execute_input": "2022-02-16T13:42:57.290347Z",
     "iopub.status.busy": "2022-02-16T13:42:57.289798Z",
     "iopub.status.idle": "2022-02-16T13:42:57.297327Z",
     "shell.execute_reply": "2022-02-16T13:42:57.296638Z",
     "shell.execute_reply.started": "2022-02-16T13:42:57.290306Z"
    }
   },
   "outputs": [
    {
     "data": {
      "text/plain": [
       "array([0, 0, 0, 0, 1, 0, 0, 1, 0, 0, 0, 1, 0, 0, 0, 0, 0, 0, 1, 0, 0, 0,\n",
       "       0, 0, 0, 0, 0, 0, 0, 0, 0, 0, 0, 0, 0, 0, 0, 0, 0, 0, 0, 0, 0, 0,\n",
       "       0, 0, 0, 0, 0, 0, 0, 0, 0, 0, 0, 0, 0, 0, 0, 0, 0, 0, 0, 0, 0, 0,\n",
       "       1, 0, 0, 0, 0, 0, 0, 0, 0, 1, 0, 0, 0, 0, 0, 0, 0, 0, 0, 1, 0, 0,\n",
       "       0, 0, 0, 0, 0, 0, 0, 0, 0, 0, 0, 0, 0, 0, 0, 0, 0, 0, 0, 0, 0, 0,\n",
       "       0, 0, 0, 0, 0, 0, 0, 1, 0, 0, 0, 0, 0, 0, 0, 0, 0, 0, 0, 0, 0, 0,\n",
       "       0, 0, 0, 1, 0, 0, 0, 0, 0, 0, 1, 0, 0, 0, 0, 0, 0, 0, 0, 0, 1, 0,\n",
       "       0, 1, 0, 0, 0, 0, 0, 0, 0, 0, 0, 0, 0, 0, 0, 0, 0, 0, 0, 0, 0, 0,\n",
       "       0, 0, 0, 0, 0, 0, 0, 0, 0, 0, 0, 0, 0, 0, 0, 0, 0, 0, 0, 0, 0, 0,\n",
       "       0, 0, 0, 0, 0, 0, 0, 0, 0, 0, 0, 0, 0, 0, 0, 1, 0, 0, 0, 0, 0, 0,\n",
       "       0, 0, 0, 0, 0, 0, 0, 0, 0, 0, 0, 0, 0, 1, 0, 0, 0, 0, 0, 0, 0, 0,\n",
       "       0, 0, 0, 1, 0, 0, 0, 0, 0, 0, 0, 0, 0, 0, 0, 0, 0, 0, 0, 0, 0, 0,\n",
       "       0, 0, 1, 0, 0, 0, 0, 0, 0, 0, 0, 0, 0, 0, 0, 1, 0, 0, 0, 0, 0, 0,\n",
       "       0, 0, 0, 0, 0, 0, 0, 0, 0, 0, 0, 0, 0, 0, 0, 0, 0, 0, 0, 0, 0, 0,\n",
       "       0, 0, 0, 0, 0, 0, 0, 0, 0, 0, 0, 0, 0, 0, 0, 0, 1, 0, 0, 0, 0, 0,\n",
       "       0, 1, 0, 0, 0, 0, 0, 0, 0, 0, 0, 0, 0, 0, 0, 0, 0, 0, 0, 0, 0, 0,\n",
       "       0, 0, 0, 0, 0, 0, 0, 0, 0, 0, 0, 0, 0, 0, 0, 0, 0, 0, 0, 0, 0, 1,\n",
       "       0, 0, 0, 0, 0, 0, 0, 0, 0, 0, 0, 0, 0, 0, 1, 0, 0, 1, 0, 0, 0, 0,\n",
       "       0, 0, 0, 0, 0, 0, 1, 0, 0, 0, 0, 0, 0, 0, 1, 0, 0, 0, 0, 1, 0, 0,\n",
       "       1])"
      ]
     },
     "execution_count": 66,
     "metadata": {},
     "output_type": "execute_result"
    }
   ],
   "source": [
    "test_labels"
   ]
  },
  {
   "cell_type": "markdown",
   "metadata": {},
   "source": [
    "##  6. Define Embedding Layer\n",
    "\n",
    "### **Loading the pre-trained embedding - using GloVe**\n",
    " \n",
    "An embedding layer is a layer in a neural network that is responsible for mapping input data, such as words or sentences, into high-dimensional vectors. These vectors are known as embeddings and are used to represent the input data in a way that captures its semantic meaning.\n",
    "\n",
    "\n",
    "**\"GloVe\"** is a pre-trained embedding model that stands for Global Vectors for Word Representation. It is a widely used unsupervised method for generating word embeddings, which essentially creates a dense vector for each word in a vocabulary based on the co-occurrence statistics of that word with other words in a corpus. GloVe provides pre-trained word embeddings that can be used as weights for an embedding layer in a neural network. This allows the network to benefit from the semantic information captured by GloVe and potentially improve performance on various natural language processing tasks."
   ]
  },
  {
   "cell_type": "code",
   "execution_count": 67,
   "metadata": {
    "execution": {
     "iopub.execute_input": "2022-02-16T13:43:00.900634Z",
     "iopub.status.busy": "2022-02-16T13:43:00.900110Z",
     "iopub.status.idle": "2022-02-16T13:43:32.171707Z",
     "shell.execute_reply": "2022-02-16T13:43:32.170988Z",
     "shell.execute_reply.started": "2022-02-16T13:43:00.900597Z"
    }
   },
   "outputs": [],
   "source": [
    "embed_size = 200\n",
    "embedding_dict = {}\n",
    "\n",
    "with open('../input/glove6b/glove.6B.' + str(embed_size) + 'd.txt','r') as f:\n",
    "    for line in f:\n",
    "        values = line.split()\n",
    "        word = values[0]\n",
    "        vectors = np.asarray(values[1:],'float32')\n",
    "        embedding_dict[word] = vectors        \n",
    "f.close()"
   ]
  },
  {
   "cell_type": "code",
   "execution_count": 69,
   "metadata": {
    "execution": {
     "iopub.execute_input": "2022-02-16T13:43:40.280940Z",
     "iopub.status.busy": "2022-02-16T13:43:40.280401Z",
     "iopub.status.idle": "2022-02-16T13:43:40.287989Z",
     "shell.execute_reply": "2022-02-16T13:43:40.287066Z",
     "shell.execute_reply.started": "2022-02-16T13:43:40.280899Z"
    }
   },
   "outputs": [
    {
     "name": "stdout",
     "output_type": "stream",
     "text": [
      "num_words: 67076\n",
      "embedding_matrix: [[0. 0. 0. ... 0. 0. 0.]\n",
      " [0. 0. 0. ... 0. 0. 0.]\n",
      " [0. 0. 0. ... 0. 0. 0.]\n",
      " ...\n",
      " [0. 0. 0. ... 0. 0. 0.]\n",
      " [0. 0. 0. ... 0. 0. 0.]\n",
      " [0. 0. 0. ... 0. 0. 0.]]\n"
     ]
    }
   ],
   "source": [
    "#initializes an embedding matrix with the shape of (num_words, embed_size) where num_words is the number of unique words in the tokenizer's vocabulary plus one, and embed_size is the dimensionality of the pre-trained GloVe embeddings. \n",
    "#It also prints the values of num_words and embedding_matrix.\n",
    "num_words = len(word_index) + 1\n",
    "\n",
    "embedding_matrix = np.zeros((num_words, embed_size))\n",
    "print(\"num_words:\", num_words)\n",
    "print(\"embedding_matrix:\", embedding_matrix)"
   ]
  },
  {
   "cell_type": "code",
   "execution_count": 70,
   "metadata": {
    "execution": {
     "iopub.execute_input": "2022-02-16T13:43:44.280038Z",
     "iopub.status.busy": "2022-02-16T13:43:44.279348Z",
     "iopub.status.idle": "2022-02-16T13:43:44.460304Z",
     "shell.execute_reply": "2022-02-16T13:43:44.459553Z",
     "shell.execute_reply.started": "2022-02-16T13:43:44.279978Z"
    }
   },
   "outputs": [],
   "source": [
    "#iterating over each word in the word_index dictionary and checking if its index i is less than or equal to the maximum number of words allowed num_words. \n",
    "#If it is, it tries to retrieve the corresponding embedding vector from the embedding_dict. \n",
    "for word, i in word_index.items():\n",
    "    if i > num_words:\n",
    "        continue\n",
    "#If an embedding vector is found, it is assigned to the corresponding row of the embedding_matrix. \n",
    "#If not, the row is initialized to a zero vector, since there is no pre-trained embedding vector available for that word.    \n",
    "    emb_vec = embedding_dict.get(word)\n",
    "    \n",
    "    if emb_vec is not None:\n",
    "        embedding_matrix[i] = emb_vec"
   ]
  },
  {
   "cell_type": "markdown",
   "metadata": {},
   "source": [
    "## 7. Defining Model\n"
   ]
  },
  {
   "cell_type": "code",
   "execution_count": 71,
   "metadata": {
    "execution": {
     "iopub.execute_input": "2022-02-16T13:43:53.812688Z",
     "iopub.status.busy": "2022-02-16T13:43:53.811989Z",
     "iopub.status.idle": "2022-02-16T13:43:53.840995Z",
     "shell.execute_reply": "2022-02-16T13:43:53.840264Z",
     "shell.execute_reply.started": "2022-02-16T13:43:53.812648Z"
    }
   },
   "outputs": [],
   "source": [
    "#initialize embedding layer\n",
    "embedding_layer = tf.keras.layers.Embedding(\n",
    "    len(word_index) + 1,\n",
    "    embed_size,\n",
    "    embeddings_initializer = tf.keras.initializers.Constant(embedding_matrix),\n",
    "    trainable = False\n",
    ")"
   ]
  },
  {
   "cell_type": "code",
   "execution_count": 72,
   "metadata": {
    "execution": {
     "iopub.execute_input": "2022-02-16T13:43:58.260912Z",
     "iopub.status.busy": "2022-02-16T13:43:58.260445Z",
     "iopub.status.idle": "2022-02-16T13:44:01.711289Z",
     "shell.execute_reply": "2022-02-16T13:44:01.710537Z",
     "shell.execute_reply.started": "2022-02-16T13:43:58.260872Z"
    }
   },
   "outputs": [
    {
     "name": "stderr",
     "output_type": "stream",
     "text": [
      "2022-02-16 13:43:58.326777: I tensorflow/stream_executor/cuda/cuda_gpu_executor.cc:937] successful NUMA node read from SysFS had negative value (-1), but there must be at least one NUMA node, so returning NUMA node zero\n",
      "2022-02-16 13:43:58.432396: I tensorflow/stream_executor/cuda/cuda_gpu_executor.cc:937] successful NUMA node read from SysFS had negative value (-1), but there must be at least one NUMA node, so returning NUMA node zero\n",
      "2022-02-16 13:43:58.433101: I tensorflow/stream_executor/cuda/cuda_gpu_executor.cc:937] successful NUMA node read from SysFS had negative value (-1), but there must be at least one NUMA node, so returning NUMA node zero\n",
      "2022-02-16 13:43:58.434056: I tensorflow/core/platform/cpu_feature_guard.cc:142] This TensorFlow binary is optimized with oneAPI Deep Neural Network Library (oneDNN) to use the following CPU instructions in performance-critical operations:  AVX2 AVX512F FMA\n",
      "To enable them in other operations, rebuild TensorFlow with the appropriate compiler flags.\n",
      "2022-02-16 13:43:58.435031: I tensorflow/stream_executor/cuda/cuda_gpu_executor.cc:937] successful NUMA node read from SysFS had negative value (-1), but there must be at least one NUMA node, so returning NUMA node zero\n",
      "2022-02-16 13:43:58.435705: I tensorflow/stream_executor/cuda/cuda_gpu_executor.cc:937] successful NUMA node read from SysFS had negative value (-1), but there must be at least one NUMA node, so returning NUMA node zero\n",
      "2022-02-16 13:43:58.436337: I tensorflow/stream_executor/cuda/cuda_gpu_executor.cc:937] successful NUMA node read from SysFS had negative value (-1), but there must be at least one NUMA node, so returning NUMA node zero\n",
      "2022-02-16 13:44:00.375225: I tensorflow/stream_executor/cuda/cuda_gpu_executor.cc:937] successful NUMA node read from SysFS had negative value (-1), but there must be at least one NUMA node, so returning NUMA node zero\n",
      "2022-02-16 13:44:00.376311: I tensorflow/stream_executor/cuda/cuda_gpu_executor.cc:937] successful NUMA node read from SysFS had negative value (-1), but there must be at least one NUMA node, so returning NUMA node zero\n",
      "2022-02-16 13:44:00.377255: I tensorflow/stream_executor/cuda/cuda_gpu_executor.cc:937] successful NUMA node read from SysFS had negative value (-1), but there must be at least one NUMA node, so returning NUMA node zero\n",
      "2022-02-16 13:44:00.378135: I tensorflow/core/common_runtime/gpu/gpu_device.cc:1510] Created device /job:localhost/replica:0/task:0/device:GPU:0 with 15403 MB memory:  -> device: 0, name: Tesla P100-PCIE-16GB, pci bus id: 0000:00:04.0, compute capability: 6.0\n"
     ]
    }
   ],
   "source": [
    "# question encoding-encodes the question\n",
    "question_input = Input(shape=(None,))\n",
    "question_x = embedding_layer(question_input)\n",
    "question_x = SpatialDropout1D(0.2)(question_x)\n",
    "question_x = Bidirectional(LSTM(100, return_sequences=True))(question_x)\n",
    "question_x = GlobalMaxPooling1D()(question_x) # outputs an encoded array representing the question\n",
    "\n",
    "# answer encoding-encodes the answer\n",
    "answer_input = Input(shape=(None,))\n",
    "answer_x = embedding_layer(answer_input)\n",
    "answer_x = SpatialDropout1D(0.2)(answer_x)\n",
    "answer_x = Bidirectional(LSTM(150, return_sequences=True))(answer_x)\n",
    "answer_x = GlobalMaxPooling1D()(answer_x) #outputs an encoded array representing the answer\n",
    "\n",
    "# classification\n",
    "combined_x = concatenate([question_x, answer_x])\n",
    "combined_x = Dense(300, activation='relu')(combined_x)\n",
    "combined_x = Dropout(0.5)(combined_x)\n",
    "combined_x = Dense(300, activation='relu')(combined_x)\n",
    "combined_x = Dropout(0.5)(combined_x)\n",
    "model_output = Dense(1, activation='sigmoid')(combined_x) # probability how close the potential answer is to the true answer to the question.\n",
    "\n",
    "# defining model by combining above three parts\n",
    "model = tf.keras.models.Model(inputs=[answer_input, question_input], outputs=model_output)"
   ]
  },
  {
   "cell_type": "code",
   "execution_count": 73,
   "metadata": {
    "execution": {
     "iopub.execute_input": "2022-02-16T13:44:05.731806Z",
     "iopub.status.busy": "2022-02-16T13:44:05.731540Z",
     "iopub.status.idle": "2022-02-16T13:44:05.746856Z",
     "shell.execute_reply": "2022-02-16T13:44:05.746136Z",
     "shell.execute_reply.started": "2022-02-16T13:44:05.731773Z"
    }
   },
   "outputs": [
    {
     "name": "stdout",
     "output_type": "stream",
     "text": [
      "Model: \"model\"\n",
      "__________________________________________________________________________________________________\n",
      "Layer (type)                    Output Shape         Param #     Connected to                     \n",
      "==================================================================================================\n",
      "input_1 (InputLayer)            [(None, None)]       0                                            \n",
      "__________________________________________________________________________________________________\n",
      "input_2 (InputLayer)            [(None, None)]       0                                            \n",
      "__________________________________________________________________________________________________\n",
      "embedding (Embedding)           (None, None, 200)    13415200    input_1[0][0]                    \n",
      "                                                                 input_2[0][0]                    \n",
      "__________________________________________________________________________________________________\n",
      "spatial_dropout1d (SpatialDropo (None, None, 200)    0           embedding[0][0]                  \n",
      "__________________________________________________________________________________________________\n",
      "spatial_dropout1d_1 (SpatialDro (None, None, 200)    0           embedding[1][0]                  \n",
      "__________________________________________________________________________________________________\n",
      "bidirectional (Bidirectional)   (None, None, 200)    240800      spatial_dropout1d[0][0]          \n",
      "__________________________________________________________________________________________________\n",
      "bidirectional_1 (Bidirectional) (None, None, 300)    421200      spatial_dropout1d_1[0][0]        \n",
      "__________________________________________________________________________________________________\n",
      "global_max_pooling1d (GlobalMax (None, 200)          0           bidirectional[0][0]              \n",
      "__________________________________________________________________________________________________\n",
      "global_max_pooling1d_1 (GlobalM (None, 300)          0           bidirectional_1[0][0]            \n",
      "__________________________________________________________________________________________________\n",
      "concatenate (Concatenate)       (None, 500)          0           global_max_pooling1d[0][0]       \n",
      "                                                                 global_max_pooling1d_1[0][0]     \n",
      "__________________________________________________________________________________________________\n",
      "dense (Dense)                   (None, 300)          150300      concatenate[0][0]                \n",
      "__________________________________________________________________________________________________\n",
      "dropout (Dropout)               (None, 300)          0           dense[0][0]                      \n",
      "__________________________________________________________________________________________________\n",
      "dense_1 (Dense)                 (None, 300)          90300       dropout[0][0]                    \n",
      "__________________________________________________________________________________________________\n",
      "dropout_1 (Dropout)             (None, 300)          0           dense_1[0][0]                    \n",
      "__________________________________________________________________________________________________\n",
      "dense_2 (Dense)                 (None, 1)            301         dropout_1[0][0]                  \n",
      "==================================================================================================\n",
      "Total params: 14,318,101\n",
      "Trainable params: 902,901\n",
      "Non-trainable params: 13,415,200\n",
      "__________________________________________________________________________________________________\n"
     ]
    }
   ],
   "source": [
    "#summary for the model\n",
    "model.summary()"
   ]
  },
  {
   "cell_type": "code",
   "execution_count": 74,
   "metadata": {
    "execution": {
     "iopub.execute_input": "2022-02-16T13:44:08.401950Z",
     "iopub.status.busy": "2022-02-16T13:44:08.401164Z",
     "iopub.status.idle": "2022-02-16T13:44:08.416766Z",
     "shell.execute_reply": "2022-02-16T13:44:08.415908Z",
     "shell.execute_reply.started": "2022-02-16T13:44:08.401892Z"
    }
   },
   "outputs": [],
   "source": [
    "#compiles a model in Keras with the binary cross-entropy loss function, Adam optimizer, and binary accuracy, recall, and precision metrics.\n",
    "model.compile(\n",
    "    loss='binary_crossentropy', \n",
    "    optimizer='adam',\n",
    "    metrics=['BinaryAccuracy', 'Recall', 'Precision'])"
   ]
  },
  {
   "cell_type": "code",
   "execution_count": 75,
   "metadata": {
    "execution": {
     "iopub.execute_input": "2022-02-16T13:44:10.920669Z",
     "iopub.status.busy": "2022-02-16T13:44:10.920121Z",
     "iopub.status.idle": "2022-02-16T13:44:10.924883Z",
     "shell.execute_reply": "2022-02-16T13:44:10.923947Z",
     "shell.execute_reply.started": "2022-02-16T13:44:10.920631Z"
    }
   },
   "outputs": [],
   "source": [
    "#define callbacks - to avoid plateauing & achieve early stopping\n",
    "callbacks = [\n",
    "    tf.keras.callbacks.ReduceLROnPlateau(monitor='loss', patience=2, verbose=1),\n",
    "    tf.keras.callbacks.EarlyStopping(monitor='loss', patience=5, verbose=1),]"
   ]
  },
  {
   "cell_type": "code",
   "execution_count": 76,
   "metadata": {
    "execution": {
     "iopub.execute_input": "2022-02-16T13:44:12.950192Z",
     "iopub.status.busy": "2022-02-16T13:44:12.948324Z",
     "iopub.status.idle": "2022-02-16T13:44:12.954176Z",
     "shell.execute_reply": "2022-02-16T13:44:12.953424Z",
     "shell.execute_reply.started": "2022-02-16T13:44:12.950142Z"
    }
   },
   "outputs": [],
   "source": [
    "# define model parameters\n",
    "epochs = 30\n",
    "batch_size = 128\n",
    "class_weights = {0: 0.5, 1: 5.}"
   ]
  },
  {
   "cell_type": "markdown",
   "metadata": {},
   "source": [
    "It is training the model using the train_long_answers and train_questions as input and train_labels as output. \n",
    "\n",
    "The **validation_data** argument specifies the validation set to use during training. \n",
    "\n",
    "The **epochs** argument specifies the number of times the training process will run through the entire training dataset. \n",
    "\n",
    "The **callbacks** argument specifies any callbacks that should be called during training, such as early stopping.\n",
    "\n",
    "The **class_weight** argument specifies the weights for each class during training. \n",
    "\n",
    "The **batch_size** argument specifies the number of samples to use in each batch during training. \n",
    "\n",
    "Finally, the **shuffle** argument specifies whether to shuffle the training data at the beginning of each epoch."
   ]
  },
  {
   "cell_type": "code",
   "execution_count": 77,
   "metadata": {
    "execution": {
     "iopub.execute_input": "2022-02-16T13:44:15.148441Z",
     "iopub.status.busy": "2022-02-16T13:44:15.147874Z",
     "iopub.status.idle": "2022-02-16T13:59:42.251064Z",
     "shell.execute_reply": "2022-02-16T13:59:42.250265Z",
     "shell.execute_reply.started": "2022-02-16T13:44:15.148401Z"
    }
   },
   "outputs": [
    {
     "name": "stderr",
     "output_type": "stream",
     "text": [
      "2022-02-16 13:44:15.492555: I tensorflow/compiler/mlir/mlir_graph_optimization_pass.cc:185] None of the MLIR Optimization Passes are enabled (registered 2)\n"
     ]
    },
    {
     "name": "stdout",
     "output_type": "stream",
     "text": [
      "Epoch 1/30\n"
     ]
    },
    {
     "name": "stderr",
     "output_type": "stream",
     "text": [
      "2022-02-16 13:44:21.145106: I tensorflow/stream_executor/cuda/cuda_dnn.cc:369] Loaded cuDNN version 8005\n"
     ]
    },
    {
     "name": "stdout",
     "output_type": "stream",
     "text": [
      "157/157 [==============================] - 38s 197ms/step - loss: 0.3678 - binary_accuracy: 0.8080 - recall: 0.6358 - precision: 0.1603 - val_loss: 0.2560 - val_binary_accuracy: 0.8353 - val_recall: 0.8462 - val_precision: 0.2529\n",
      "Epoch 2/30\n",
      "157/157 [==============================] - 30s 189ms/step - loss: 0.2873 - binary_accuracy: 0.8122 - recall: 0.7909 - precision: 0.1886 - val_loss: 0.2071 - val_binary_accuracy: 0.8735 - val_recall: 0.8462 - val_precision: 0.3099\n",
      "Epoch 3/30\n",
      "157/157 [==============================] - 30s 189ms/step - loss: 0.2651 - binary_accuracy: 0.8296 - recall: 0.8121 - precision: 0.2081 - val_loss: 0.2848 - val_binary_accuracy: 0.8377 - val_recall: 0.9615 - val_precision: 0.2717\n",
      "Epoch 4/30\n",
      "157/157 [==============================] - 30s 189ms/step - loss: 0.2401 - binary_accuracy: 0.8417 - recall: 0.8362 - precision: 0.2249 - val_loss: 0.1723 - val_binary_accuracy: 0.9069 - val_recall: 0.7692 - val_precision: 0.3774\n",
      "Epoch 5/30\n",
      "157/157 [==============================] - 30s 190ms/step - loss: 0.2250 - binary_accuracy: 0.8560 - recall: 0.8536 - precision: 0.2454 - val_loss: 0.1963 - val_binary_accuracy: 0.9069 - val_recall: 0.8462 - val_precision: 0.3860\n",
      "Epoch 6/30\n",
      "157/157 [==============================] - 30s 190ms/step - loss: 0.2108 - binary_accuracy: 0.8657 - recall: 0.8661 - precision: 0.2611 - val_loss: 0.2971 - val_binary_accuracy: 0.8449 - val_recall: 0.9615 - val_precision: 0.2809\n",
      "Epoch 7/30\n",
      "157/157 [==============================] - 30s 190ms/step - loss: 0.2019 - binary_accuracy: 0.8716 - recall: 0.8719 - precision: 0.2712 - val_loss: 0.1685 - val_binary_accuracy: 0.9117 - val_recall: 0.9231 - val_precision: 0.4068\n",
      "Epoch 8/30\n",
      "157/157 [==============================] - 30s 191ms/step - loss: 0.1740 - binary_accuracy: 0.8892 - recall: 0.8960 - precision: 0.3063 - val_loss: 0.1093 - val_binary_accuracy: 0.9475 - val_recall: 0.8846 - val_precision: 0.5476\n",
      "Epoch 9/30\n",
      "157/157 [==============================] - 30s 190ms/step - loss: 0.1651 - binary_accuracy: 0.9011 - recall: 0.9027 - precision: 0.3333 - val_loss: 0.1550 - val_binary_accuracy: 0.9260 - val_recall: 1.0000 - val_precision: 0.4561\n",
      "Epoch 10/30\n",
      "157/157 [==============================] - 30s 190ms/step - loss: 0.1497 - binary_accuracy: 0.9156 - recall: 0.9191 - precision: 0.3732 - val_loss: 0.1001 - val_binary_accuracy: 0.9499 - val_recall: 0.9231 - val_precision: 0.5581\n",
      "Epoch 11/30\n",
      "157/157 [==============================] - 30s 190ms/step - loss: 0.1222 - binary_accuracy: 0.9305 - recall: 0.9326 - precision: 0.4233 - val_loss: 0.1987 - val_binary_accuracy: 0.9045 - val_recall: 1.0000 - val_precision: 0.3939\n",
      "Epoch 12/30\n",
      "157/157 [==============================] - 30s 189ms/step - loss: 0.1156 - binary_accuracy: 0.9346 - recall: 0.9364 - precision: 0.4392 - val_loss: 0.1176 - val_binary_accuracy: 0.9427 - val_recall: 1.0000 - val_precision: 0.5200\n",
      "Epoch 13/30\n",
      "157/157 [==============================] - 30s 190ms/step - loss: 0.1004 - binary_accuracy: 0.9476 - recall: 0.9470 - precision: 0.4980 - val_loss: 0.0459 - val_binary_accuracy: 0.9833 - val_recall: 0.9231 - val_precision: 0.8276\n",
      "Epoch 14/30\n",
      "157/157 [==============================] - 30s 190ms/step - loss: 0.0964 - binary_accuracy: 0.9498 - recall: 0.9538 - precision: 0.5090 - val_loss: 0.0545 - val_binary_accuracy: 0.9785 - val_recall: 0.8846 - val_precision: 0.7931\n",
      "Epoch 15/30\n",
      "157/157 [==============================] - 30s 190ms/step - loss: 0.0902 - binary_accuracy: 0.9532 - recall: 0.9509 - precision: 0.5278 - val_loss: 0.1804 - val_binary_accuracy: 0.9117 - val_recall: 1.0000 - val_precision: 0.4127\n",
      "Epoch 16/30\n",
      "157/157 [==============================] - 30s 190ms/step - loss: 0.0913 - binary_accuracy: 0.9513 - recall: 0.9518 - precision: 0.5173 - val_loss: 0.0472 - val_binary_accuracy: 0.9785 - val_recall: 0.9615 - val_precision: 0.7576\n",
      "Epoch 17/30\n",
      "157/157 [==============================] - 30s 190ms/step - loss: 0.0732 - binary_accuracy: 0.9640 - recall: 0.9644 - precision: 0.5948 - val_loss: 0.1059 - val_binary_accuracy: 0.9594 - val_recall: 1.0000 - val_precision: 0.6047\n",
      "Epoch 18/30\n",
      "157/157 [==============================] - 30s 190ms/step - loss: 0.0707 - binary_accuracy: 0.9652 - recall: 0.9644 - precision: 0.6034 - val_loss: 0.0764 - val_binary_accuracy: 0.9618 - val_recall: 1.0000 - val_precision: 0.6190\n",
      "Epoch 19/30\n",
      "157/157 [==============================] - 30s 190ms/step - loss: 0.0590 - binary_accuracy: 0.9711 - recall: 0.9663 - precision: 0.6488 - val_loss: 0.0350 - val_binary_accuracy: 0.9857 - val_recall: 1.0000 - val_precision: 0.8125\n",
      "Epoch 20/30\n",
      "157/157 [==============================] - 30s 190ms/step - loss: 0.0490 - binary_accuracy: 0.9763 - recall: 0.9778 - precision: 0.6924 - val_loss: 0.0590 - val_binary_accuracy: 0.9857 - val_recall: 1.0000 - val_precision: 0.8125\n",
      "Epoch 21/30\n",
      "157/157 [==============================] - 30s 190ms/step - loss: 0.0546 - binary_accuracy: 0.9748 - recall: 0.9721 - precision: 0.6799 - val_loss: 0.0556 - val_binary_accuracy: 0.9785 - val_recall: 1.0000 - val_precision: 0.7429\n",
      "Epoch 22/30\n",
      "157/157 [==============================] - 30s 190ms/step - loss: 0.0497 - binary_accuracy: 0.9766 - recall: 0.9730 - precision: 0.6970 - val_loss: 0.0211 - val_binary_accuracy: 0.9928 - val_recall: 1.0000 - val_precision: 0.8966\n",
      "\n",
      "Epoch 00022: ReduceLROnPlateau reducing learning rate to 0.00010000000474974513.\n",
      "Epoch 23/30\n",
      "157/157 [==============================] - 30s 190ms/step - loss: 0.0327 - binary_accuracy: 0.9867 - recall: 0.9827 - precision: 0.8044 - val_loss: 0.0132 - val_binary_accuracy: 0.9952 - val_recall: 1.0000 - val_precision: 0.9286\n",
      "Epoch 24/30\n",
      "157/157 [==============================] - 30s 190ms/step - loss: 0.0240 - binary_accuracy: 0.9893 - recall: 0.9923 - precision: 0.8340 - val_loss: 0.0098 - val_binary_accuracy: 0.9952 - val_recall: 1.0000 - val_precision: 0.9286\n",
      "Epoch 25/30\n",
      "157/157 [==============================] - 30s 191ms/step - loss: 0.0209 - binary_accuracy: 0.9917 - recall: 0.9913 - precision: 0.8676 - val_loss: 0.0160 - val_binary_accuracy: 0.9905 - val_recall: 1.0000 - val_precision: 0.8667\n",
      "Epoch 26/30\n",
      "157/157 [==============================] - 30s 190ms/step - loss: 0.0196 - binary_accuracy: 0.9914 - recall: 0.9913 - precision: 0.8633 - val_loss: 0.0136 - val_binary_accuracy: 0.9928 - val_recall: 1.0000 - val_precision: 0.8966\n",
      "Epoch 27/30\n",
      "157/157 [==============================] - 30s 190ms/step - loss: 0.0173 - binary_accuracy: 0.9923 - recall: 0.9933 - precision: 0.8760 - val_loss: 0.0087 - val_binary_accuracy: 0.9952 - val_recall: 1.0000 - val_precision: 0.9286\n",
      "Epoch 28/30\n",
      "157/157 [==============================] - 30s 190ms/step - loss: 0.0167 - binary_accuracy: 0.9931 - recall: 0.9942 - precision: 0.8866 - val_loss: 0.0101 - val_binary_accuracy: 0.9952 - val_recall: 1.0000 - val_precision: 0.9286\n",
      "Epoch 29/30\n",
      "157/157 [==============================] - 30s 190ms/step - loss: 0.0149 - binary_accuracy: 0.9933 - recall: 0.9942 - precision: 0.8897 - val_loss: 0.0125 - val_binary_accuracy: 0.9952 - val_recall: 1.0000 - val_precision: 0.9286\n",
      "Epoch 30/30\n",
      "157/157 [==============================] - 30s 190ms/step - loss: 0.0139 - binary_accuracy: 0.9938 - recall: 0.9933 - precision: 0.8981 - val_loss: 0.0086 - val_binary_accuracy: 0.9952 - val_recall: 1.0000 - val_precision: 0.9286\n"
     ]
    }
   ],
   "source": [
    "#fitting the model on the training data and evaluating its performance on the validation set. \n",
    "history = model.fit(\n",
    "    x = [train_long_answers, train_questions], \n",
    "    y = train_labels,\n",
    "    validation_data = (\n",
    "        [test_long_answers, test_questions], test_labels),\n",
    "    epochs = epochs,\n",
    "    callbacks = callbacks,\n",
    "    class_weight = class_weights,\n",
    "    batch_size = batch_size,\n",
    "    shuffle = True\n",
    ")"
   ]
  },
  {
   "cell_type": "code",
   "execution_count": 78,
   "metadata": {
    "execution": {
     "iopub.execute_input": "2022-02-16T14:00:03.862854Z",
     "iopub.status.busy": "2022-02-16T14:00:03.862580Z",
     "iopub.status.idle": "2022-02-16T14:00:16.529822Z",
     "shell.execute_reply": "2022-02-16T14:00:16.529085Z",
     "shell.execute_reply.started": "2022-02-16T14:00:03.862822Z"
    }
   },
   "outputs": [],
   "source": [
    "#save model\n",
    "model.save('long_model.h5')"
   ]
  },
  {
   "cell_type": "markdown",
   "metadata": {},
   "source": [
    "## 8. Model Evaluation\n",
    "### Identifying if correct long answers given to a question\n",
    "\n",
    "Model evaluation is crucial for any machine learning project, including the TensorFlow 2.0 Question Answering project. It allows us to assess how well our model is performing and identify any areas that need improvement. In the case of question answering, we can use evaluation metrics such as accuracy, precision, and recall to measure how well our model is identifying the correct answers to questions. Additionally, we can use evaluation techniques such as cross-validation and hyperparameter tuning to optimize our model's performance and ensure that it generalizes well to new data. Overall, model evaluation is a critical step in the machine learning workflow and should not be overlooked."
   ]
  },
  {
   "cell_type": "code",
   "execution_count": 79,
   "metadata": {
    "execution": {
     "iopub.execute_input": "2022-02-16T14:00:18.590828Z",
     "iopub.status.busy": "2022-02-16T14:00:18.590549Z",
     "iopub.status.idle": "2022-02-16T14:00:18.963075Z",
     "shell.execute_reply": "2022-02-16T14:00:18.962413Z",
     "shell.execute_reply.started": "2022-02-16T14:00:18.590794Z"
    }
   },
   "outputs": [
    {
     "data": {
      "text/plain": [
       "[<matplotlib.lines.Line2D at 0x7f947870aad0>]"
      ]
     },
     "execution_count": 79,
     "metadata": {},
     "output_type": "execute_result"
    },
    {
     "data": {
      "image/png": "[encoded data removed]",
      "text/plain": [
       "<Figure size 1080x360 with 2 Axes>"
      ]
     },
     "metadata": {
      "needs_background": "light"
     },
     "output_type": "display_data"
    }
   ],
   "source": [
    "#Evaluate checking training & validation loss\n",
    "fig, ax = plt.subplots(1, 2, figsize=(15, 5))\n",
    "\n",
    "ax[0].set_title('Training Loss')\n",
    "ax[0].plot(history.history['loss'],marker = '.',mec = 'r', mfc = 'r')\n",
    "\n",
    "ax[1].set_title('Validation Loss')\n",
    "ax[1].plot(history.history['val_loss'],marker = '.',mec = 'r', mfc = 'r',color=\"green\")"
   ]
  },
  {
   "cell_type": "code",
   "execution_count": 80,
   "metadata": {
    "execution": {
     "iopub.execute_input": "2022-02-16T14:00:25.724059Z",
     "iopub.status.busy": "2022-02-16T14:00:25.723746Z",
     "iopub.status.idle": "2022-02-16T14:00:26.525352Z",
     "shell.execute_reply": "2022-02-16T14:00:26.524640Z",
     "shell.execute_reply.started": "2022-02-16T14:00:25.724002Z"
    }
   },
   "outputs": [
    {
     "data": {
      "text/plain": [
       "[<matplotlib.lines.Line2D at 0x7f94851ed850>]"
      ]
     },
     "execution_count": 80,
     "metadata": {},
     "output_type": "execute_result"
    },
    {
     "data": {
      "image/png": "[encoded data removed]",
      "text/plain": [
       "<Figure size 1080x720 with 6 Axes>"
      ]
     },
     "metadata": {
      "needs_background": "light"
     },
     "output_type": "display_data"
    }
   ],
   "source": [
    "#Evaluate checking accuracy, recall and precision\n",
    "fig, ax = plt.subplots(3, 2, figsize=(15, 10))\n",
    "\n",
    "ax[0,0].set_title('Training Accuracy')\n",
    "ax[0,0].plot(history.history['binary_accuracy'],marker = '.',mec = 'r', mfc = 'r')\n",
    "\n",
    "ax[0,1].set_title('Validation Accuracy')\n",
    "ax[0,1].plot(history.history['val_binary_accuracy'],marker = '.',mec = 'r', mfc = 'r',color=\"green\")\n",
    "\n",
    "ax[1,0].set_title('Training Recall')\n",
    "ax[1,0].plot(history.history['recall'],marker = '.',mec = 'r', mfc = 'r')\n",
    "\n",
    "ax[1,1].set_title('Validation Recall')\n",
    "ax[1,1].plot(history.history['val_recall'],marker = '.',mec = 'r', mfc = 'r',color=\"green\")\n",
    "\n",
    "ax[2,0].set_title('Training Precision')\n",
    "ax[2,0].plot(history.history['precision'],marker = '.',mec = 'r', mfc = 'r')\n",
    "\n",
    "ax[2,1].set_title('Validation Precision')\n",
    "ax[2,1].plot(history.history['val_precision'],marker = '.',mec = 'r', mfc = 'r',color=\"green\")"
   ]
  },
  {
   "cell_type": "code",
   "execution_count": 81,
   "metadata": {
    "execution": {
     "iopub.execute_input": "2022-02-16T14:00:34.285813Z",
     "iopub.status.busy": "2022-02-16T14:00:34.285560Z",
     "iopub.status.idle": "2022-02-16T14:00:34.294551Z",
     "shell.execute_reply": "2022-02-16T14:00:34.292368Z",
     "shell.execute_reply.started": "2022-02-16T14:00:34.285783Z"
    }
   },
   "outputs": [
    {
     "name": "stdout",
     "output_type": "stream",
     "text": [
      "Train F1 score: 0.9433\n",
      "Validation F1 score: 0.9630\n"
     ]
    }
   ],
   "source": [
    "#Evaluate checking recall\n",
    "\n",
    "recall = history.history['recall'][-1]\n",
    "precision = history.history['precision'][-1]\n",
    "\n",
    "print('Train F1 score: {0:.4f}'.format(\n",
    "    2 * (precision * recall) / (precision + recall)\n",
    "))\n",
    "\n",
    "recall = history.history['val_recall'][-1]\n",
    "precision = history.history['val_precision'][-1]\n",
    "\n",
    "print('Validation F1 score: {0:.4f}'.format(2 * (precision * recall) / (precision + recall)))"
   ]
  },
  {
   "cell_type": "code",
   "execution_count": 82,
   "metadata": {
    "execution": {
     "iopub.execute_input": "2022-02-16T14:01:05.193963Z",
     "iopub.status.busy": "2022-02-16T14:01:05.193679Z",
     "iopub.status.idle": "2022-02-16T14:01:06.307319Z",
     "shell.execute_reply": "2022-02-16T14:01:06.306546Z",
     "shell.execute_reply.started": "2022-02-16T14:01:05.193932Z"
    }
   },
   "outputs": [],
   "source": [
    "#predicting the model\n",
    "predictions = model.predict([np.expand_dims(test_labels, axis=0), np.expand_dims(test_labels, axis=0)])"
   ]
  },
  {
   "cell_type": "code",
   "execution_count": 83,
   "metadata": {
    "execution": {
     "iopub.execute_input": "2022-02-16T14:01:07.855688Z",
     "iopub.status.busy": "2022-02-16T14:01:07.855415Z",
     "iopub.status.idle": "2022-02-16T14:01:07.863415Z",
     "shell.execute_reply": "2022-02-16T14:01:07.860135Z",
     "shell.execute_reply.started": "2022-02-16T14:01:07.855657Z"
    }
   },
   "outputs": [
    {
     "data": {
      "text/plain": [
       "array([[8.0054786e-05]], dtype=float32)"
      ]
     },
     "execution_count": 83,
     "metadata": {},
     "output_type": "execute_result"
    }
   ],
   "source": [
    "predictions"
   ]
  },
  {
   "cell_type": "markdown",
   "metadata": {},
   "source": [
    "### Evaluating with Live Inputs"
   ]
  },
  {
   "cell_type": "code",
   "execution_count": 84,
   "metadata": {
    "execution": {
     "iopub.execute_input": "2022-02-16T14:01:09.925633Z",
     "iopub.status.busy": "2022-02-16T14:01:09.925007Z",
     "iopub.status.idle": "2022-02-16T14:01:09.935722Z",
     "shell.execute_reply": "2022-02-16T14:01:09.934709Z",
     "shell.execute_reply.started": "2022-02-16T14:01:09.925590Z"
    }
   },
   "outputs": [],
   "source": [
    "#This is a function that takes a question and two possible answers (a positive and a negative) as inputs and predicts which of the two answers is more likely to be correct given the context of the question. \n",
    "def test_question(question, positive, negative):\n",
    "    sentences = [question, positive, negative]\n",
    "    \n",
    "    #The function first pre-processes the input sentences (removes stop words and HTML tags) and then encodes them using the same tokenizer used for training the model. \n",
    "    for i in range(3):\n",
    "        sentences[i] = remove_stopwords(sentences[i])\n",
    "        sentences[i] = remove_html(sentences[i])\n",
    "    \n",
    "    sentences = encode(sentences, tokenizer)\n",
    "    \n",
    "    predictions = model.predict([np.expand_dims(sentences[1], axis=0), np.expand_dims(sentences[0], axis=0)])\n",
    "\n",
    "    print('Positive: {0:.2f}'.format(predictions[0][0]))\n",
    "\n",
    "    predictions = model.predict(\n",
    "        [np.expand_dims(sentences[2], axis=0), np.expand_dims(sentences[0], axis=0)])\n",
    "\n",
    "    #Finally, it passes the encoded sentences through the model and returns the predicted probability of the positive answer being correct and the predicted probability of the negative answer being correct.\n",
    "    print('Negative: {0:.2f}'.format(predictions[0][0]))\n",
    "    return predictions"
   ]
  },
  {
   "cell_type": "code",
   "execution_count": 85,
   "metadata": {
    "execution": {
     "iopub.execute_input": "2022-02-16T14:01:16.308471Z",
     "iopub.status.busy": "2022-02-16T14:01:16.307711Z",
     "iopub.status.idle": "2022-02-16T14:01:16.312586Z",
     "shell.execute_reply": "2022-02-16T14:01:16.311851Z",
     "shell.execute_reply.started": "2022-02-16T14:01:16.308428Z"
    }
   },
   "outputs": [],
   "source": [
    "question = 'who invented a portable handset '\n",
    "\n",
    "positive='<P> Martin Cooper invented a portable handset in 1973, when he was a project manager at Motorola. It was almost three decades after the idea of cellular communications was introduced by Bell Laboratories. </P>'\n",
    "negative = '<P> Email marketing has evolved rapidly alongside the technological growth of the 21st century . Prior to this growth , when emails were novelties to the majority of customers , email marketing was not as effective . In 1978 , Gary Thuerk of Digital Equipment Corporation ( DEC ) sent out the first mass email to approximately 400 potential clients via the Advanced Research Projects Agency Network ( ARPANET ) . This email resulted in $13 million worth of sales in DEC products , and highlighted the potential of marketing through mass emails . However , as email marketing developed as an effective means of direct communication , users began blocking out content from emails with filters and blocking programs . In order to effectively communicate a message through email , marketers had to develop a way of pushing content through to the end user , without being cut out by automatic filters and spam removing software . This resulted in the birth of triggered marketing emails , which are sent to specific users based on their tracked online browsing patterns . </P>'"
   ]
  },
  {
   "cell_type": "code",
   "execution_count": 86,
   "metadata": {
    "execution": {
     "iopub.execute_input": "2022-02-16T14:01:20.625606Z",
     "iopub.status.busy": "2022-02-16T14:01:20.624752Z",
     "iopub.status.idle": "2022-02-16T14:01:21.999503Z",
     "shell.execute_reply": "2022-02-16T14:01:21.998750Z",
     "shell.execute_reply.started": "2022-02-16T14:01:20.625565Z"
    }
   },
   "outputs": [
    {
     "name": "stdout",
     "output_type": "stream",
     "text": [
      "Positive: 0.02\n",
      "Negative: 0.00\n"
     ]
    },
    {
     "data": {
      "text/plain": [
       "array([[0.00481182]], dtype=float32)"
      ]
     },
     "execution_count": 86,
     "metadata": {},
     "output_type": "execute_result"
    }
   ],
   "source": [
    "test_question(question, positive, negative)"
   ]
  },
  {
   "cell_type": "code",
   "execution_count": 87,
   "metadata": {
    "execution": {
     "iopub.execute_input": "2022-02-16T14:01:27.828353Z",
     "iopub.status.busy": "2022-02-16T14:01:27.827766Z",
     "iopub.status.idle": "2022-02-16T14:01:27.833438Z",
     "shell.execute_reply": "2022-02-16T14:01:27.832434Z",
     "shell.execute_reply.started": "2022-02-16T14:01:27.828311Z"
    }
   },
   "outputs": [],
   "source": [
    "question = 'who is the south african high commissioner in london'\n",
    "\n",
    "positive = \"<P> Tracy McConnell , better known as `` The Mother '' , is the title character from the CBS television sitcom How I Met Your Mother . The show , narrated by Future Ted , tells the story of how Ted Mosby met The Mother . Tracy McConnell appears in 8 episodes from `` Lucky Penny '' to `` The Time Travelers '' as an unseen character ; she was first seen fully in `` Something New '' and was promoted to a main character in season 9 . The Mother is played by Cristin Milioti . </P>\"\n",
    "\n",
    "negative = \"<P> In `` Bass Player Wanted '' , the Mother picks up a hitchhiking Marshall , carrying his son Marvin , on her way to Farhampton Inn . On their way , it is revealed that the Mother is a bass player in the band , that is scheduled to play at the wedding reception . But the band 's leader , Darren , forced her to quit . The Mother ultimately decides to confront Darren and retake the band . She ends up alone at the bar , and while practicing a speech to give Darren , Darren walks up to her furious the groom 's best man punched him for `` no reason . '' Amused by this , the Mother laughs , and Darren quits the band in anger . </P>\""
   ]
  },
  {
   "cell_type": "code",
   "execution_count": 88,
   "metadata": {
    "execution": {
     "iopub.execute_input": "2022-02-16T14:01:31.172761Z",
     "iopub.status.busy": "2022-02-16T14:01:31.172087Z",
     "iopub.status.idle": "2022-02-16T14:01:31.331222Z",
     "shell.execute_reply": "2022-02-16T14:01:31.330404Z",
     "shell.execute_reply.started": "2022-02-16T14:01:31.172724Z"
    }
   },
   "outputs": [
    {
     "name": "stdout",
     "output_type": "stream",
     "text": [
      "Positive: 1.00\n",
      "Negative: 0.00\n"
     ]
    },
    {
     "data": {
      "text/plain": [
       "array([[1.9988289e-05]], dtype=float32)"
      ]
     },
     "execution_count": 88,
     "metadata": {},
     "output_type": "execute_result"
    }
   ],
   "source": [
    "test_question(question, positive, negative)"
   ]
  },
  {
   "cell_type": "markdown",
   "metadata": {},
   "source": [
    "## 9. **Part 2 - Extracting Short Answer from a Long Answer**"
   ]
  },
  {
   "cell_type": "code",
   "execution_count": 89,
   "metadata": {
    "execution": {
     "iopub.execute_input": "2022-02-16T14:01:44.525075Z",
     "iopub.status.busy": "2022-02-16T14:01:44.524785Z",
     "iopub.status.idle": "2022-02-16T14:01:44.531906Z",
     "shell.execute_reply": "2022-02-16T14:01:44.531235Z",
     "shell.execute_reply.started": "2022-02-16T14:01:44.525043Z"
    }
   },
   "outputs": [],
   "source": [
    "#filter records where short answers exists\n",
    "\n",
    "# These functions are used to extract the short answer for a given long answer. get_short_answer extracts the start and end token positions of the short answer within the long answer. \n",
    "\n",
    "def get_short_answer(annotations, long_start, long_end):\n",
    "    if len(annotations['short_answers']) > 0:\n",
    "        short_start = annotations['short_answers'][0]['start_token']\n",
    "        short_end = annotations['short_answers'][0]['end_token']        \n",
    "        short_start = short_start - long_start\n",
    "        short_end = short_end - long_start        \n",
    "        return short_start, short_end\n",
    "    else:\n",
    "        return 0, 0\n",
    "    \n",
    "# form_short_data_row creates a new row in the data frame with the relevant information for the short answer.    \n",
    "def form_short_data_row(question, text, long_start, long_end, short_start, short_end):\n",
    "    long_answer = ' '.join(text[long_start:long_end])\n",
    "    short_answer = ' '.join(long_answer.split(' ')[short_start:short_end])\n",
    "    row = {\n",
    "        'question': question,\n",
    "        'long_answer': long_answer,\n",
    "        'short_answer': short_answer,\n",
    "        'short_start': short_start,\n",
    "        'short_end': short_end\n",
    "    }    \n",
    "    return row"
   ]
  },
  {
   "cell_type": "code",
   "execution_count": 90,
   "metadata": {
    "execution": {
     "iopub.execute_input": "2022-02-16T14:01:48.214201Z",
     "iopub.status.busy": "2022-02-16T14:01:48.213668Z",
     "iopub.status.idle": "2022-02-16T14:01:48.220659Z",
     "shell.execute_reply": "2022-02-16T14:01:48.219982Z",
     "shell.execute_reply.started": "2022-02-16T14:01:48.214161Z"
    }
   },
   "outputs": [],
   "source": [
    "#loading short answers\n",
    "\n",
    "#loads the short answer data for the given range of questions from a file, and creates a Pandas DataFrame with the question, long answer, short answer, short start, and short end for each row. \n",
    "def load_short_data(file_path, questions_start, questions_end):\n",
    "    rows = []    \n",
    "    with open(file_path) as file:\n",
    "\n",
    "        #It first reads each line of the file, which is assumed to be in JSON format, and extracts the question, text, and annotations using the get_question_and_document() function. \n",
    "        for i in tqdm(range(questions_start, questions_end)):\n",
    "            line = file.readline()\n",
    "            line = json.loads(line)\n",
    "            question, text, annotations = get_question_and_document(line)\n",
    "\n",
    "            #Then, for each long answer candidate, it checks if the label is true using the get_long_candidate() function, and if so, extracts the short answer using the get_short_answer() function. \n",
    "            for i, candidate in enumerate(line['long_answer_candidates']):\n",
    "                label, long_start, long_end = get_long_candidate(i, annotations, candidate)\n",
    "\n",
    "                if label == True:\n",
    "                    short_start, short_end = get_short_answer(annotations, long_start, long_end)\n",
    "                    \n",
    "                    #Finally, it creates a data row using form_short_data_row() and appends it to the list of rows.\n",
    "                    rows.append(\n",
    "                        form_short_data_row(question, text, long_start, long_end, short_start, short_end)\n",
    "                    )\n",
    "        \n",
    "    return pd.DataFrame(rows)"
   ]
  },
  {
   "cell_type": "code",
   "execution_count": 91,
   "metadata": {
    "execution": {
     "iopub.execute_input": "2022-02-16T14:01:51.865675Z",
     "iopub.status.busy": "2022-02-16T14:01:51.864914Z",
     "iopub.status.idle": "2022-02-16T14:01:54.395433Z",
     "shell.execute_reply": "2022-02-16T14:01:54.394667Z",
     "shell.execute_reply.started": "2022-02-16T14:01:51.865630Z"
    }
   },
   "outputs": [
    {
     "data": {
      "application/vnd.jupyter.widget-view+json": {
       "model_id": "9e90fd2b931a4ce39b5ed562b524670a",
       "version_major": 2,
       "version_minor": 0
      },
      "text/plain": [
       "  0%|          | 0/2000 [00:00<?, ?it/s]"
      ]
     },
     "metadata": {},
     "output_type": "display_data"
    },
    {
     "data": {
      "application/vnd.jupyter.widget-view+json": {
       "model_id": "ca26b26fc11a46e089ca2ce911ce21e9",
       "version_major": 2,
       "version_minor": 0
      },
      "text/plain": [
       "  0%|          | 0/50 [00:00<?, ?it/s]"
      ]
     },
     "metadata": {},
     "output_type": "display_data"
    }
   ],
   "source": [
    "train_short_df = load_short_data(train_path, 0, num_train_ques)\n",
    "test_short_df = load_short_data(train_path, num_train_ques, num_val_ques)"
   ]
  },
  {
   "cell_type": "code",
   "execution_count": 92,
   "metadata": {
    "execution": {
     "iopub.execute_input": "2022-02-16T14:01:57.594988Z",
     "iopub.status.busy": "2022-02-16T14:01:57.594710Z",
     "iopub.status.idle": "2022-02-16T14:01:57.607731Z",
     "shell.execute_reply": "2022-02-16T14:01:57.606942Z",
     "shell.execute_reply.started": "2022-02-16T14:01:57.594955Z"
    }
   },
   "outputs": [
    {
     "data": {
      "text/html": [
       "<div>\n",
       "<style scoped>\n",
       "    .dataframe tbody tr th:only-of-type {\n",
       "        vertical-align: middle;\n",
       "    }\n",
       "\n",
       "    .dataframe tbody tr th {\n",
       "        vertical-align: top;\n",
       "    }\n",
       "\n",
       "    .dataframe thead th {\n",
       "        text-align: right;\n",
       "    }\n",
       "</style>\n",
       "<table border=\"1\" class=\"dataframe\">\n",
       "  <thead>\n",
       "    <tr style=\"text-align: right;\">\n",
       "      <th></th>\n",
       "      <th>question</th>\n",
       "      <th>long_answer</th>\n",
       "      <th>short_answer</th>\n",
       "      <th>short_start</th>\n",
       "      <th>short_end</th>\n",
       "    </tr>\n",
       "  </thead>\n",
       "  <tbody>\n",
       "    <tr>\n",
       "      <th>0</th>\n",
       "      <td>which is the most common use of opt-in e-mail ...</td>\n",
       "      <td>&lt;P&gt; A common example of permission marketing i...</td>\n",
       "      <td>a newsletter sent to an advertising firm 's cu...</td>\n",
       "      <td>8</td>\n",
       "      <td>17</td>\n",
       "    </tr>\n",
       "    <tr>\n",
       "      <th>1</th>\n",
       "      <td>how i.met your mother who is the mother</td>\n",
       "      <td>&lt;P&gt; Tracy McConnell , better known as `` The M...</td>\n",
       "      <td>Tracy McConnell</td>\n",
       "      <td>1</td>\n",
       "      <td>3</td>\n",
       "    </tr>\n",
       "    <tr>\n",
       "      <th>2</th>\n",
       "      <td>what type of fertilisation takes place in humans</td>\n",
       "      <td>&lt;P&gt; The process of fertilization involves a sp...</td>\n",
       "      <td></td>\n",
       "      <td>0</td>\n",
       "      <td>0</td>\n",
       "    </tr>\n",
       "    <tr>\n",
       "      <th>3</th>\n",
       "      <td>who had the most wins in the nfl</td>\n",
       "      <td>&lt;P&gt; Active quarterback Tom Brady holds the rec...</td>\n",
       "      <td>Tom Brady</td>\n",
       "      <td>3</td>\n",
       "      <td>5</td>\n",
       "    </tr>\n",
       "    <tr>\n",
       "      <th>4</th>\n",
       "      <td>who played mantis guardians of the galaxy 2</td>\n",
       "      <td>&lt;P&gt; Pom Klementieff ( born 3 May 1986 ) is a F...</td>\n",
       "      <td>Pom Klementieff</td>\n",
       "      <td>1</td>\n",
       "      <td>3</td>\n",
       "    </tr>\n",
       "    <tr>\n",
       "      <th>5</th>\n",
       "      <td>what indian tribe did the acadians form friend...</td>\n",
       "      <td>&lt;P&gt; The survival of the Acadian settlements wa...</td>\n",
       "      <td></td>\n",
       "      <td>0</td>\n",
       "      <td>0</td>\n",
       "    </tr>\n",
       "    <tr>\n",
       "      <th>6</th>\n",
       "      <td>who is deputy cm of j and k</td>\n",
       "      <td>&lt;Table&gt; &lt;Tr&gt; &lt;Th_colspan=\"2\"&gt; Deputy Chief Min...</td>\n",
       "      <td></td>\n",
       "      <td>0</td>\n",
       "      <td>0</td>\n",
       "    </tr>\n",
       "    <tr>\n",
       "      <th>7</th>\n",
       "      <td>the nashville sound brought a polished and cos...</td>\n",
       "      <td>&lt;P&gt; In the early 1960s , the Nashville sound b...</td>\n",
       "      <td>the use of lush string arrangements with a rea...</td>\n",
       "      <td>83</td>\n",
       "      <td>102</td>\n",
       "    </tr>\n",
       "    <tr>\n",
       "      <th>8</th>\n",
       "      <td>what channel is the premier league on in france</td>\n",
       "      <td>&lt;Table&gt; &lt;Tr&gt; &lt;Th&gt; Country &lt;/Th&gt; &lt;Th&gt; Language ...</td>\n",
       "      <td>SFR Sport</td>\n",
       "      <td>223</td>\n",
       "      <td>225</td>\n",
       "    </tr>\n",
       "    <tr>\n",
       "      <th>9</th>\n",
       "      <td>what is the use of jdk in java</td>\n",
       "      <td>&lt;P&gt; The Java Development Kit ( JDK ) is an imp...</td>\n",
       "      <td></td>\n",
       "      <td>0</td>\n",
       "      <td>0</td>\n",
       "    </tr>\n",
       "  </tbody>\n",
       "</table>\n",
       "</div>"
      ],
      "text/plain": [
       "                                            question  \\\n",
       "0  which is the most common use of opt-in e-mail ...   \n",
       "1            how i.met your mother who is the mother   \n",
       "2   what type of fertilisation takes place in humans   \n",
       "3                   who had the most wins in the nfl   \n",
       "4        who played mantis guardians of the galaxy 2   \n",
       "5  what indian tribe did the acadians form friend...   \n",
       "6                        who is deputy cm of j and k   \n",
       "7  the nashville sound brought a polished and cos...   \n",
       "8    what channel is the premier league on in france   \n",
       "9                     what is the use of jdk in java   \n",
       "\n",
       "                                         long_answer  \\\n",
       "0  <P> A common example of permission marketing i...   \n",
       "1  <P> Tracy McConnell , better known as `` The M...   \n",
       "2  <P> The process of fertilization involves a sp...   \n",
       "3  <P> Active quarterback Tom Brady holds the rec...   \n",
       "4  <P> Pom Klementieff ( born 3 May 1986 ) is a F...   \n",
       "5  <P> The survival of the Acadian settlements wa...   \n",
       "6  <Table> <Tr> <Th_colspan=\"2\"> Deputy Chief Min...   \n",
       "7  <P> In the early 1960s , the Nashville sound b...   \n",
       "8  <Table> <Tr> <Th> Country </Th> <Th> Language ...   \n",
       "9  <P> The Java Development Kit ( JDK ) is an imp...   \n",
       "\n",
       "                                        short_answer  short_start  short_end  \n",
       "0  a newsletter sent to an advertising firm 's cu...            8         17  \n",
       "1                                    Tracy McConnell            1          3  \n",
       "2                                                               0          0  \n",
       "3                                          Tom Brady            3          5  \n",
       "4                                    Pom Klementieff            1          3  \n",
       "5                                                               0          0  \n",
       "6                                                               0          0  \n",
       "7  the use of lush string arrangements with a rea...           83        102  \n",
       "8                                          SFR Sport          223        225  \n",
       "9                                                               0          0  "
      ]
     },
     "execution_count": 92,
     "metadata": {},
     "output_type": "execute_result"
    }
   ],
   "source": [
    "train_short_df.head(10)"
   ]
  },
  {
   "cell_type": "code",
   "execution_count": 93,
   "metadata": {
    "execution": {
     "iopub.execute_input": "2022-02-16T14:02:00.504075Z",
     "iopub.status.busy": "2022-02-16T14:02:00.503497Z",
     "iopub.status.idle": "2022-02-16T14:02:00.521601Z",
     "shell.execute_reply": "2022-02-16T14:02:00.520746Z",
     "shell.execute_reply.started": "2022-02-16T14:02:00.504037Z"
    }
   },
   "outputs": [
    {
     "data": {
      "text/html": [
       "<div>\n",
       "<style scoped>\n",
       "    .dataframe tbody tr th:only-of-type {\n",
       "        vertical-align: middle;\n",
       "    }\n",
       "\n",
       "    .dataframe tbody tr th {\n",
       "        vertical-align: top;\n",
       "    }\n",
       "\n",
       "    .dataframe thead th {\n",
       "        text-align: right;\n",
       "    }\n",
       "</style>\n",
       "<table border=\"1\" class=\"dataframe\">\n",
       "  <thead>\n",
       "    <tr style=\"text-align: right;\">\n",
       "      <th></th>\n",
       "      <th>Total</th>\n",
       "      <th>Percentage</th>\n",
       "    </tr>\n",
       "  </thead>\n",
       "  <tbody>\n",
       "    <tr>\n",
       "      <th></th>\n",
       "      <td>290</td>\n",
       "      <td>27.94</td>\n",
       "    </tr>\n",
       "    <tr>\n",
       "      <th>2018</th>\n",
       "      <td>4</td>\n",
       "      <td>0.39</td>\n",
       "    </tr>\n",
       "    <tr>\n",
       "      <th>2017</th>\n",
       "      <td>3</td>\n",
       "      <td>0.29</td>\n",
       "    </tr>\n",
       "    <tr>\n",
       "      <th>four</th>\n",
       "      <td>2</td>\n",
       "      <td>0.19</td>\n",
       "    </tr>\n",
       "    <tr>\n",
       "      <th>2008</th>\n",
       "      <td>2</td>\n",
       "      <td>0.19</td>\n",
       "    </tr>\n",
       "    <tr>\n",
       "      <th>...</th>\n",
       "      <td>...</td>\n",
       "      <td>...</td>\n",
       "    </tr>\n",
       "    <tr>\n",
       "      <th>from a band of armed guards called the Fighting Tigers of Columbia</th>\n",
       "      <td>1</td>\n",
       "      <td>0.10</td>\n",
       "    </tr>\n",
       "    <tr>\n",
       "      <th>Mark Lenard</th>\n",
       "      <td>1</td>\n",
       "      <td>0.10</td>\n",
       "    </tr>\n",
       "    <tr>\n",
       "      <th>Tipu Sultan</th>\n",
       "      <td>1</td>\n",
       "      <td>0.10</td>\n",
       "    </tr>\n",
       "    <tr>\n",
       "      <th>Nehwal</th>\n",
       "      <td>1</td>\n",
       "      <td>0.10</td>\n",
       "    </tr>\n",
       "    <tr>\n",
       "      <th>Pascal</th>\n",
       "      <td>1</td>\n",
       "      <td>0.10</td>\n",
       "    </tr>\n",
       "  </tbody>\n",
       "</table>\n",
       "<p>727 rows × 2 columns</p>\n",
       "</div>"
      ],
      "text/plain": [
       "                                                    Total  Percentage\n",
       "                                                      290       27.94\n",
       "2018                                                    4        0.39\n",
       "2017                                                    3        0.29\n",
       "four                                                    2        0.19\n",
       "2008                                                    2        0.19\n",
       "...                                                   ...         ...\n",
       "from a band of armed guards called the Fighting...      1        0.10\n",
       "Mark Lenard                                             1        0.10\n",
       "Tipu Sultan                                             1        0.10\n",
       "Nehwal                                                  1        0.10\n",
       "Pascal                                                  1        0.10\n",
       "\n",
       "[727 rows x 2 columns]"
      ]
     },
     "execution_count": 93,
     "metadata": {},
     "output_type": "execute_result"
    }
   ],
   "source": [
    "count_values_in_column(train_short_df,'short_answer')"
   ]
  },
  {
   "cell_type": "code",
   "execution_count": 94,
   "metadata": {
    "execution": {
     "iopub.execute_input": "2022-02-16T14:02:04.264212Z",
     "iopub.status.busy": "2022-02-16T14:02:04.263370Z",
     "iopub.status.idle": "2022-02-16T14:02:04.588380Z",
     "shell.execute_reply": "2022-02-16T14:02:04.587539Z",
     "shell.execute_reply.started": "2022-02-16T14:02:04.264162Z"
    }
   },
   "outputs": [],
   "source": [
    "#encode the long answer and question text data for short answers using the tokenizer. \n",
    "#The encoded data will be used as input to the model for training and testing.\n",
    "train_long_answers = encode(train_short_df['long_answer'].values, tokenizer)\n",
    "train_questions = encode(train_short_df['question'].values, tokenizer)\n",
    "\n",
    "test_long_answers = encode(test_short_df['long_answer'].values, tokenizer)\n",
    "test_questions = encode(test_short_df['question'].values, tokenizer)"
   ]
  },
  {
   "cell_type": "code",
   "execution_count": 95,
   "metadata": {
    "execution": {
     "iopub.execute_input": "2022-02-16T14:02:14.254944Z",
     "iopub.status.busy": "2022-02-16T14:02:14.254378Z",
     "iopub.status.idle": "2022-02-16T14:02:14.501305Z",
     "shell.execute_reply": "2022-02-16T14:02:14.500530Z",
     "shell.execute_reply.started": "2022-02-16T14:02:14.254905Z"
    }
   },
   "outputs": [],
   "source": [
    "#define 2 arrays for the start index and another for the end index\n",
    "def form_short_labels(df, sentence_length):\n",
    "    start_labels = np.zeros((len(df), sentence_length))\n",
    "    end_labels = np.zeros((len(df), sentence_length))\n",
    "\n",
    "    #get the token indexes from short_start and short_end columns and assign it to new arrays. encoding with 1\n",
    "    for i in range(len(df)):\n",
    "        start = df.loc[i].short_start\n",
    "        end = df.loc[i].short_end\n",
    "\n",
    "        if start < 500 and end < 500:\n",
    "            start_labels[i, start] = 1\n",
    "            end_labels[i, end] = 1\n",
    "        else:\n",
    "            continue\n",
    "    \n",
    "    return start_labels, end_labels\n",
    "\n",
    "train_start_labels, train_end_labels = form_short_labels(train_short_df, max_len)\n",
    "test_start_labels, test_end_labels = form_short_labels(test_short_df, max_len)"
   ]
  },
  {
   "cell_type": "code",
   "execution_count": 96,
   "metadata": {
    "execution": {
     "iopub.execute_input": "2022-02-16T14:02:19.044052Z",
     "iopub.status.busy": "2022-02-16T14:02:19.043771Z",
     "iopub.status.idle": "2022-02-16T14:02:19.060385Z",
     "shell.execute_reply": "2022-02-16T14:02:19.059418Z",
     "shell.execute_reply.started": "2022-02-16T14:02:19.044002Z"
    }
   },
   "outputs": [
    {
     "name": "stdout",
     "output_type": "stream",
     "text": [
      "who needs to be in the car with a permit driver\n",
      "<P> Typically , a driver operating with a learner 's permit must be accompanied by an adult licensed driver who is at least 21 years of age or older and in the passenger seat of the vehicle at all times . </P>\n",
      "an adult licensed driver who is at least 21 years of age or older and in the passenger seat of the vehicle at all times\n",
      "Start index: [0. 0. 0. 0. 0. 0. 0. 0. 0. 0. 0. 0. 0. 0. 0. 1. 0. 0. 0. 0. 0. 0. 0. 0.\n",
      " 0. 0. 0. 0. 0. 0. 0. 0. 0. 0. 0. 0. 0. 0. 0. 0. 0. 0. 0. 0. 0. 0. 0. 0.\n",
      " 0. 0. 0. 0. 0. 0. 0. 0. 0. 0. 0. 0. 0. 0. 0. 0. 0. 0. 0. 0. 0. 0. 0. 0.\n",
      " 0. 0. 0. 0. 0. 0. 0. 0. 0. 0. 0. 0. 0. 0. 0. 0. 0. 0. 0. 0. 0. 0. 0. 0.\n",
      " 0. 0. 0. 0. 0. 0. 0. 0. 0. 0. 0. 0. 0. 0. 0. 0. 0. 0. 0. 0. 0. 0. 0. 0.\n",
      " 0. 0. 0. 0. 0. 0. 0. 0. 0. 0. 0. 0. 0. 0. 0. 0. 0. 0. 0. 0. 0. 0. 0. 0.\n",
      " 0. 0. 0. 0. 0. 0. 0. 0. 0. 0. 0. 0. 0. 0. 0. 0. 0. 0. 0. 0. 0. 0. 0. 0.\n",
      " 0. 0. 0. 0. 0. 0. 0. 0. 0. 0. 0. 0. 0. 0. 0. 0. 0. 0. 0. 0. 0. 0. 0. 0.\n",
      " 0. 0. 0. 0. 0. 0. 0. 0. 0. 0. 0. 0. 0. 0. 0. 0. 0. 0. 0. 0. 0. 0. 0. 0.\n",
      " 0. 0. 0. 0. 0. 0. 0. 0. 0. 0. 0. 0. 0. 0. 0. 0. 0. 0. 0. 0. 0. 0. 0. 0.\n",
      " 0. 0. 0. 0. 0. 0. 0. 0. 0. 0. 0. 0. 0. 0. 0. 0. 0. 0. 0. 0. 0. 0. 0. 0.\n",
      " 0. 0. 0. 0. 0. 0. 0. 0. 0. 0. 0. 0. 0. 0. 0. 0. 0. 0. 0. 0. 0. 0. 0. 0.\n",
      " 0. 0. 0. 0. 0. 0. 0. 0. 0. 0. 0. 0. 0. 0. 0. 0. 0. 0. 0. 0. 0. 0. 0. 0.\n",
      " 0. 0. 0. 0. 0. 0. 0. 0. 0. 0. 0. 0. 0. 0. 0. 0. 0. 0. 0. 0. 0. 0. 0. 0.\n",
      " 0. 0. 0. 0. 0. 0. 0. 0. 0. 0. 0. 0. 0. 0. 0. 0. 0. 0. 0. 0. 0. 0. 0. 0.\n",
      " 0. 0. 0. 0. 0. 0. 0. 0. 0. 0. 0. 0. 0. 0. 0. 0. 0. 0. 0. 0. 0. 0. 0. 0.\n",
      " 0. 0. 0. 0. 0. 0. 0. 0. 0. 0. 0. 0. 0. 0. 0. 0. 0. 0. 0. 0. 0. 0. 0. 0.\n",
      " 0. 0. 0. 0. 0. 0. 0. 0. 0. 0. 0. 0. 0. 0. 0. 0. 0. 0. 0. 0. 0. 0. 0. 0.\n",
      " 0. 0. 0. 0. 0. 0. 0. 0. 0. 0. 0. 0. 0. 0. 0. 0. 0. 0. 0. 0. 0. 0. 0. 0.\n",
      " 0. 0. 0. 0. 0. 0. 0. 0. 0. 0. 0. 0. 0. 0. 0. 0. 0. 0. 0. 0. 0. 0. 0. 0.\n",
      " 0. 0. 0. 0. 0. 0. 0. 0. 0. 0. 0. 0. 0. 0. 0. 0. 0. 0. 0. 0.]\n",
      "End index: [0. 0. 0. 0. 0. 0. 0. 0. 0. 0. 0. 0. 0. 0. 0. 0. 0. 0. 0. 0. 0. 0. 0. 0.\n",
      " 0. 0. 0. 0. 0. 0. 0. 0. 0. 0. 0. 0. 0. 0. 0. 0. 1. 0. 0. 0. 0. 0. 0. 0.\n",
      " 0. 0. 0. 0. 0. 0. 0. 0. 0. 0. 0. 0. 0. 0. 0. 0. 0. 0. 0. 0. 0. 0. 0. 0.\n",
      " 0. 0. 0. 0. 0. 0. 0. 0. 0. 0. 0. 0. 0. 0. 0. 0. 0. 0. 0. 0. 0. 0. 0. 0.\n",
      " 0. 0. 0. 0. 0. 0. 0. 0. 0. 0. 0. 0. 0. 0. 0. 0. 0. 0. 0. 0. 0. 0. 0. 0.\n",
      " 0. 0. 0. 0. 0. 0. 0. 0. 0. 0. 0. 0. 0. 0. 0. 0. 0. 0. 0. 0. 0. 0. 0. 0.\n",
      " 0. 0. 0. 0. 0. 0. 0. 0. 0. 0. 0. 0. 0. 0. 0. 0. 0. 0. 0. 0. 0. 0. 0. 0.\n",
      " 0. 0. 0. 0. 0. 0. 0. 0. 0. 0. 0. 0. 0. 0. 0. 0. 0. 0. 0. 0. 0. 0. 0. 0.\n",
      " 0. 0. 0. 0. 0. 0. 0. 0. 0. 0. 0. 0. 0. 0. 0. 0. 0. 0. 0. 0. 0. 0. 0. 0.\n",
      " 0. 0. 0. 0. 0. 0. 0. 0. 0. 0. 0. 0. 0. 0. 0. 0. 0. 0. 0. 0. 0. 0. 0. 0.\n",
      " 0. 0. 0. 0. 0. 0. 0. 0. 0. 0. 0. 0. 0. 0. 0. 0. 0. 0. 0. 0. 0. 0. 0. 0.\n",
      " 0. 0. 0. 0. 0. 0. 0. 0. 0. 0. 0. 0. 0. 0. 0. 0. 0. 0. 0. 0. 0. 0. 0. 0.\n",
      " 0. 0. 0. 0. 0. 0. 0. 0. 0. 0. 0. 0. 0. 0. 0. 0. 0. 0. 0. 0. 0. 0. 0. 0.\n",
      " 0. 0. 0. 0. 0. 0. 0. 0. 0. 0. 0. 0. 0. 0. 0. 0. 0. 0. 0. 0. 0. 0. 0. 0.\n",
      " 0. 0. 0. 0. 0. 0. 0. 0. 0. 0. 0. 0. 0. 0. 0. 0. 0. 0. 0. 0. 0. 0. 0. 0.\n",
      " 0. 0. 0. 0. 0. 0. 0. 0. 0. 0. 0. 0. 0. 0. 0. 0. 0. 0. 0. 0. 0. 0. 0. 0.\n",
      " 0. 0. 0. 0. 0. 0. 0. 0. 0. 0. 0. 0. 0. 0. 0. 0. 0. 0. 0. 0. 0. 0. 0. 0.\n",
      " 0. 0. 0. 0. 0. 0. 0. 0. 0. 0. 0. 0. 0. 0. 0. 0. 0. 0. 0. 0. 0. 0. 0. 0.\n",
      " 0. 0. 0. 0. 0. 0. 0. 0. 0. 0. 0. 0. 0. 0. 0. 0. 0. 0. 0. 0. 0. 0. 0. 0.\n",
      " 0. 0. 0. 0. 0. 0. 0. 0. 0. 0. 0. 0. 0. 0. 0. 0. 0. 0. 0. 0. 0. 0. 0. 0.\n",
      " 0. 0. 0. 0. 0. 0. 0. 0. 0. 0. 0. 0. 0. 0. 0. 0. 0. 0. 0. 0.]\n"
     ]
    }
   ],
   "source": [
    "#The code prints the question, long answer, short answer, start index, and end index of the 10th sample in the training set. \n",
    "print(train_short_df.loc[10].question)\n",
    "\n",
    "print(train_short_df.loc[10].long_answer)\n",
    "print(train_short_df.loc[10].short_answer)\n",
    "\n",
    "#This can be useful for verifying the correctness of the data preprocessing and labeling.\n",
    "print('Start index: {0}'.format(train_start_labels[10]))\n",
    "print('End index: {0}'.format(train_end_labels[10]))"
   ]
  },
  {
   "cell_type": "markdown",
   "metadata": {},
   "source": [
    "## 10. Defining Model"
   ]
  },
  {
   "cell_type": "code",
   "execution_count": 97,
   "metadata": {
    "execution": {
     "iopub.execute_input": "2022-02-16T14:03:12.885599Z",
     "iopub.status.busy": "2022-02-16T14:03:12.885053Z",
     "iopub.status.idle": "2022-02-16T14:03:12.888993Z",
     "shell.execute_reply": "2022-02-16T14:03:12.888345Z",
     "shell.execute_reply.started": "2022-02-16T14:03:12.885558Z"
    }
   },
   "outputs": [],
   "source": [
    "# short answer model parameters\n",
    "short_epochs = 100\n",
    "short_batch_size = 64\n",
    "embed_size_short=200"
   ]
  },
  {
   "cell_type": "code",
   "execution_count": 98,
   "metadata": {
    "execution": {
     "iopub.execute_input": "2022-02-16T14:03:41.306493Z",
     "iopub.status.busy": "2022-02-16T14:03:41.306032Z",
     "iopub.status.idle": "2022-02-16T14:04:11.412027Z",
     "shell.execute_reply": "2022-02-16T14:04:11.411241Z",
     "shell.execute_reply.started": "2022-02-16T14:03:41.306453Z"
    }
   },
   "outputs": [],
   "source": [
    "# load from file\n",
    "embedding_dict = {}\n",
    "\n",
    "with open('../input/glove6b/glove.6B.200' + 'd.txt','r') as f:\n",
    "    for line in f:\n",
    "        values = line.split()\n",
    "        word = values[0]\n",
    "        vectors = np.asarray(values[1:],'float32')\n",
    "        embedding_dict[word] = vectors\n",
    "        \n",
    "f.close()\n",
    "\n",
    "# write to matrix\n",
    "num_words = len(tokenizer.word_index) + 1\n",
    "embedding_matrix = np.zeros((num_words, embed_size_short))\n",
    "\n",
    "for word, i in tokenizer.word_index.items():\n",
    "    if i > num_words:\n",
    "        continue\n",
    "    \n",
    "    emb_vec = embedding_dict.get(word)\n",
    "    \n",
    "    if emb_vec is not None:\n",
    "        embedding_matrix[i] = emb_vec\n",
    "        \n",
    "# load as tensorflow embedding\n",
    "#define embedding layer for the short model\n",
    "embedding_layer2 = tf.keras.layers.Embedding(\n",
    "    len(tokenizer.word_index) + 1,\n",
    "    embed_size_short,\n",
    "    embeddings_initializer = tf.keras.initializers.Constant(embedding_matrix),\n",
    "    trainable = False\n",
    ")"
   ]
  },
  {
   "cell_type": "code",
   "execution_count": 99,
   "metadata": {
    "execution": {
     "iopub.execute_input": "2022-02-16T14:04:19.465088Z",
     "iopub.status.busy": "2022-02-16T14:04:19.464290Z",
     "iopub.status.idle": "2022-02-16T14:04:21.542375Z",
     "shell.execute_reply": "2022-02-16T14:04:21.541673Z",
     "shell.execute_reply.started": "2022-02-16T14:04:19.465043Z"
    }
   },
   "outputs": [],
   "source": [
    "# encoding question input\n",
    "question_input = Input(shape=(None,))\n",
    "question_x = embedding_layer2(question_input)\n",
    "question_x = SpatialDropout1D(0.2)(question_x)\n",
    "question_x = Bidirectional(LSTM(200, return_sequences=True))(question_x)\n",
    "question_x = Bidirectional(LSTM(100, return_sequences=True))(question_x)\n",
    "\n",
    "# encoding answer input\n",
    "answer_input = Input(shape=(None,))\n",
    "answer_x = embedding_layer2(answer_input)\n",
    "answer_x = SpatialDropout1D(0.2)(answer_x)\n",
    "answer_x = Bidirectional(LSTM(250, return_sequences=True))(answer_x)\n",
    "answer_x = Bidirectional(LSTM(150, return_sequences=True))(answer_x)\n",
    "\n",
    "# merge the encodings\n",
    "combined_x = concatenate([question_x, answer_x])\n",
    "\n",
    "# predict start index of the short answer\n",
    "start_x = Dropout(0.1)(combined_x) \n",
    "start_x = Conv1D(1,1)(start_x)\n",
    "start_x = Flatten()(start_x)\n",
    "start_x = Activation('softmax', name='start_token')(start_x)\n",
    "\n",
    "# predict end index of the short answer\n",
    "end_x = Dropout(0.1)(combined_x) \n",
    "end_x = Conv1D(1,1)(end_x)\n",
    "end_x = Flatten()(end_x)\n",
    "end_x = Activation('softmax', name='end_token')(end_x)\n",
    "\n",
    "# merge the parts into one model\n",
    "short_model = tf.keras.models.Model(inputs=[answer_input, question_input], outputs=[start_x, end_x])"
   ]
  },
  {
   "cell_type": "code",
   "execution_count": 100,
   "metadata": {
    "execution": {
     "iopub.execute_input": "2022-02-16T14:04:24.512456Z",
     "iopub.status.busy": "2022-02-16T14:04:24.511909Z",
     "iopub.status.idle": "2022-02-16T14:04:24.524309Z",
     "shell.execute_reply": "2022-02-16T14:04:24.523592Z",
     "shell.execute_reply.started": "2022-02-16T14:04:24.512417Z"
    }
   },
   "outputs": [],
   "source": [
    "short_model.compile(\n",
    "    loss='categorical_crossentropy', \n",
    "    optimizer='adam',\n",
    "    metrics=['categorical_accuracy', 'Recall', 'Precision'])"
   ]
  },
  {
   "cell_type": "code",
   "execution_count": 101,
   "metadata": {
    "execution": {
     "iopub.execute_input": "2022-02-16T14:04:27.166298Z",
     "iopub.status.busy": "2022-02-16T14:04:27.165468Z",
     "iopub.status.idle": "2022-02-16T14:04:27.181813Z",
     "shell.execute_reply": "2022-02-16T14:04:27.180924Z",
     "shell.execute_reply.started": "2022-02-16T14:04:27.166250Z"
    }
   },
   "outputs": [
    {
     "name": "stdout",
     "output_type": "stream",
     "text": [
      "Model: \"model_1\"\n",
      "__________________________________________________________________________________________________\n",
      "Layer (type)                    Output Shape         Param #     Connected to                     \n",
      "==================================================================================================\n",
      "input_3 (InputLayer)            [(None, None)]       0                                            \n",
      "__________________________________________________________________________________________________\n",
      "input_4 (InputLayer)            [(None, None)]       0                                            \n",
      "__________________________________________________________________________________________________\n",
      "embedding_1 (Embedding)         (None, None, 200)    13415200    input_3[0][0]                    \n",
      "                                                                 input_4[0][0]                    \n",
      "__________________________________________________________________________________________________\n",
      "spatial_dropout1d_2 (SpatialDro (None, None, 200)    0           embedding_1[0][0]                \n",
      "__________________________________________________________________________________________________\n",
      "spatial_dropout1d_3 (SpatialDro (None, None, 200)    0           embedding_1[1][0]                \n",
      "__________________________________________________________________________________________________\n",
      "bidirectional_2 (Bidirectional) (None, None, 400)    641600      spatial_dropout1d_2[0][0]        \n",
      "__________________________________________________________________________________________________\n",
      "bidirectional_4 (Bidirectional) (None, None, 500)    902000      spatial_dropout1d_3[0][0]        \n",
      "__________________________________________________________________________________________________\n",
      "bidirectional_3 (Bidirectional) (None, None, 200)    400800      bidirectional_2[0][0]            \n",
      "__________________________________________________________________________________________________\n",
      "bidirectional_5 (Bidirectional) (None, None, 300)    781200      bidirectional_4[0][0]            \n",
      "__________________________________________________________________________________________________\n",
      "concatenate_1 (Concatenate)     (None, None, 500)    0           bidirectional_3[0][0]            \n",
      "                                                                 bidirectional_5[0][0]            \n",
      "__________________________________________________________________________________________________\n",
      "dropout_2 (Dropout)             (None, None, 500)    0           concatenate_1[0][0]              \n",
      "__________________________________________________________________________________________________\n",
      "dropout_3 (Dropout)             (None, None, 500)    0           concatenate_1[0][0]              \n",
      "__________________________________________________________________________________________________\n",
      "conv1d (Conv1D)                 (None, None, 1)      501         dropout_2[0][0]                  \n",
      "__________________________________________________________________________________________________\n",
      "conv1d_1 (Conv1D)               (None, None, 1)      501         dropout_3[0][0]                  \n",
      "__________________________________________________________________________________________________\n",
      "flatten (Flatten)               (None, None)         0           conv1d[0][0]                     \n",
      "__________________________________________________________________________________________________\n",
      "flatten_1 (Flatten)             (None, None)         0           conv1d_1[0][0]                   \n",
      "__________________________________________________________________________________________________\n",
      "start_token (Activation)        (None, None)         0           flatten[0][0]                    \n",
      "__________________________________________________________________________________________________\n",
      "end_token (Activation)          (None, None)         0           flatten_1[0][0]                  \n",
      "==================================================================================================\n",
      "Total params: 16,141,802\n",
      "Trainable params: 2,726,602\n",
      "Non-trainable params: 13,415,200\n",
      "__________________________________________________________________________________________________\n"
     ]
    }
   ],
   "source": [
    "short_model.summary()"
   ]
  },
  {
   "cell_type": "code",
   "execution_count": 102,
   "metadata": {
    "execution": {
     "iopub.execute_input": "2022-02-16T14:04:31.064069Z",
     "iopub.status.busy": "2022-02-16T14:04:31.063767Z",
     "iopub.status.idle": "2022-02-16T14:04:31.069874Z",
     "shell.execute_reply": "2022-02-16T14:04:31.068130Z",
     "shell.execute_reply.started": "2022-02-16T14:04:31.064032Z"
    }
   },
   "outputs": [],
   "source": [
    "# define callbacks for the short model\n",
    "#increased patience or number of epochs with no improvement after which training will be stopped.\n",
    "callbacks = [\n",
    "    tf.keras.callbacks.ReduceLROnPlateau(monitor='loss', patience=4, verbose=1),\n",
    "    tf.keras.callbacks.EarlyStopping(monitor='loss', patience=5, verbose=1),]"
   ]
  },
  {
   "cell_type": "code",
   "execution_count": 103,
   "metadata": {
    "execution": {
     "iopub.execute_input": "2022-02-16T14:04:33.424831Z",
     "iopub.status.busy": "2022-02-16T14:04:33.424579Z",
     "iopub.status.idle": "2022-02-16T14:08:21.516435Z",
     "shell.execute_reply": "2022-02-16T14:08:21.515785Z",
     "shell.execute_reply.started": "2022-02-16T14:04:33.424802Z"
    }
   },
   "outputs": [
    {
     "name": "stdout",
     "output_type": "stream",
     "text": [
      "Epoch 1/100\n",
      "17/17 [==============================] - 24s 550ms/step - loss: 8.8698 - start_token_loss: 4.3275 - end_token_loss: 4.5424 - start_token_categorical_accuracy: 0.1667 - start_token_recall: 0.0000e+00 - start_token_precision: 0.0000e+00 - end_token_categorical_accuracy: 0.1455 - end_token_recall_1: 0.0000e+00 - end_token_precision_1: 0.0000e+00 - val_loss: 7.5077 - val_start_token_loss: 3.5886 - val_end_token_loss: 3.9191 - val_start_token_categorical_accuracy: 0.3462 - val_start_token_recall: 0.0769 - val_start_token_precision: 0.3333 - val_end_token_categorical_accuracy: 0.3462 - val_end_token_recall_1: 0.0000e+00 - val_end_token_precision_1: 0.0000e+00\n",
      "Epoch 2/100\n",
      "17/17 [==============================] - 7s 400ms/step - loss: 7.7403 - start_token_loss: 3.7654 - end_token_loss: 3.9749 - start_token_categorical_accuracy: 0.3025 - start_token_recall: 0.0069 - start_token_precision: 0.1556 - end_token_categorical_accuracy: 0.3025 - end_token_recall_1: 0.0030 - end_token_precision_1: 0.2500 - val_loss: 7.2585 - val_start_token_loss: 3.5146 - val_end_token_loss: 3.7438 - val_start_token_categorical_accuracy: 0.3462 - val_start_token_recall: 0.0000e+00 - val_start_token_precision: 0.0000e+00 - val_end_token_categorical_accuracy: 0.3462 - val_end_token_recall_1: 0.0000e+00 - val_end_token_precision_1: 0.0000e+00\n",
      "Epoch 3/100\n",
      "17/17 [==============================] - 7s 397ms/step - loss: 7.5046 - start_token_loss: 3.6693 - end_token_loss: 3.8353 - start_token_categorical_accuracy: 0.3025 - start_token_recall: 0.0178 - start_token_precision: 0.4615 - end_token_categorical_accuracy: 0.3044 - end_token_recall_1: 0.0079 - end_token_precision_1: 0.5333 - val_loss: 7.0328 - val_start_token_loss: 3.3744 - val_end_token_loss: 3.6584 - val_start_token_categorical_accuracy: 0.3462 - val_start_token_recall: 0.0000e+00 - val_start_token_precision: 0.0000e+00 - val_end_token_categorical_accuracy: 0.3462 - val_end_token_recall_1: 0.0000e+00 - val_end_token_precision_1: 0.0000e+00\n",
      "Epoch 4/100\n",
      "17/17 [==============================] - 7s 402ms/step - loss: 7.2936 - start_token_loss: 3.5599 - end_token_loss: 3.7337 - start_token_categorical_accuracy: 0.3256 - start_token_recall: 0.0483 - start_token_precision: 0.4851 - end_token_categorical_accuracy: 0.3247 - end_token_recall_1: 0.0464 - end_token_precision_1: 0.5465 - val_loss: 6.7780 - val_start_token_loss: 3.2692 - val_end_token_loss: 3.5088 - val_start_token_categorical_accuracy: 0.3846 - val_start_token_recall: 0.0000e+00 - val_start_token_precision: 0.0000e+00 - val_end_token_categorical_accuracy: 0.3846 - val_end_token_recall_1: 0.0000e+00 - val_end_token_precision_1: 0.0000e+00\n",
      "Epoch 5/100\n",
      "17/17 [==============================] - 7s 399ms/step - loss: 7.1652 - start_token_loss: 3.5019 - end_token_loss: 3.6634 - start_token_categorical_accuracy: 0.3516 - start_token_recall: 0.0641 - start_token_precision: 0.5702 - end_token_categorical_accuracy: 0.3324 - end_token_recall_1: 0.0493 - end_token_precision_1: 0.6024 - val_loss: 6.3785 - val_start_token_loss: 3.0531 - val_end_token_loss: 3.3254 - val_start_token_categorical_accuracy: 0.4231 - val_start_token_recall: 0.0000e+00 - val_start_token_precision: 0.0000e+00 - val_end_token_categorical_accuracy: 0.3846 - val_end_token_recall_1: 0.0000e+00 - val_end_token_precision_1: 0.0000e+00\n",
      "Epoch 6/100\n",
      "17/17 [==============================] - 7s 400ms/step - loss: 7.0822 - start_token_loss: 3.4625 - end_token_loss: 3.6197 - start_token_categorical_accuracy: 0.3545 - start_token_recall: 0.1065 - start_token_precision: 0.6102 - end_token_categorical_accuracy: 0.3324 - end_token_recall_1: 0.0917 - end_token_precision_1: 0.6039 - val_loss: 6.2642 - val_start_token_loss: 2.9871 - val_end_token_loss: 3.2771 - val_start_token_categorical_accuracy: 0.4231 - val_start_token_recall: 0.1923 - val_start_token_precision: 0.5556 - val_end_token_categorical_accuracy: 0.3846 - val_end_token_recall_1: 0.3077 - val_end_token_precision_1: 0.6667\n",
      "Epoch 7/100\n",
      "17/17 [==============================] - 7s 400ms/step - loss: 6.9582 - start_token_loss: 3.4145 - end_token_loss: 3.5437 - start_token_categorical_accuracy: 0.3536 - start_token_recall: 0.1371 - start_token_precision: 0.6435 - end_token_categorical_accuracy: 0.3430 - end_token_recall_1: 0.1134 - end_token_precision_1: 0.6250 - val_loss: 6.0397 - val_start_token_loss: 2.8713 - val_end_token_loss: 3.1684 - val_start_token_categorical_accuracy: 0.4231 - val_start_token_recall: 0.0000e+00 - val_start_token_precision: 0.0000e+00 - val_end_token_categorical_accuracy: 0.3846 - val_end_token_recall_1: 0.0385 - val_end_token_precision_1: 0.5000\n",
      "Epoch 8/100\n",
      "17/17 [==============================] - 7s 396ms/step - loss: 6.6988 - start_token_loss: 3.2913 - end_token_loss: 3.4075 - start_token_categorical_accuracy: 0.3593 - start_token_recall: 0.1381 - start_token_precision: 0.6931 - end_token_categorical_accuracy: 0.3497 - end_token_recall_1: 0.1312 - end_token_precision_1: 0.6856 - val_loss: 5.7515 - val_start_token_loss: 2.7929 - val_end_token_loss: 2.9586 - val_start_token_categorical_accuracy: 0.4231 - val_start_token_recall: 0.2308 - val_start_token_precision: 0.6667 - val_end_token_categorical_accuracy: 0.3846 - val_end_token_recall_1: 0.2308 - val_end_token_precision_1: 0.6000\n",
      "Epoch 9/100\n",
      "17/17 [==============================] - 7s 400ms/step - loss: 6.5342 - start_token_loss: 3.2081 - end_token_loss: 3.3261 - start_token_categorical_accuracy: 0.3642 - start_token_recall: 0.1696 - start_token_precision: 0.6394 - end_token_categorical_accuracy: 0.3497 - end_token_recall_1: 0.1667 - end_token_precision_1: 0.6168 - val_loss: 5.7890 - val_start_token_loss: 2.7716 - val_end_token_loss: 3.0173 - val_start_token_categorical_accuracy: 0.4615 - val_start_token_recall: 0.1538 - val_start_token_precision: 0.8000 - val_end_token_categorical_accuracy: 0.4231 - val_end_token_recall_1: 0.1538 - val_end_token_precision_1: 0.8000\n",
      "Epoch 10/100\n",
      "17/17 [==============================] - 7s 398ms/step - loss: 6.4025 - start_token_loss: 3.1535 - end_token_loss: 3.2490 - start_token_categorical_accuracy: 0.3738 - start_token_recall: 0.1746 - start_token_precision: 0.7024 - end_token_categorical_accuracy: 0.3603 - end_token_recall_1: 0.1598 - end_token_precision_1: 0.7330 - val_loss: 5.4030 - val_start_token_loss: 2.5610 - val_end_token_loss: 2.8420 - val_start_token_categorical_accuracy: 0.4231 - val_start_token_recall: 0.1923 - val_start_token_precision: 1.0000 - val_end_token_categorical_accuracy: 0.4231 - val_end_token_recall_1: 0.1923 - val_end_token_precision_1: 1.0000\n",
      "Epoch 11/100\n",
      "17/17 [==============================] - 7s 398ms/step - loss: 6.2815 - start_token_loss: 3.0780 - end_token_loss: 3.2034 - start_token_categorical_accuracy: 0.3719 - start_token_recall: 0.1913 - start_token_precision: 0.7029 - end_token_categorical_accuracy: 0.3699 - end_token_recall_1: 0.1755 - end_token_precision_1: 0.6449 - val_loss: 5.6048 - val_start_token_loss: 2.7784 - val_end_token_loss: 2.8264 - val_start_token_categorical_accuracy: 0.4231 - val_start_token_recall: 0.1538 - val_start_token_precision: 0.8000 - val_end_token_categorical_accuracy: 0.4231 - val_end_token_recall_1: 0.1923 - val_end_token_precision_1: 0.8333\n",
      "Epoch 12/100\n",
      "17/17 [==============================] - 7s 401ms/step - loss: 5.9292 - start_token_loss: 2.9236 - end_token_loss: 3.0056 - start_token_categorical_accuracy: 0.3873 - start_token_recall: 0.2101 - start_token_precision: 0.7500 - end_token_categorical_accuracy: 0.3873 - end_token_recall_1: 0.1933 - end_token_precision_1: 0.7597 - val_loss: 5.1724 - val_start_token_loss: 2.4887 - val_end_token_loss: 2.6837 - val_start_token_categorical_accuracy: 0.4615 - val_start_token_recall: 0.2308 - val_start_token_precision: 1.0000 - val_end_token_categorical_accuracy: 0.4615 - val_end_token_recall_1: 0.2692 - val_end_token_precision_1: 0.8750\n",
      "Epoch 13/100\n",
      "17/17 [==============================] - 7s 395ms/step - loss: 5.6375 - start_token_loss: 2.7587 - end_token_loss: 2.8789 - start_token_categorical_accuracy: 0.4133 - start_token_recall: 0.2298 - start_token_precision: 0.8147 - end_token_categorical_accuracy: 0.3998 - end_token_recall_1: 0.2081 - end_token_precision_1: 0.7932 - val_loss: 5.1621 - val_start_token_loss: 2.4827 - val_end_token_loss: 2.6794 - val_start_token_categorical_accuracy: 0.5000 - val_start_token_recall: 0.2308 - val_start_token_precision: 1.0000 - val_end_token_categorical_accuracy: 0.5000 - val_end_token_recall_1: 0.1923 - val_end_token_precision_1: 1.0000\n",
      "Epoch 14/100\n",
      "17/17 [==============================] - 7s 403ms/step - loss: 5.3771 - start_token_loss: 2.6409 - end_token_loss: 2.7362 - start_token_categorical_accuracy: 0.4441 - start_token_recall: 0.2633 - start_token_precision: 0.7853 - end_token_categorical_accuracy: 0.4220 - end_token_recall_1: 0.2485 - end_token_precision_1: 0.7900 - val_loss: 4.3077 - val_start_token_loss: 2.1561 - val_end_token_loss: 2.1515 - val_start_token_categorical_accuracy: 0.4615 - val_start_token_recall: 0.3462 - val_start_token_precision: 1.0000 - val_end_token_categorical_accuracy: 0.6154 - val_end_token_recall_1: 0.3462 - val_end_token_precision_1: 1.0000\n",
      "Epoch 15/100\n",
      "17/17 [==============================] - 7s 399ms/step - loss: 5.0904 - start_token_loss: 2.4779 - end_token_loss: 2.6125 - start_token_categorical_accuracy: 0.4615 - start_token_recall: 0.2870 - start_token_precision: 0.8584 - end_token_categorical_accuracy: 0.4316 - end_token_recall_1: 0.2604 - end_token_precision_1: 0.7834 - val_loss: 3.7520 - val_start_token_loss: 1.7989 - val_end_token_loss: 1.9531 - val_start_token_categorical_accuracy: 0.5769 - val_start_token_recall: 0.3846 - val_start_token_precision: 1.0000 - val_end_token_categorical_accuracy: 0.6154 - val_end_token_recall_1: 0.4231 - val_end_token_precision_1: 1.0000\n",
      "Epoch 16/100\n",
      "17/17 [==============================] - 7s 401ms/step - loss: 4.8113 - start_token_loss: 2.3593 - end_token_loss: 2.4520 - start_token_categorical_accuracy: 0.4913 - start_token_recall: 0.3225 - start_token_precision: 0.8342 - end_token_categorical_accuracy: 0.4547 - end_token_recall_1: 0.2909 - end_token_precision_1: 0.8217 - val_loss: 4.0649 - val_start_token_loss: 1.9090 - val_end_token_loss: 2.1559 - val_start_token_categorical_accuracy: 0.6154 - val_start_token_recall: 0.3462 - val_start_token_precision: 1.0000 - val_end_token_categorical_accuracy: 0.6154 - val_end_token_recall_1: 0.3462 - val_end_token_precision_1: 1.0000\n",
      "Epoch 17/100\n",
      "17/17 [==============================] - 7s 398ms/step - loss: 4.5955 - start_token_loss: 2.2187 - end_token_loss: 2.3768 - start_token_categorical_accuracy: 0.5048 - start_token_recall: 0.3205 - start_token_precision: 0.8442 - end_token_categorical_accuracy: 0.4750 - end_token_recall_1: 0.2988 - end_token_precision_1: 0.8324 - val_loss: 3.5378 - val_start_token_loss: 1.6440 - val_end_token_loss: 1.8938 - val_start_token_categorical_accuracy: 0.6154 - val_start_token_recall: 0.3462 - val_start_token_precision: 1.0000 - val_end_token_categorical_accuracy: 0.6154 - val_end_token_recall_1: 0.3846 - val_end_token_precision_1: 1.0000\n",
      "Epoch 18/100\n",
      "17/17 [==============================] - 7s 399ms/step - loss: 4.2659 - start_token_loss: 2.1020 - end_token_loss: 2.1639 - start_token_categorical_accuracy: 0.5106 - start_token_recall: 0.3481 - start_token_precision: 0.8527 - end_token_categorical_accuracy: 0.5058 - end_token_recall_1: 0.3393 - end_token_precision_1: 0.8687 - val_loss: 3.4323 - val_start_token_loss: 1.7101 - val_end_token_loss: 1.7222 - val_start_token_categorical_accuracy: 0.5385 - val_start_token_recall: 0.3846 - val_start_token_precision: 0.9091 - val_end_token_categorical_accuracy: 0.6154 - val_end_token_recall_1: 0.4615 - val_end_token_precision_1: 0.9231\n",
      "Epoch 19/100\n",
      "17/17 [==============================] - 7s 400ms/step - loss: 4.3693 - start_token_loss: 2.1474 - end_token_loss: 2.2219 - start_token_categorical_accuracy: 0.5077 - start_token_recall: 0.3442 - start_token_precision: 0.8192 - end_token_categorical_accuracy: 0.5019 - end_token_recall_1: 0.3225 - end_token_precision_1: 0.7880 - val_loss: 3.8955 - val_start_token_loss: 1.9139 - val_end_token_loss: 1.9816 - val_start_token_categorical_accuracy: 0.5769 - val_start_token_recall: 0.3077 - val_start_token_precision: 1.0000 - val_end_token_categorical_accuracy: 0.6154 - val_end_token_recall_1: 0.3077 - val_end_token_precision_1: 1.0000\n",
      "Epoch 20/100\n",
      "17/17 [==============================] - 7s 402ms/step - loss: 3.9288 - start_token_loss: 1.9238 - end_token_loss: 2.0050 - start_token_categorical_accuracy: 0.5626 - start_token_recall: 0.3994 - start_token_precision: 0.8526 - end_token_categorical_accuracy: 0.5337 - end_token_recall_1: 0.3659 - end_token_precision_1: 0.8356 - val_loss: 2.8338 - val_start_token_loss: 1.4040 - val_end_token_loss: 1.4298 - val_start_token_categorical_accuracy: 0.6538 - val_start_token_recall: 0.5385 - val_start_token_precision: 0.9333 - val_end_token_categorical_accuracy: 0.6154 - val_end_token_recall_1: 0.5385 - val_end_token_precision_1: 1.0000\n",
      "Epoch 21/100\n",
      "17/17 [==============================] - 7s 398ms/step - loss: 3.4308 - start_token_loss: 1.6880 - end_token_loss: 1.7428 - start_token_categorical_accuracy: 0.5954 - start_token_recall: 0.4536 - start_token_precision: 0.8745 - end_token_categorical_accuracy: 0.5838 - end_token_recall_1: 0.4103 - end_token_precision_1: 0.8649 - val_loss: 2.6217 - val_start_token_loss: 1.2542 - val_end_token_loss: 1.3675 - val_start_token_categorical_accuracy: 0.7692 - val_start_token_recall: 0.5000 - val_start_token_precision: 0.8667 - val_end_token_categorical_accuracy: 0.6538 - val_end_token_recall_1: 0.5000 - val_end_token_precision_1: 1.0000\n",
      "Epoch 22/100\n",
      "17/17 [==============================] - 7s 396ms/step - loss: 3.3917 - start_token_loss: 1.6688 - end_token_loss: 1.7229 - start_token_categorical_accuracy: 0.5790 - start_token_recall: 0.4458 - start_token_precision: 0.8561 - end_token_categorical_accuracy: 0.5588 - end_token_recall_1: 0.4290 - end_token_precision_1: 0.8414 - val_loss: 2.6774 - val_start_token_loss: 1.3197 - val_end_token_loss: 1.3576 - val_start_token_categorical_accuracy: 0.7308 - val_start_token_recall: 0.4615 - val_start_token_precision: 0.9231 - val_end_token_categorical_accuracy: 0.6154 - val_end_token_recall_1: 0.5000 - val_end_token_precision_1: 1.0000\n",
      "Epoch 23/100\n",
      "17/17 [==============================] - 7s 399ms/step - loss: 3.0322 - start_token_loss: 1.4713 - end_token_loss: 1.5609 - start_token_categorical_accuracy: 0.6339 - start_token_recall: 0.4803 - start_token_precision: 0.8952 - end_token_categorical_accuracy: 0.6108 - end_token_recall_1: 0.4704 - end_token_precision_1: 0.8768 - val_loss: 2.1791 - val_start_token_loss: 1.0468 - val_end_token_loss: 1.1323 - val_start_token_categorical_accuracy: 0.7308 - val_start_token_recall: 0.5769 - val_start_token_precision: 0.9375 - val_end_token_categorical_accuracy: 0.6923 - val_end_token_recall_1: 0.5385 - val_end_token_precision_1: 1.0000\n",
      "Epoch 24/100\n",
      "17/17 [==============================] - 7s 399ms/step - loss: 2.7364 - start_token_loss: 1.3363 - end_token_loss: 1.4002 - start_token_categorical_accuracy: 0.6715 - start_token_recall: 0.5316 - start_token_precision: 0.8680 - end_token_categorical_accuracy: 0.6320 - end_token_recall_1: 0.5020 - end_token_precision_1: 0.8716 - val_loss: 2.1648 - val_start_token_loss: 1.0910 - val_end_token_loss: 1.0738 - val_start_token_categorical_accuracy: 0.7692 - val_start_token_recall: 0.5769 - val_start_token_precision: 1.0000 - val_end_token_categorical_accuracy: 0.7308 - val_end_token_recall_1: 0.5769 - val_end_token_precision_1: 1.0000\n",
      "Epoch 25/100\n",
      "17/17 [==============================] - 7s 401ms/step - loss: 2.6509 - start_token_loss: 1.2834 - end_token_loss: 1.3676 - start_token_categorical_accuracy: 0.6724 - start_token_recall: 0.5542 - start_token_precision: 0.8809 - end_token_categorical_accuracy: 0.6628 - end_token_recall_1: 0.5533 - end_token_precision_1: 0.8725 - val_loss: 1.9417 - val_start_token_loss: 0.8796 - val_end_token_loss: 1.0620 - val_start_token_categorical_accuracy: 0.8846 - val_start_token_recall: 0.5769 - val_start_token_precision: 1.0000 - val_end_token_categorical_accuracy: 0.7692 - val_end_token_recall_1: 0.5385 - val_end_token_precision_1: 1.0000\n",
      "Epoch 26/100\n",
      "17/17 [==============================] - 7s 399ms/step - loss: 2.3778 - start_token_loss: 1.1651 - end_token_loss: 1.2126 - start_token_categorical_accuracy: 0.7013 - start_token_recall: 0.6085 - start_token_precision: 0.8890 - end_token_categorical_accuracy: 0.6850 - end_token_recall_1: 0.5799 - end_token_precision_1: 0.8923 - val_loss: 1.9265 - val_start_token_loss: 0.9789 - val_end_token_loss: 0.9477 - val_start_token_categorical_accuracy: 0.7692 - val_start_token_recall: 0.6154 - val_start_token_precision: 0.9412 - val_end_token_categorical_accuracy: 0.7308 - val_end_token_recall_1: 0.6154 - val_end_token_precision_1: 1.0000\n",
      "Epoch 27/100\n",
      "17/17 [==============================] - 7s 400ms/step - loss: 3.8508 - start_token_loss: 1.9843 - end_token_loss: 1.8665 - start_token_categorical_accuracy: 0.5347 - start_token_recall: 0.4428 - start_token_precision: 0.7822 - end_token_categorical_accuracy: 0.5655 - end_token_recall_1: 0.4517 - end_token_precision_1: 0.7776 - val_loss: 3.1538 - val_start_token_loss: 1.6979 - val_end_token_loss: 1.4559 - val_start_token_categorical_accuracy: 0.6538 - val_start_token_recall: 0.4231 - val_start_token_precision: 0.9167 - val_end_token_categorical_accuracy: 0.6538 - val_end_token_recall_1: 0.5385 - val_end_token_precision_1: 1.0000\n",
      "Epoch 28/100\n",
      "17/17 [==============================] - 7s 401ms/step - loss: 3.9871 - start_token_loss: 2.0305 - end_token_loss: 1.9566 - start_token_categorical_accuracy: 0.4961 - start_token_recall: 0.3718 - start_token_precision: 0.7421 - end_token_categorical_accuracy: 0.5019 - end_token_recall_1: 0.3945 - end_token_precision_1: 0.7590 - val_loss: 5.3234 - val_start_token_loss: 2.7910 - val_end_token_loss: 2.5324 - val_start_token_categorical_accuracy: 0.4231 - val_start_token_recall: 0.1923 - val_start_token_precision: 1.0000 - val_end_token_categorical_accuracy: 0.4615 - val_end_token_recall_1: 0.3462 - val_end_token_precision_1: 0.9000\n",
      "Epoch 29/100\n",
      "17/17 [==============================] - 7s 399ms/step - loss: 4.0847 - start_token_loss: 2.0444 - end_token_loss: 2.0402 - start_token_categorical_accuracy: 0.4913 - start_token_recall: 0.3787 - start_token_precision: 0.7273 - end_token_categorical_accuracy: 0.5193 - end_token_recall_1: 0.4024 - end_token_precision_1: 0.7299 - val_loss: 3.6865 - val_start_token_loss: 1.7006 - val_end_token_loss: 1.9859 - val_start_token_categorical_accuracy: 0.6538 - val_start_token_recall: 0.5000 - val_start_token_precision: 0.7647 - val_end_token_categorical_accuracy: 0.5385 - val_end_token_recall_1: 0.5000 - val_end_token_precision_1: 0.6842\n",
      "Epoch 30/100\n",
      "17/17 [==============================] - 7s 402ms/step - loss: 3.3094 - start_token_loss: 1.7072 - end_token_loss: 1.6022 - start_token_categorical_accuracy: 0.5829 - start_token_recall: 0.4842 - start_token_precision: 0.7806 - end_token_categorical_accuracy: 0.5934 - end_token_recall_1: 0.4911 - end_token_precision_1: 0.7757 - val_loss: 2.3262 - val_start_token_loss: 1.0583 - val_end_token_loss: 1.2680 - val_start_token_categorical_accuracy: 0.7692 - val_start_token_recall: 0.6538 - val_start_token_precision: 0.9444 - val_end_token_categorical_accuracy: 0.6923 - val_end_token_recall_1: 0.5385 - val_end_token_precision_1: 1.0000\n",
      "\n",
      "Epoch 00030: ReduceLROnPlateau reducing learning rate to 0.00010000000474974513.\n",
      "Epoch 31/100\n",
      "17/17 [==============================] - 7s 399ms/step - loss: 2.6512 - start_token_loss: 1.2894 - end_token_loss: 1.3618 - start_token_categorical_accuracy: 0.6407 - start_token_recall: 0.5385 - start_token_precision: 0.8465 - end_token_categorical_accuracy: 0.6252 - end_token_recall_1: 0.5394 - end_token_precision_1: 0.8092 - val_loss: 2.0671 - val_start_token_loss: 0.9926 - val_end_token_loss: 1.0745 - val_start_token_categorical_accuracy: 0.7692 - val_start_token_recall: 0.6538 - val_start_token_precision: 0.9444 - val_end_token_categorical_accuracy: 0.7308 - val_end_token_recall_1: 0.6154 - val_end_token_precision_1: 1.0000\n",
      "Epoch 00031: early stopping\n"
     ]
    }
   ],
   "source": [
    "history = short_model.fit(\n",
    "    x = [train_long_answers, train_questions], \n",
    "    y = [train_start_labels, train_end_labels],epochs = short_epochs, callbacks = callbacks,\n",
    "    validation_data = ([test_long_answers, test_questions], [test_start_labels, test_end_labels]),\n",
    "    batch_size = short_batch_size,  shuffle = True)"
   ]
  },
  {
   "cell_type": "code",
   "execution_count": 104,
   "metadata": {
    "execution": {
     "iopub.execute_input": "2022-02-16T14:11:45.485923Z",
     "iopub.status.busy": "2022-02-16T14:11:45.485287Z",
     "iopub.status.idle": "2022-02-16T14:12:17.826537Z",
     "shell.execute_reply": "2022-02-16T14:12:17.825711Z",
     "shell.execute_reply.started": "2022-02-16T14:11:45.485884Z"
    }
   },
   "outputs": [],
   "source": [
    "short_model.save('short_model.h5')"
   ]
  },
  {
   "cell_type": "markdown",
   "metadata": {},
   "source": [
    "## 11. **Model Evaluation**"
   ]
  },
  {
   "cell_type": "markdown",
   "metadata": {},
   "source": [
    "### Identifying if correct short answers given to a long answers"
   ]
  },
  {
   "cell_type": "code",
   "execution_count": 105,
   "metadata": {
    "execution": {
     "iopub.execute_input": "2022-02-16T14:12:17.828525Z",
     "iopub.status.busy": "2022-02-16T14:12:17.828262Z",
     "iopub.status.idle": "2022-02-16T14:12:17.840960Z",
     "shell.execute_reply": "2022-02-16T14:12:17.839348Z",
     "shell.execute_reply.started": "2022-02-16T14:12:17.828489Z"
    }
   },
   "outputs": [
    {
     "name": "stdout",
     "output_type": "stream",
     "text": [
      "Epoch: 31\n",
      "Loss: 2.6512441635131836\n"
     ]
    }
   ],
   "source": [
    "#printing the final epoch number and the corresponding training loss value from the history object returned by the fit() method of the model. \n",
    "#It can be used to monitor the training progress of the model and to ensure that the model is improving with each epoch.\n",
    "print('Epoch: {0}'.format(len(history.history['loss'])))\n",
    "print('Loss: {0}'.format(history.history['loss'][-1]))"
   ]
  },
  {
   "cell_type": "code",
   "execution_count": 106,
   "metadata": {
    "execution": {
     "iopub.execute_input": "2022-02-16T14:12:21.805103Z",
     "iopub.status.busy": "2022-02-16T14:12:21.804807Z",
     "iopub.status.idle": "2022-02-16T14:12:21.818127Z",
     "shell.execute_reply": "2022-02-16T14:12:21.817345Z",
     "shell.execute_reply.started": "2022-02-16T14:12:21.805072Z"
    }
   },
   "outputs": [
    {
     "name": "stdout",
     "output_type": "stream",
     "text": [
      "Training final results\n",
      "--------------------------------------------------\n",
      "Start token accuracy: 0.6406551003456116\n",
      "Start token recall: 0.5384615659713745\n",
      "Start token precision: 0.8465116024017334\n",
      "Start token F1 score: 0.6582\n",
      "--------------------------------------------------\n",
      "End token accuracy: 0.6252408623695374\n",
      "End token recall: 0.5394477248191833\n",
      "End token precision: 0.8091716170310974\n",
      "End token F1 score: 0.6473\n"
     ]
    }
   ],
   "source": [
    "#Training Results\n",
    "print('Training final results')\n",
    "\n",
    "accuracy = history.history['start_token_categorical_accuracy'][-1]\n",
    "recall = history.history['start_token_recall'][-1]\n",
    "precision = history.history['start_token_precision'][-1]\n",
    "\n",
    "print('--------------------------------------------------')\n",
    "print('Start token accuracy: {0}'.format(accuracy))\n",
    "print('Start token recall: {0}'.format(recall))\n",
    "print('Start token precision: {0}'.format(precision))\n",
    "print('Start token F1 score: {0:.4f}'.format(2 * (precision * recall) / (precision + recall)))\n",
    "\n",
    "print('--------------------------------------------------')\n",
    "\n",
    "accuracy = history.history['end_token_categorical_accuracy'][-1]\n",
    "recall = history.history['end_token_recall_1'][-1]\n",
    "precision = history.history['end_token_precision_1'][-1]\n",
    "\n",
    "print('End token accuracy: {0}'.format(accuracy))\n",
    "print('End token recall: {0}'.format(recall))\n",
    "print('End token precision: {0}'.format(precision))\n",
    "print('End token F1 score: {0:.4f}'.format(2 * (precision * recall) / (precision + recall)))"
   ]
  },
  {
   "cell_type": "code",
   "execution_count": 107,
   "metadata": {
    "execution": {
     "iopub.execute_input": "2022-02-16T14:12:25.365456Z",
     "iopub.status.busy": "2022-02-16T14:12:25.364871Z",
     "iopub.status.idle": "2022-02-16T14:12:25.375861Z",
     "shell.execute_reply": "2022-02-16T14:12:25.375103Z",
     "shell.execute_reply.started": "2022-02-16T14:12:25.365418Z"
    }
   },
   "outputs": [
    {
     "name": "stdout",
     "output_type": "stream",
     "text": [
      "Validation final results\n",
      "--------------------------------------------------\n",
      "Start token accuracy: 0.7692307829856873\n",
      "Start token recall: 0.6538461446762085\n",
      "Start token precision: 0.9444444179534912\n",
      "Start token F1 score: 0.7727\n",
      "--------------------------------------------------\n",
      "End token accuracy: 0.7307692170143127\n",
      "End token recall: 0.6153846383094788\n",
      "End token precision: 1.0\n",
      "End token F1 score: 0.7619\n"
     ]
    }
   ],
   "source": [
    "#Validation results\n",
    "print('Validation final results')\n",
    "print('--------------------------------------------------')\n",
    "\n",
    "accuracy = history.history['val_start_token_categorical_accuracy'][-1]\n",
    "recall = history.history['val_start_token_recall'][-1]\n",
    "precision = history.history['val_start_token_precision'][-1]\n",
    "\n",
    "print('Start token accuracy: {0}'.format(accuracy))\n",
    "print('Start token recall: {0}'.format(recall))\n",
    "print('Start token precision: {0}'.format(precision))\n",
    "print('Start token F1 score: {0:.4f}'.format( 2 * (precision * recall) / (precision + recall)))\n",
    "\n",
    "print('--------------------------------------------------')\n",
    "\n",
    "accuracy = history.history['val_end_token_categorical_accuracy'][-1]\n",
    "recall = history.history['val_end_token_recall_1'][-1]\n",
    "precision = history.history['val_end_token_precision_1'][-1]\n",
    "\n",
    "print('End token accuracy: {0}'.format(accuracy))\n",
    "print('End token recall: {0}'.format(recall))\n",
    "print('End token precision: {0}'.format(precision))\n",
    "print('End token F1 score: {0:.4f}'.format(2 * (precision * recall) / (precision + recall)))"
   ]
  },
  {
   "cell_type": "code",
   "execution_count": 108,
   "metadata": {
    "execution": {
     "iopub.execute_input": "2022-02-16T14:12:28.225671Z",
     "iopub.status.busy": "2022-02-16T14:12:28.225110Z",
     "iopub.status.idle": "2022-02-16T14:12:28.532668Z",
     "shell.execute_reply": "2022-02-16T14:12:28.531858Z",
     "shell.execute_reply.started": "2022-02-16T14:12:28.225633Z"
    }
   },
   "outputs": [
    {
     "data": {
      "text/plain": [
       "[<matplotlib.lines.Line2D at 0x7f8f56550150>]"
      ]
     },
     "execution_count": 108,
     "metadata": {},
     "output_type": "execute_result"
    },
    {
     "data": {
      "image/png": "[encoded data removed]",
      "text/plain": [
       "<Figure size 1080x360 with 2 Axes>"
      ]
     },
     "metadata": {
      "needs_background": "light"
     },
     "output_type": "display_data"
    }
   ],
   "source": [
    "#Evaluate plotting training & validation loss\n",
    "\n",
    "fig, ax = plt.subplots(1, 2, figsize=(15, 5))\n",
    "\n",
    "ax[0].set_title('Training Loss')\n",
    "ax[0].plot(history.history['loss'],marker = '.',mec = 'r', mfc = 'r')\n",
    "\n",
    "ax[1].set_title('Validation Loss')\n",
    "ax[1].plot(history.history['val_loss'],marker = '.',mec = 'r', mfc = 'r',color=\"green\")\n"
   ]
  },
  {
   "cell_type": "code",
   "execution_count": 109,
   "metadata": {
    "execution": {
     "iopub.execute_input": "2022-02-16T14:12:31.086025Z",
     "iopub.status.busy": "2022-02-16T14:12:31.085731Z",
     "iopub.status.idle": "2022-02-16T14:12:31.811490Z",
     "shell.execute_reply": "2022-02-16T14:12:31.810841Z",
     "shell.execute_reply.started": "2022-02-16T14:12:31.085977Z"
    }
   },
   "outputs": [
    {
     "data": {
      "text/plain": [
       "[<matplotlib.lines.Line2D at 0x7f93fad91f50>]"
      ]
     },
     "execution_count": 109,
     "metadata": {},
     "output_type": "execute_result"
    },
    {
     "data": {
      "image/png": "[encoded data removed]",
      "text/plain": [
       "<Figure size 1080x720 with 6 Axes>"
      ]
     },
     "metadata": {
      "needs_background": "light"
     },
     "output_type": "display_data"
    }
   ],
   "source": [
    "#plotting metrics; accuracy, precision, recall for the first output array\n",
    "fig, ax = plt.subplots(3, 2, figsize=(15, 10))\n",
    "\n",
    "fig.suptitle('First output-start token')\n",
    "\n",
    "ax[0,0].set_title('Training Accuracy')\n",
    "ax[0,0].plot(history.history['start_token_categorical_accuracy'],marker = '.',mec = 'r', mfc = 'r')\n",
    "\n",
    "ax[0,1].set_title('Validation Accuracy')\n",
    "ax[0,1].plot(history.history['val_start_token_categorical_accuracy'],marker = '.',mec = 'r', mfc = 'r',color=\"green\")\n",
    "\n",
    "ax[1,0].set_title('Training Recall')\n",
    "ax[1,0].plot(history.history['start_token_recall'],marker = '.',mec = 'r', mfc = 'r')\n",
    "\n",
    "ax[1,1].set_title('Validation Recall')\n",
    "ax[1,1].plot(history.history['val_start_token_recall'],marker = '.',mec = 'r', mfc = 'r',color=\"green\")\n",
    "\n",
    "ax[2,0].set_title('Training Precision')\n",
    "ax[2,0].plot(history.history['start_token_precision'],marker = '.',mec = 'r', mfc = 'r')\n",
    "\n",
    "ax[2,1].set_title('Validation Precision')\n",
    "ax[2,1].plot(history.history['val_start_token_precision'],marker = '.',mec = 'r', mfc = 'r',color=\"green\")"
   ]
  },
  {
   "cell_type": "code",
   "execution_count": 110,
   "metadata": {
    "execution": {
     "iopub.execute_input": "2022-02-16T14:12:35.174680Z",
     "iopub.status.busy": "2022-02-16T14:12:35.174103Z",
     "iopub.status.idle": "2022-02-16T14:12:35.960523Z",
     "shell.execute_reply": "2022-02-16T14:12:35.959844Z",
     "shell.execute_reply.started": "2022-02-16T14:12:35.174642Z"
    }
   },
   "outputs": [
    {
     "data": {
      "text/plain": [
       "[<matplotlib.lines.Line2D at 0x7f93faaf9650>]"
      ]
     },
     "execution_count": 110,
     "metadata": {},
     "output_type": "execute_result"
    },
    {
     "data": {
      "image/png": "[encoded data removed]",
      "text/plain": [
       "<Figure size 1080x720 with 6 Axes>"
      ]
     },
     "metadata": {
      "needs_background": "light"
     },
     "output_type": "display_data"
    }
   ],
   "source": [
    "#plotting metrics; accuracy, precision, recall for the second output array\n",
    "fig, ax = plt.subplots(3, 2, figsize=(15, 10))\n",
    "\n",
    "fig.suptitle('Second output-end token')\n",
    "\n",
    "ax[0,0].set_title('Training Accuracy')\n",
    "ax[0,0].plot(history.history['end_token_categorical_accuracy'],marker = '.',mec = 'r', mfc = 'r')\n",
    "\n",
    "ax[0,1].set_title('Validation Accuracy')\n",
    "ax[0,1].plot(history.history['val_end_token_categorical_accuracy'],marker = '.',mec = 'r', mfc = 'r',color=\"green\")\n",
    "\n",
    "ax[1,0].set_title('Training Recall')\n",
    "ax[1,0].plot(history.history['end_token_recall_1'],marker = '.',mec = 'r', mfc = 'r')\n",
    "\n",
    "ax[1,1].set_title('Validation Recall')\n",
    "ax[1,1].plot(history.history['val_end_token_recall_1'],marker = '.',mec = 'r', mfc = 'r',color=\"green\")\n",
    "\n",
    "ax[2,0].set_title('Training Precision')\n",
    "ax[2,0].plot(history.history['end_token_precision_1'],marker = '.',mec = 'r', mfc = 'r')\n",
    "\n",
    "ax[2,1].set_title('Validation Precision')\n",
    "ax[2,1].plot(history.history['val_end_token_precision_1'],marker = '.',mec = 'r', mfc = 'r',color=\"green\")"
   ]
  },
  {
   "cell_type": "markdown",
   "metadata": {},
   "source": [
    "### Testing with Live Inputs"
   ]
  },
  {
   "cell_type": "code",
   "execution_count": 111,
   "metadata": {
    "execution": {
     "iopub.execute_input": "2022-02-16T14:12:39.617079Z",
     "iopub.status.busy": "2022-02-16T14:12:39.616151Z",
     "iopub.status.idle": "2022-02-16T14:12:39.625218Z",
     "shell.execute_reply": "2022-02-16T14:12:39.624280Z",
     "shell.execute_reply.started": "2022-02-16T14:12:39.617025Z"
    }
   },
   "outputs": [],
   "source": [
    "# This is a function that takes a question and a long answer as input and returns the predicted start index, end index, and predicted short answer string based on the trained short_model. \n",
    "# The function first encodes the input question and long answer using the same tokenizer used during training. \n",
    "\n",
    "def test_short_answer(question, long_answer):\n",
    "    sentences = [long_answer, question]\n",
    "    \n",
    "    sentences = encode(sentences, tokenizer)\n",
    "    \n",
    "    predictions = short_model.predict(\n",
    "        [np.expand_dims(sentences[0], axis=0), np.expand_dims(sentences[1], axis=0)])\n",
    "    \n",
    "    predictions = np.array(predictions)\n",
    "\n",
    "#Then, it passes the encoded sequences through the short_model to obtain the predicted start and end positions for the short answer. \n",
    "#Finally, it extracts the predicted short answer string based on the predicted start and end indices of the short answer from the long answer.\n",
    "    prediction_start = np.argmax(predictions[0,0])\n",
    "    prediction_end = np.argmax(predictions[1,0])\n",
    "    prediction_string = ' '.join(long_answer.split(' ')[prediction_start:prediction_end])\n",
    "\n",
    "    return prediction_start, prediction_end, prediction_string"
   ]
  },
  {
   "cell_type": "code",
   "execution_count": 112,
   "metadata": {
    "execution": {
     "iopub.execute_input": "2022-02-16T14:12:42.055083Z",
     "iopub.status.busy": "2022-02-16T14:12:42.054782Z",
     "iopub.status.idle": "2022-02-16T14:12:42.059420Z",
     "shell.execute_reply": "2022-02-16T14:12:42.058570Z",
     "shell.execute_reply.started": "2022-02-16T14:12:42.055048Z"
    }
   },
   "outputs": [],
   "source": [
    "question = 'which is the most common use of opt-in e-mail marketing'\n",
    "long_answer = \"<P> A common example of permission marketing is a newsletter sent to an advertising firm 's customers . Such newsletters inform customers of upcoming events or promotions , or new products . In this type of advertising , a company that wants to send a newsletter to their customers may ask them at the point of purchase if they would like to receive the newsletter . </P>\""
   ]
  },
  {
   "cell_type": "code",
   "execution_count": 113,
   "metadata": {
    "execution": {
     "iopub.execute_input": "2022-02-16T14:12:44.944231Z",
     "iopub.status.busy": "2022-02-16T14:12:44.943644Z",
     "iopub.status.idle": "2022-02-16T14:12:46.971153Z",
     "shell.execute_reply": "2022-02-16T14:12:46.970338Z",
     "shell.execute_reply.started": "2022-02-16T14:12:44.944186Z"
    }
   },
   "outputs": [
    {
     "name": "stdout",
     "output_type": "stream",
     "text": [
      "Start token: 9\n",
      "End token: 16\n",
      "Answer: newsletter sent to an advertising firm 's\n"
     ]
    }
   ],
   "source": [
    "start, end, short_answer = test_short_answer(question, long_answer)\n",
    "\n",
    "print('Start token: ' + str(start))\n",
    "print('End token: ' + str(end))\n",
    "print('Answer: ' + short_answer)"
   ]
  },
  {
   "cell_type": "code",
   "execution_count": 114,
   "metadata": {
    "execution": {
     "iopub.execute_input": "2022-02-16T14:12:49.646329Z",
     "iopub.status.busy": "2022-02-16T14:12:49.645616Z",
     "iopub.status.idle": "2022-02-16T14:12:49.652116Z",
     "shell.execute_reply": "2022-02-16T14:12:49.650712Z",
     "shell.execute_reply.started": "2022-02-16T14:12:49.646276Z"
    }
   },
   "outputs": [],
   "source": [
    "question = 'who invented a portable handset'\n",
    "long_answer=\"<P> Martin Cooper invented a portable handset in 1973, when he was a project manager at Motorola. It was almost three decades after the idea of cellular communications was introduced by Bell Laboratories. </P>\""
   ]
  },
  {
   "cell_type": "code",
   "execution_count": 115,
   "metadata": {
    "execution": {
     "iopub.execute_input": "2022-02-16T14:12:53.604527Z",
     "iopub.status.busy": "2022-02-16T14:12:53.604232Z",
     "iopub.status.idle": "2022-02-16T14:12:53.710592Z",
     "shell.execute_reply": "2022-02-16T14:12:53.709761Z",
     "shell.execute_reply.started": "2022-02-16T14:12:53.604494Z"
    }
   },
   "outputs": [
    {
     "name": "stdout",
     "output_type": "stream",
     "text": [
      "Start token: 0\n",
      "End token: 3\n",
      "Answer: <P> Martin Cooper\n"
     ]
    }
   ],
   "source": [
    "start, end, short_answer = test_short_answer(question, long_answer)\n",
    "\n",
    "print('Start token: ' + str(start))\n",
    "print('End token: ' + str(end))\n",
    "print('Answer: ' + short_answer)"
   ]
  },
  {
   "cell_type": "code",
   "execution_count": 116,
   "metadata": {
    "execution": {
     "iopub.execute_input": "2022-02-16T14:12:58.044291Z",
     "iopub.status.busy": "2022-02-16T14:12:58.043747Z",
     "iopub.status.idle": "2022-02-16T14:12:58.048105Z",
     "shell.execute_reply": "2022-02-16T14:12:58.047181Z",
     "shell.execute_reply.started": "2022-02-16T14:12:58.044251Z"
    }
   },
   "outputs": [],
   "source": [
    "question = 'who is the south african high commissioner in london'\n",
    "long_answer = \"<P> Tracy McConnell , better known as `` The Mother '' , is the title character from the CBS television sitcom How I Met Your Mother . The show , narrated by Future Ted , tells the story of how Ted Mosby met The Mother . Tracy McConnell appears in 8 episodes from `` Lucky Penny '' to `` The Time Travelers '' as an unseen character ; she was first seen fully in `` Something New '' and was promoted to a main character in season 9 . The Mother is played by Cristin Milioti . </P>\""
   ]
  },
  {
   "cell_type": "code",
   "execution_count": 117,
   "metadata": {
    "execution": {
     "iopub.execute_input": "2022-02-16T14:13:01.304479Z",
     "iopub.status.busy": "2022-02-16T14:13:01.303901Z",
     "iopub.status.idle": "2022-02-16T14:13:01.895663Z",
     "shell.execute_reply": "2022-02-16T14:13:01.894753Z",
     "shell.execute_reply.started": "2022-02-16T14:13:01.304442Z"
    }
   },
   "outputs": [
    {
     "name": "stdout",
     "output_type": "stream",
     "text": [
      "Start token: 1\n",
      "End token: 3\n",
      "Answer: Tracy McConnell\n"
     ]
    }
   ],
   "source": [
    "start, end, short_answer = test_short_answer(question, long_answer)\n",
    "\n",
    "print('Start token: ' + str(start))\n",
    "print('End token: ' + str(end))\n",
    "print('Answer: ' + short_answer)"
   ]
  },
  {
   "cell_type": "markdown",
   "metadata": {},
   "source": [
    "## 12. End Notes"
   ]
  },
  {
   "cell_type": "markdown",
   "metadata": {},
   "source": [
    "In this project, we have demonstrated how to use TensorFlow 2.0 to build a model that can answer user questions about Wikipedia page content. We have used the Natural Questions dataset to train and evaluate the model.\n",
    "\n",
    "The project is divided into two parts. In **Part 1**, we focused on **identifying the correct long answer to a question**. We pre-processed the text data, defined the embedding layer using GloVe, and built a model using TensorFlow 2.0. We also evaluated the model and obtained good results.\n",
    "\n",
    "In **Part 2**, we focused on **extracting the short answer from a long answer**. We defined a separate model for this purpose, which takes the long answer and question as input and predicts the start and end positions of the short answer. We also evaluated this model and obtained good results.\n",
    "\n",
    "Overall, this project demonstrates the power of deep learning and TensorFlow 2.0 in answering real-world questions using natural language processing. The techniques used in this project can be extended to other applications such as chatbots, virtual assistants, and customer service support."
   ]
  },
  {
   "cell_type": "markdown",
   "metadata": {},
   "source": [
    "**Thank you!**"
   ]
  }
 ],
 "metadata": {
  "kernelspec": {
   "display_name": "Python 3 (ipykernel)",
   "language": "python",
   "name": "python3"
  },
  "language_info": {
   "codemirror_mode": {
    "name": "ipython",
    "version": 3
   },
   "file_extension": ".py",
   "mimetype": "text/x-python",
   "name": "python",
   "nbconvert_exporter": "python",
   "pygments_lexer": "ipython3",
   "version": "3.10.9"
  }
 },
 "nbformat": 4,
 "nbformat_minor": 4
}
